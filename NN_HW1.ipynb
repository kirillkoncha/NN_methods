{
  "nbformat": 4,
  "nbformat_minor": 0,
  "metadata": {
    "colab": {
      "name": "NN_HW1.ipynb",
      "provenance": [],
      "collapsed_sections": []
    },
    "kernelspec": {
      "name": "python3",
      "display_name": "Python 3"
    },
    "language_info": {
      "name": "python"
    }
  },
  "cells": [
    {
      "cell_type": "markdown",
      "metadata": {
        "id": "k24P_ErP0_xF"
      },
      "source": [
        "# Импорт и установка всего нужного"
      ]
    },
    {
      "cell_type": "code",
      "metadata": {
        "id": "5dKpoJDYM-3h",
        "colab": {
          "base_uri": "https://localhost:8080/"
        },
        "outputId": "30db08cc-0b9e-479a-c902-9668141bdfb2"
      },
      "source": [
        "!pip install langdetect"
      ],
      "execution_count": 2,
      "outputs": [
        {
          "output_type": "stream",
          "name": "stdout",
          "text": [
            "Requirement already satisfied: langdetect in /usr/local/lib/python3.7/dist-packages (1.0.9)\n",
            "Requirement already satisfied: six in /usr/local/lib/python3.7/dist-packages (from langdetect) (1.15.0)\n"
          ]
        }
      ]
    },
    {
      "cell_type": "code",
      "metadata": {
        "id": "TUPoplNU6wm0",
        "colab": {
          "base_uri": "https://localhost:8080/"
        },
        "outputId": "f8d4ffdc-c28b-4f1a-ce3f-9b574034e8a7"
      },
      "source": [
        "import nltk\n",
        "import pandas as pd\n",
        "import numpy as np\n",
        "import collections\n",
        "import matplotlib.pyplot as plt\n",
        "import regex\n",
        "\n",
        "\n",
        "from nltk.stem import WordNetLemmatizer\n",
        "from nltk.tokenize import RegexpTokenizer\n",
        "from nltk.corpus import stopwords\n",
        "from langdetect import detect\n",
        "from matplotlib.pyplot import figure\n",
        "from sklearn.model_selection import train_test_split\n",
        "from sklearn.feature_extraction.text import CountVectorizer\n",
        "from sklearn.naive_bayes import GaussianNB\n",
        "from sklearn.ensemble import RandomForestClassifier\n",
        "from sklearn.feature_extraction.text import TfidfTransformer\n",
        "from sklearn.naive_bayes import MultinomialNB\n",
        "from sklearn.pipeline import Pipeline\n",
        "from sklearn.multiclass import OneVsOneClassifier\n",
        "from sklearn.multiclass import OneVsOneClassifier\n",
        "from sklearn.linear_model import LogisticRegression\n",
        "from sklearn.svm import LinearSVC\n",
        "from sklearn.naive_bayes import MultinomialNB\n",
        "from sklearn.feature_extraction.text import TfidfVectorizer\n",
        "from sklearn.metrics import f1_score\n",
        "from sklearn.linear_model import LinearRegression\n",
        "from sklearn.metrics import plot_confusion_matrix\n",
        "from sklearn.model_selection import cross_val_score, GridSearchCV\n",
        "from sklearn.metrics import classification_report\n",
        "from sklearn.model_selection import RandomizedSearchCV\n",
        "from sklearn.ensemble import RandomForestRegressor\n",
        "from sklearn.utils import resample,shuffle\n",
        "from sklearn.preprocessing import StandardScaler\n",
        "from sklearn.linear_model import RidgeCV\n",
        "from scipy import stats\n",
        "from sklearn.metrics import mean_squared_error\n",
        "from sklearn.metrics import mean_squared_error\n",
        "from sklearn.metrics import mean_absolute_error\n",
        "\n",
        "\n",
        "c = collections.Counter()\n",
        "nltk.download('punkt')\n",
        "nltk.download('wordnet')\n",
        "nltk.download('stopwords')\n",
        "stopword = stopwords.words('english')\n",
        "tokenizer = RegexpTokenizer(r'\\w+')\n",
        "lemmatizer = WordNetLemmatizer()"
      ],
      "execution_count": 144,
      "outputs": [
        {
          "output_type": "stream",
          "name": "stdout",
          "text": [
            "[nltk_data] Downloading package punkt to /root/nltk_data...\n",
            "[nltk_data]   Package punkt is already up-to-date!\n",
            "[nltk_data] Downloading package wordnet to /root/nltk_data...\n",
            "[nltk_data]   Package wordnet is already up-to-date!\n",
            "[nltk_data] Downloading package stopwords to /root/nltk_data...\n",
            "[nltk_data]   Package stopwords is already up-to-date!\n"
          ]
        }
      ]
    },
    {
      "cell_type": "code",
      "metadata": {
        "id": "0PpRSUy9RnwZ"
      },
      "source": [
        "shoes_data = pd.read_csv('Shoes_Data.csv')"
      ],
      "execution_count": 19,
      "outputs": []
    },
    {
      "cell_type": "markdown",
      "metadata": {
        "id": "K_YCBR9H-Ljj"
      },
      "source": [
        "# Задача 1"
      ]
    },
    {
      "cell_type": "markdown",
      "metadata": {
        "id": "cIvR60pKFZr3"
      },
      "source": [
        "Считаем текст, лемматизируем и выкинем стоп-слова. Не будем распознавать языки, так как кажется все описания на английском либо на языке с другой (нелатинской письменностью). Поэтому просто выкинем нелатинский текст."
      ]
    },
    {
      "cell_type": "code",
      "metadata": {
        "id": "9Uk5g4wZ-UNS"
      },
      "source": [
        "texts = []\n",
        "prices = []\n",
        "\n",
        "\n",
        "for descp in shoes_data['product_description']:\n",
        "    cleared = regex.sub(r'[^\\p{Latin}]', u' ', descp)\n",
        "    tokens = tokenizer.tokenize(cleared.lower())\n",
        "    lemmas = [lemmatizer.lemmatize(token) for token in tokens \n",
        "              if lemmatizer.lemmatize(token) not  in stopword]\n",
        "    processed_text = ' '.join(lemmas)\n",
        "    texts.append(processed_text)\n",
        "\n",
        "prices = []\n",
        "\n",
        "for price in shoes_data['price']:\n",
        "    prices.append(price.lstrip('₹'))\n",
        "\n",
        "\n",
        "df = pd.DataFrame({'Description': texts, 'Price': prices})\n",
        "df['Price'] = pd.to_numeric(df['Price'])"
      ],
      "execution_count": 99,
      "outputs": []
    },
    {
      "cell_type": "markdown",
      "metadata": {
        "id": "jGbo5Oe36Wzx"
      },
      "source": [
        "Для начала нормализуем данные по цене."
      ]
    },
    {
      "cell_type": "code",
      "metadata": {
        "id": "ur_gYU72JZMW"
      },
      "source": [
        "normalized_df_price=(df['Price']-df['Price'].min())/(df['Price'].max()-df['Price'].min())"
      ],
      "execution_count": 100,
      "outputs": []
    },
    {
      "cell_type": "code",
      "metadata": {
        "id": "xBfigIEsJeRg"
      },
      "source": [
        "df['Price'] = normalized_df_price"
      ],
      "execution_count": 101,
      "outputs": []
    },
    {
      "cell_type": "markdown",
      "metadata": {
        "id": "ilHzTyFK6ZjR"
      },
      "source": [
        "Теперь заплотим их: видно, что есть много выбросов. Постараемся эти выбросы убрать. Для этого уберем все, что выходит за пределы 2 средних отклонений."
      ]
    },
    {
      "cell_type": "code",
      "metadata": {
        "colab": {
          "base_uri": "https://localhost:8080/",
          "height": 265
        },
        "id": "Yv2wCeZUJj74",
        "outputId": "67d29a38-0530-4635-8998-61b5f6e88038"
      },
      "source": [
        "boxplot = df.boxplot(column=['Price'])"
      ],
      "execution_count": 102,
      "outputs": [
        {
          "output_type": "display_data",
          "data": {
            "image/png": "[encoded data removed]",
            "text/plain": [
              "<Figure size 432x288 with 1 Axes>"
            ]
          },
          "metadata": {
            "needs_background": "light"
          }
        }
      ]
    },
    {
      "cell_type": "code",
      "metadata": {
        "id": "LlfEGpUoqJe6"
      },
      "source": [
        "df_std = df[(np.abs(stats.zscore(df['Price'])) < 2)]"
      ],
      "execution_count": 103,
      "outputs": []
    },
    {
      "cell_type": "markdown",
      "metadata": {
        "id": "ssu-0HTY6kvy"
      },
      "source": [
        "Снова заплотим. Стало лучше."
      ]
    },
    {
      "cell_type": "code",
      "metadata": {
        "colab": {
          "base_uri": "https://localhost:8080/",
          "height": 267
        },
        "id": "o6ya9EQRt_dc",
        "outputId": "fd88997a-433e-4660-e2ad-46dd1df2014e"
      },
      "source": [
        "boxplot = df_std.boxplot(column=['Price'])"
      ],
      "execution_count": 104,
      "outputs": [
        {
          "output_type": "display_data",
          "data": {
            "image/png": "[encoded data removed]",
            "text/plain": [
              "<Figure size 432x288 with 1 Axes>"
            ]
          },
          "metadata": {
            "needs_background": "light"
          }
        }
      ]
    },
    {
      "cell_type": "markdown",
      "metadata": {
        "id": "lT3qp-hW9S4z"
      },
      "source": [
        "Построим две модели регрессии: Ridge CV и простую линейную регрессию. Посмотрим по средней абсолютной ошибке, какая лучшая."
      ]
    },
    {
      "cell_type": "code",
      "metadata": {
        "id": "irJG2G-stKTu"
      },
      "source": [
        "parameters_ridge = {'vectorizer__ngram_range': [(1, 1), (1, 2), (2,2)],\n",
        "               'tfidf__use_idf': (True, False),\n",
        "               'tfidf__smooth_idf': (True, False),\n",
        "               'tfidf__sublinear_tf': (True, False),\n",
        "               'regressor__normalize': (True, False)}"
      ],
      "execution_count": 105,
      "outputs": []
    },
    {
      "cell_type": "markdown",
      "metadata": {
        "id": "1NWnAiE44svq"
      },
      "source": [
        "Посмотрим, сколько всего уникальных значений цены -- 590. Описаний у нас 1к с чем-то. То есть n_samples > n_features. Значит, будем использовать gcv_mode = 'auto' в Ridge CV."
      ]
    },
    {
      "cell_type": "code",
      "metadata": {
        "colab": {
          "base_uri": "https://localhost:8080/"
        },
        "id": "rPeFoAHULiAb",
        "outputId": "d3da1e8c-4743-4b80-b606-ba75416d1657"
      },
      "source": [
        "len(df_std['Price'].unique())"
      ],
      "execution_count": 106,
      "outputs": [
        {
          "output_type": "execute_result",
          "data": {
            "text/plain": [
              "590"
            ]
          },
          "metadata": {},
          "execution_count": 106
        }
      ]
    },
    {
      "cell_type": "code",
      "metadata": {
        "id": "DAdYq6cGxJDJ"
      },
      "source": [
        "ridge = Pipeline([('vectorizer', CountVectorizer()),\n",
        " ('tfidf', TfidfTransformer()),\n",
        " ('regressor', RidgeCV(gcv_mode='auto'))])\n",
        "\n",
        "train, test = train_test_split(df_std, test_size=0.2, random_state=42)"
      ],
      "execution_count": 131,
      "outputs": []
    },
    {
      "cell_type": "code",
      "metadata": {
        "id": "moeGlsMbxxG_",
        "colab": {
          "base_uri": "https://localhost:8080/"
        },
        "outputId": "4738f792-e054-48cc-e77c-e4f0a2922105"
      },
      "source": [
        "gs_clf_ridge = GridSearchCV(ridge, parameters_ridge, scoring='neg_mean_absolute_error', cv = 5)\n",
        "\n",
        "gs_clf_ridge = gs_clf_ridge.fit(train['Description'], train['Price'])\n",
        "print(gs_clf_ridge.best_score_)\n",
        "print(gs_clf_ridge.best_params_)"
      ],
      "execution_count": 108,
      "outputs": [
        {
          "output_type": "stream",
          "name": "stdout",
          "text": [
            "-0.057939270645901444\n",
            "{'regressor__normalize': False, 'tfidf__smooth_idf': False, 'tfidf__sublinear_tf': True, 'tfidf__use_idf': True, 'vectorizer__ngram_range': (1, 2)}\n"
          ]
        }
      ]
    },
    {
      "cell_type": "code",
      "metadata": {
        "id": "B2GZ2GII8W7E"
      },
      "source": [
        "linear_regression = Pipeline([('vectorizer', CountVectorizer()),\n",
        " ('tfidf', TfidfTransformer()),\n",
        " ('regressor', LinearRegression())])"
      ],
      "execution_count": 113,
      "outputs": []
    },
    {
      "cell_type": "code",
      "metadata": {
        "id": "X2jWiJKGw9ZD"
      },
      "source": [
        "parameters_linear_regression = {'vectorizer__ngram_range': [(1, 1), (1, 2), (2,2)],\n",
        "               'tfidf__use_idf': (True, False),\n",
        "               'tfidf__smooth_idf': (True, False),\n",
        "               'tfidf__sublinear_tf': (True, False),\n",
        "               'regressor__normalize': (True, False)}"
      ],
      "execution_count": 114,
      "outputs": []
    },
    {
      "cell_type": "code",
      "metadata": {
        "colab": {
          "base_uri": "https://localhost:8080/"
        },
        "id": "2UzzfduE8QGT",
        "outputId": "11b432c5-38d3-43b2-af58-3fe61159cb2c"
      },
      "source": [
        "gs_clf_linear_regression = GridSearchCV(linear_regression, parameters_linear_regression, scoring='neg_mean_absolute_error', cv = 5)\n",
        "\n",
        "gs_clf_linear_regression = gs_clf_linear_regression.fit(train['Description'], train['Price'])\n",
        "print(gs_clf_linear_regression.best_score_)\n",
        "print(gs_clf_linear_regression.best_params_)"
      ],
      "execution_count": 115,
      "outputs": [
        {
          "output_type": "stream",
          "name": "stdout",
          "text": [
            "-0.06334655058683886\n",
            "{'regressor__normalize': True, 'tfidf__smooth_idf': False, 'tfidf__sublinear_tf': True, 'tfidf__use_idf': True, 'vectorizer__ngram_range': (2, 2)}\n"
          ]
        }
      ]
    },
    {
      "cell_type": "markdown",
      "metadata": {
        "id": "H6k10sxR-19g"
      },
      "source": [
        "Лучший результат показывает Ridge CV. Посмотрим, как он справляется на тесте."
      ]
    },
    {
      "cell_type": "code",
      "metadata": {
        "id": "aPp3m3PNCQWG"
      },
      "source": [
        "test = test.sort_values('Price')"
      ],
      "execution_count": 132,
      "outputs": []
    },
    {
      "cell_type": "code",
      "metadata": {
        "id": "FhPCb3je-4ge"
      },
      "source": [
        "preds = gs_clf_ridge.predict(test['Description'])"
      ],
      "execution_count": 133,
      "outputs": []
    },
    {
      "cell_type": "code",
      "metadata": {
        "id": "xwyIB-K6BPtD"
      },
      "source": [
        "x = range(0, len(test['Price']))"
      ],
      "execution_count": 134,
      "outputs": []
    },
    {
      "cell_type": "markdown",
      "metadata": {
        "id": "34HmN72fD8q4"
      },
      "source": [
        "Построим график с реальной ценой и предсказанной. Иногда модель ведет себя очень плохо. Можно видеть, что чем выше цена, тем хуже модель предсказывает ее, и на большой цене ее начинает \"кренить\" вниз. Возможно, это из-за того, что мы выкинули средние отклонения. Посмотрим на результат, если ничего не выкидывать из датафрейма."
      ]
    },
    {
      "cell_type": "code",
      "metadata": {
        "colab": {
          "base_uri": "https://localhost:8080/",
          "height": 282
        },
        "id": "bdp8KN2jBZTO",
        "outputId": "a5f45fb9-e3c5-4cae-c10d-73f361a1b7cb"
      },
      "source": [
        "plt.plot(x, test['Price'], label = 'True values')\n",
        "plt.plot(x, preds, label = 'Predicted values')\n",
        "plt.legend()"
      ],
      "execution_count": 135,
      "outputs": [
        {
          "output_type": "execute_result",
          "data": {
            "text/plain": [
              "<matplotlib.legend.Legend at 0x7f239394cc90>"
            ]
          },
          "metadata": {},
          "execution_count": 135
        },
        {
          "output_type": "display_data",
          "data": {
            "image/png": "[encoded data removed]",
            "text/plain": [
              "<Figure size 432x288 with 1 Axes>"
            ]
          },
          "metadata": {
            "needs_background": "light"
          }
        }
      ]
    },
    {
      "cell_type": "code",
      "metadata": {
        "colab": {
          "base_uri": "https://localhost:8080/"
        },
        "id": "62eX9CqlBzlL",
        "outputId": "66d1696b-e4fd-4a7c-bb45-bf677e438aa6"
      },
      "source": [
        "train_2, test_2 = train_test_split(df, test_size=0.2, random_state=42)\n",
        "gs_clf_linear_regression.fit(train['Description'], train['Price'])"
      ],
      "execution_count": 136,
      "outputs": [
        {
          "output_type": "execute_result",
          "data": {
            "text/plain": [
              "GridSearchCV(cv=5, error_score=nan,\n",
              "             estimator=Pipeline(memory=None,\n",
              "                                steps=[('vectorizer',\n",
              "                                        CountVectorizer(analyzer='word',\n",
              "                                                        binary=False,\n",
              "                                                        decode_error='strict',\n",
              "                                                        dtype=<class 'numpy.int64'>,\n",
              "                                                        encoding='utf-8',\n",
              "                                                        input='content',\n",
              "                                                        lowercase=True,\n",
              "                                                        max_df=1.0,\n",
              "                                                        max_features=None,\n",
              "                                                        min_df=1,\n",
              "                                                        ngram_range=(1, 1),\n",
              "                                                        preprocessor=None,\n",
              "                                                        stop_words=None,\n",
              "                                                        strip_accents=None,\n",
              "                                                        token_pattern...\n",
              "                                                         normalize=False))],\n",
              "                                verbose=False),\n",
              "             iid='deprecated', n_jobs=None,\n",
              "             param_grid={'regressor__normalize': (True, False),\n",
              "                         'tfidf__smooth_idf': (True, False),\n",
              "                         'tfidf__sublinear_tf': (True, False),\n",
              "                         'tfidf__use_idf': (True, False),\n",
              "                         'vectorizer__ngram_range': [(1, 1), (1, 2), (2, 2)]},\n",
              "             pre_dispatch='2*n_jobs', refit=True, return_train_score=False,\n",
              "             scoring='neg_mean_absolute_error', verbose=0)"
            ]
          },
          "metadata": {},
          "execution_count": 136
        }
      ]
    },
    {
      "cell_type": "code",
      "metadata": {
        "id": "fLkHTOY-GnG_"
      },
      "source": [
        "test_2 = test_2.sort_values('Price')\n",
        "preds_2 = gs_clf_ridge.predict(test_2['Description'])\n",
        "x = range(0, len(test_2['Price']))"
      ],
      "execution_count": 137,
      "outputs": []
    },
    {
      "cell_type": "markdown",
      "metadata": {
        "id": "IBDeyllLHfpU"
      },
      "source": [
        "Можно видеть, что если оставить выбросы, то они негативно будут влиять на модель, они все равно на них не будет предсказывать близкие к корректным значения и будет \"отягощаться\" вниз, поэтому мы правильно сделали, что сначала убрали выбросы."
      ]
    },
    {
      "cell_type": "code",
      "metadata": {
        "colab": {
          "base_uri": "https://localhost:8080/",
          "height": 284
        },
        "id": "YKPnHv57GxOp",
        "outputId": "aa77e78e-f1c4-4035-e4f7-afa0a885b650"
      },
      "source": [
        "plt.plot(x, test_2['Price'], label = 'True values')\n",
        "plt.plot(x, preds_2, label = 'Predicted values')\n",
        "plt.legend()"
      ],
      "execution_count": 138,
      "outputs": [
        {
          "output_type": "execute_result",
          "data": {
            "text/plain": [
              "<matplotlib.legend.Legend at 0x7f2393843e50>"
            ]
          },
          "metadata": {},
          "execution_count": 138
        },
        {
          "output_type": "display_data",
          "data": {
            "image/png": "[encoded data removed]",
            "text/plain": [
              "<Figure size 432x288 with 1 Axes>"
            ]
          },
          "metadata": {
            "needs_background": "light"
          }
        }
      ]
    },
    {
      "cell_type": "markdown",
      "metadata": {
        "id": "pMaVffi1Ig1t"
      },
      "source": [
        "Сравним метрики двух подходов. Сначала с убранными выбросами:"
      ]
    },
    {
      "cell_type": "code",
      "metadata": {
        "colab": {
          "base_uri": "https://localhost:8080/"
        },
        "id": "VpxeGDOhIkNE",
        "outputId": "9cf53b68-5ea0-49e2-e882-d25a2f34ff17"
      },
      "source": [
        "mse = mean_squared_error(test['Price'], preds)\n",
        "me = mean_squared_error(test['Price'], preds, squared=False)\n",
        "mae = mean_absolute_error(test['Price'], preds)\n",
        "\n",
        "print('mse: ')\n",
        "print(mse)\n",
        "print('me: ')\n",
        "print(me)\n",
        "print('mae: ')\n",
        "print(mae)"
      ],
      "execution_count": 145,
      "outputs": [
        {
          "output_type": "stream",
          "name": "stdout",
          "text": [
            "mse: \n",
            "0.00675941554354957\n",
            "me: \n",
            "0.08221566483067305\n",
            "mae: \n",
            "0.0539739601608981\n"
          ]
        }
      ]
    },
    {
      "cell_type": "markdown",
      "metadata": {
        "id": "StSYig-sKjg4"
      },
      "source": [
        "Без убранных выбросов:"
      ]
    },
    {
      "cell_type": "code",
      "metadata": {
        "colab": {
          "base_uri": "https://localhost:8080/"
        },
        "id": "SqEo1CbFKllL",
        "outputId": "e6da6b31-615b-458e-ffa6-f16304e7056d"
      },
      "source": [
        "mse = mean_squared_error(test_2['Price'], preds_2)\n",
        "me = mean_squared_error(test_2['Price'], preds_2, squared=False)\n",
        "mae = mean_absolute_error(test_2['Price'], preds_2)\n",
        "\n",
        "print('mse: ')\n",
        "print(mse)\n",
        "print('me: ')\n",
        "print(me)\n",
        "print('mae: ')\n",
        "print(mae)"
      ],
      "execution_count": 146,
      "outputs": [
        {
          "output_type": "stream",
          "name": "stdout",
          "text": [
            "mse: \n",
            "0.01620944938093578\n",
            "me: \n",
            "0.12731633587617805\n",
            "mae: \n",
            "0.060916494418745235\n"
          ]
        }
      ]
    },
    {
      "cell_type": "markdown",
      "metadata": {
        "id": "NmWEZ92KKuP3"
      },
      "source": [
        "С убранными выбросами модель дает лучшие метрики. Поэтому убирать их было правильным решением.\n",
        "\n",
        "Качество модели можно улучшить, во-первых, засчет новых данных, которые бы охватывали все цены, чтобы выбросов стало меньше. Во-вторых можно еще посмотреть на \"пол\" обуви. Например, женские туфли в целом могут быть дороже мужских. \n",
        "\n",
        "Важным аспектом, который можно было бы в дальнейшем учесть являются названия. Можно было бы их также векторизовать или стараться вытащить именно названия марок (попробовать NER-тэггер, например, сделать это с помощью natasha). Обувь одной фирмы может быть в целом дороже, чем обувь другой. "
      ]
    },
    {
      "cell_type": "markdown",
      "metadata": {
        "id": "6AITx6CE1H05"
      },
      "source": [
        "# Задача 2\n",
        "\n",
        "Разбиваем ревью на каждый товар и оценки, делаем из этого один датафрейм. Токенезируем и лемматизируем текcты. Уберем стоп-слова. Также в процессе определим язык. Важно определять язык до лемматизации, так как это повысит эффективность определятора (чем когда он будет смотреть на лемматизированную строку). Я использую try-except, потому что библиотека не всегда может определить язык (недостаточно данных или просто пустая строка), в таком случае добавляю undetermined.\n",
        "\n",
        "Кроме того, язык также важно определять именно распознавателем, потому что в отзывах есть языки с латинской письменностью. На них не будет работать лемматизация и это ненужный шум.\n"
      ]
    },
    {
      "cell_type": "code",
      "metadata": {
        "id": "gjc2qHVwSjKr"
      },
      "source": [
        "#удалим not из стопслов, так как это может иметь значение при определении оценки\n",
        "stopword.remove('not')\n",
        "reviews_texts = []\n",
        "languages = []\n",
        "for reviews in shoes_data['reviews']:\n",
        "  texts = reviews.split('|| ')\n",
        "  for text in texts:\n",
        "    try:\n",
        "      languages.append(detect(text))\n",
        "    except:\n",
        "      languages.append('undetermined')\n",
        "    tokens = tokenizer.tokenize(text.lower())\n",
        "    lemmas = [lemmatizer.lemmatize(token) for token in tokens \n",
        "              if lemmatizer.lemmatize(token) not  in stopword]\n",
        "    processed_text = ' '.join(lemmas)\n",
        "    reviews_texts.append(processed_text)"
      ],
      "execution_count": null,
      "outputs": []
    },
    {
      "cell_type": "code",
      "metadata": {
        "id": "Hk5xGYsqUzWs"
      },
      "source": [
        "reviews_ratings = []\n",
        "\n",
        "for reviews in shoes_data['reviews_rating']:\n",
        "  ratings = reviews.split('|| ')\n",
        "  for rating in ratings:\n",
        "    reviews_ratings.append(rating[0])\n"
      ],
      "execution_count": null,
      "outputs": []
    },
    {
      "cell_type": "markdown",
      "metadata": {
        "id": "G_up2bi-3UNy"
      },
      "source": [
        "Создаем датафрейм с текстом и оценкой. Конвертируем строки с оценкой в числа."
      ]
    },
    {
      "cell_type": "code",
      "metadata": {
        "id": "Ig-dr5shVP_-"
      },
      "source": [
        "df = pd.DataFrame({'Texts': reviews_texts, 'Ratings': reviews_ratings, \n",
        "                   'Lang': languages})\n",
        "df['Ratings'] = pd.to_numeric(df['Ratings'])"
      ],
      "execution_count": null,
      "outputs": []
    },
    {
      "cell_type": "markdown",
      "metadata": {
        "id": "3mX1HnykVY0a"
      },
      "source": [
        "Посмотрим сколько отзывов на каком языке написаны. Английский язык очень сильно доминирует. Можно также заметить, что в датасете есть отзывы на других языках с латинской письменностью. Имеет смысл делать анализ тональности только для английского языка. Так как лемматизация проводилась только для английского языка, а других языков много, но отзывов с ними мало -- они будут лишь играть роль информационного шума."
      ]
    },
    {
      "cell_type": "code",
      "metadata": {
        "colab": {
          "base_uri": "https://localhost:8080/",
          "height": 681
        },
        "id": "7wbAayk1RHhg",
        "outputId": "549a3f1a-823c-46bd-f567-c088c6d7e2d3"
      },
      "source": [
        "for language in languages:\n",
        "  c[language] += 1\n",
        "figure(figsize=(8, 8), dpi=100)\n",
        "plt.bar(c.keys(), c.values())"
      ],
      "execution_count": null,
      "outputs": [
        {
          "output_type": "execute_result",
          "data": {
            "text/plain": [
              "<BarContainer object of 35 artists>"
            ]
          },
          "metadata": {},
          "execution_count": 18
        },
        {
          "output_type": "display_data",
          "data": {
            "image/png": "[encoded data removed]",
            "text/plain": [
              "<Figure size 800x800 with 1 Axes>"
            ]
          },
          "metadata": {
            "needs_background": "light"
          }
        }
      ]
    },
    {
      "cell_type": "markdown",
      "metadata": {
        "id": "GnemlW4L3WCh"
      },
      "source": [
        "Часто в отзывах нет слов и они состоят только из оценки, это плохо, потому что пустая строка может быть у оценки 5, и оценки 2, и любой другой. Эта пустая строка сведет нашу модель с ума, поэтому выкинем ее.\n",
        "\n",
        "Также выкинем отзывы не на английском языке."
      ]
    },
    {
      "cell_type": "code",
      "metadata": {
        "id": "KzLQiRAqclDm"
      },
      "source": [
        "df.drop(df.loc[df['Texts']==''].index, inplace=True)\n",
        "df.drop(df.loc[df['Texts']==' '].index, inplace=True)\n",
        "df.drop(df.loc[df['Lang']!='en'].index, inplace=True)"
      ],
      "execution_count": null,
      "outputs": []
    },
    {
      "cell_type": "markdown",
      "metadata": {
        "id": "zfWBADJV5znA"
      },
      "source": [
        "Кроме того, просматривая тексты отзывов я наткнулся на словосочетания 'verified purchase' и 'report abuse', которое тоже свойственно разным оценкам. Поэтому его я тоже выкину"
      ]
    },
    {
      "cell_type": "code",
      "metadata": {
        "id": "ApLkrOia5n4p"
      },
      "source": [
        "df.drop(df.loc[df['Texts']=='verified purchase'].index, inplace=True)\n",
        "df.drop(df.loc[df['Texts']=='report abuse'].index, inplace=True)"
      ],
      "execution_count": null,
      "outputs": []
    },
    {
      "cell_type": "markdown",
      "metadata": {
        "id": "rOeAgCaS6S9X"
      },
      "source": [
        "Посмотрим на количество отзывов для каждой из оценок. Видно, что больше всего отзывов с оценкой 5. \n",
        "\n",
        "С одной стороны, дисбаланс это плохо и может привести к переобучению. \n",
        "\n",
        "С другой стороны, есть [исследование](https://link.springer.com/chapter/10.1007/978-3-642-23851-2_17), что результаты на несбалансированном датасете даже оказываются в целом лучше. Однако в этом исследовании отзывы делились на положительные и отрицательные. В наших же данных -- пять оценок, поэтому будет разумно данные сбалансировать. Это можно сделать двумя способами: выкинуть часть данных (например, некоторое количество отзывов с оценкой 5) или продублировать некоторые отзывы (up sample). Но если мы будем дублировать отзывы, то сначала следует разделить на train и test, чтобы в test'е не было копий отзывов из train'а."
      ]
    },
    {
      "cell_type": "markdown",
      "metadata": {
        "id": "hR9T0dGP4_fC"
      },
      "source": [
        "Разобьем данные на test и train с соотношением 0.8 и 0.2."
      ]
    },
    {
      "cell_type": "code",
      "metadata": {
        "id": "s2LHxJN94m8K"
      },
      "source": [
        "train, test = train_test_split(df, test_size=0.2, random_state=42)"
      ],
      "execution_count": null,
      "outputs": []
    },
    {
      "cell_type": "code",
      "metadata": {
        "id": "6XvjyUnZUM6r",
        "colab": {
          "base_uri": "https://localhost:8080/",
          "height": 281
        },
        "outputId": "a5cf4756-191a-42b4-959b-9f34afaeaf2b"
      },
      "source": [
        "values_reviews_numbers = [train[train.Ratings == 1].shape[0],\n",
        "          train[train.Ratings == 2].shape[0],\n",
        "          train[train.Ratings == 3].shape[0],\n",
        "          train[train.Ratings == 4].shape[0],\n",
        "          train[train.Ratings == 5].shape[0]]\n",
        "bars = ('1', '2', '3', '4', '5')\n",
        "y_pos = np.arange(len(bars))\n",
        "\n",
        "plt.bar(y_pos, values_reviews_numbers)\n",
        "plt.xticks(y_pos, bars)\n",
        "plt.title('Количество отзывов по оценкам')\n",
        "plt.show()"
      ],
      "execution_count": null,
      "outputs": [
        {
          "output_type": "display_data",
          "data": {
            "image/png": "[encoded data removed]",
            "text/plain": [
              "<Figure size 432x288 with 1 Axes>"
            ]
          },
          "metadata": {
            "needs_background": "light"
          }
        }
      ]
    },
    {
      "cell_type": "markdown",
      "metadata": {
        "id": "ZYb4TbKfsoIk"
      },
      "source": [
        "Еще один важный момент: количество отзывов важно, но не менее важна длина отзывов, поэтому прежде чем балансировать отзывы, нужно взглянуть на их длину. Например, в народе есть общее представление, что негативные отзывы в целом длиннее положительных. \n",
        "\n",
        "Посчитаем длину каждого отзыва и построим график."
      ]
    },
    {
      "cell_type": "code",
      "metadata": {
        "id": "v4aqRoWIZ3Ie",
        "colab": {
          "base_uri": "https://localhost:8080/"
        },
        "outputId": "a4f94605-57a8-4fdc-8e98-e3efb96bc64d"
      },
      "source": [
        "train['Text_length'] = train.Texts.str.split().str.len()"
      ],
      "execution_count": null,
      "outputs": [
        {
          "output_type": "stream",
          "name": "stderr",
          "text": [
            "/usr/local/lib/python3.7/dist-packages/ipykernel_launcher.py:1: SettingWithCopyWarning: \n",
            "A value is trying to be set on a copy of a slice from a DataFrame.\n",
            "Try using .loc[row_indexer,col_indexer] = value instead\n",
            "\n",
            "See the caveats in the documentation: https://pandas.pydata.org/pandas-docs/stable/user_guide/indexing.html#returning-a-view-versus-a-copy\n",
            "  \"\"\"Entry point for launching an IPython kernel.\n"
          ]
        }
      ]
    },
    {
      "cell_type": "code",
      "metadata": {
        "colab": {
          "base_uri": "https://localhost:8080/",
          "height": 281
        },
        "id": "LkcoSfFpt4SL",
        "outputId": "a601023d-40aa-4453-9aad-8cf088096587"
      },
      "source": [
        "values_reviews_len = [sum(train[train.Ratings == 1].Text_length.values),\n",
        "                      sum(train[train.Ratings == 2].Text_length.values),\n",
        "                      sum(train[train.Ratings == 3].Text_length.values),\n",
        "                      sum(train[train.Ratings == 4].Text_length.values),\n",
        "                      sum(train[train.Ratings == 5].Text_length.values)]\n",
        "plt.bar(y_pos, values_reviews_len)\n",
        "plt.xticks(y_pos, bars)\n",
        "plt.title('Длина отзывов по оценкам')\n",
        "plt.show()"
      ],
      "execution_count": null,
      "outputs": [
        {
          "output_type": "display_data",
          "data": {
            "image/png": "[encoded data removed]",
            "text/plain": [
              "<Figure size 432x288 with 1 Axes>"
            ]
          },
          "metadata": {
            "needs_background": "light"
          }
        }
      ]
    },
    {
      "cell_type": "markdown",
      "metadata": {
        "id": "jRpkWT3A4JTh"
      },
      "source": [
        "Сделаем upsample всех отзывов (кроме отзывов с оценкой 5) до количества 1700."
      ]
    },
    {
      "cell_type": "code",
      "metadata": {
        "id": "pVTyTFxZxvC-"
      },
      "source": [
        "train_1 = train[train['Ratings'] == 1]\n",
        "train_2 = train[train['Ratings'] == 2]\n",
        "train_3 = train[train['Ratings'] == 3]\n",
        "train_4 = train[train['Ratings'] == 4]\n",
        "train_5 = train[train['Ratings'] == 5]\n",
        "\n",
        "train_1_upsampled = resample(train_1,random_state=42,n_samples=1700,replace=True)\n",
        "train_2_upsampled = resample(train_2,random_state=42,n_samples=1700,replace=True)\n",
        "train_3_upsampled = resample(train_3,random_state=42,n_samples=1700,replace=True)\n",
        "train_4_upsampled = resample(train_4,random_state=42,n_samples=1700,replace=True)\n",
        "\n",
        "train_upsampled= pd.concat([train_5, train_1_upsampled, \n",
        "                            train_2_upsampled, train_3_upsampled,\n",
        "                            train_4_upsampled])"
      ],
      "execution_count": null,
      "outputs": []
    },
    {
      "cell_type": "code",
      "metadata": {
        "colab": {
          "base_uri": "https://localhost:8080/",
          "height": 281
        },
        "id": "i98rWlGIzaIb",
        "outputId": "60a52e1a-822d-4421-f452-34fc6fbed89d"
      },
      "source": [
        "values_reviews_len = [sum(train_upsampled[train_upsampled.Ratings == 1].Text_length.values),\n",
        "                      sum(train_upsampled[train_upsampled.Ratings == 2].Text_length.values),\n",
        "                      sum(train_upsampled[train_upsampled.Ratings == 3].Text_length.values),\n",
        "                      sum(train_upsampled[train_upsampled.Ratings == 4].Text_length.values),\n",
        "                      sum(train_upsampled[train_upsampled.Ratings == 5].Text_length.values)]\n",
        "plt.bar(y_pos, values_reviews_len)\n",
        "plt.xticks(y_pos, bars)\n",
        "plt.title('Длина отзывов по оценкам (после апсэмпла)')\n",
        "plt.show()"
      ],
      "execution_count": null,
      "outputs": [
        {
          "output_type": "display_data",
          "data": {
            "image/png": "[encoded data removed]",
            "text/plain": [
              "<Figure size 432x288 with 1 Axes>"
            ]
          },
          "metadata": {
            "needs_background": "light"
          }
        }
      ]
    },
    {
      "cell_type": "code",
      "metadata": {
        "colab": {
          "base_uri": "https://localhost:8080/",
          "height": 281
        },
        "id": "_uNrGbuveJyu",
        "outputId": "9748e14c-e6b4-4a58-c80f-f3142c1651ea"
      },
      "source": [
        "values_reviews_numbers = [train_upsampled[train_upsampled.Ratings == 1].shape[0],\n",
        "          train_upsampled[train_upsampled.Ratings == 2].shape[0],\n",
        "          train_upsampled[train_upsampled.Ratings == 3].shape[0],\n",
        "          train_upsampled[train_upsampled.Ratings == 4].shape[0],\n",
        "          train_upsampled[train_upsampled.Ratings == 5].shape[0]]\n",
        "bars = ('1', '2', '3', '4', '5')\n",
        "y_pos = np.arange(len(bars))\n",
        "\n",
        "plt.bar(y_pos, values_reviews_numbers)\n",
        "plt.xticks(y_pos, bars)\n",
        "plt.title('Количество отзывов по оценкам (после апсэмпла)')\n",
        "plt.show()"
      ],
      "execution_count": null,
      "outputs": [
        {
          "output_type": "display_data",
          "data": {
            "image/png": "[encoded data removed]",
            "text/plain": [
              "<Figure size 432x288 with 1 Axes>"
            ]
          },
          "metadata": {
            "needs_background": "light"
          }
        }
      ]
    },
    {
      "cell_type": "markdown",
      "metadata": {
        "id": "Q-_EeefX3moW"
      },
      "source": [
        "Теперь построим два пайплайна. Возьмем базовую линейную модель для решения задачи: SVM. Сделаем гридсерч. Для SVM обычно используют One vs One Classifier. В качестве метрики возьмем f1_weighted (так как у нас мультиклассовая классификация).\n",
        "\n",
        "Можно было бы взять и логистическую регрессию (с One vs Rest Classifier), но гридсерч по ее параметрам занял бы достаточно долгое количество времени, поэтому, чтобы его сэкономить оставим только SVM. "
      ]
    },
    {
      "cell_type": "code",
      "metadata": {
        "colab": {
          "base_uri": "https://localhost:8080/"
        },
        "id": "Ea5dFHXFB7Yi",
        "outputId": "91021e8c-e6f4-476d-a5f3-ba03e773dad3"
      },
      "source": [
        "svm = Pipeline([('vectorizer', CountVectorizer()),\n",
        " ('tfidf', TfidfTransformer()),\n",
        " ('clf', OneVsOneClassifier(LinearSVC()))])\n",
        "\n",
        "\n",
        "parameters_svm = {'vectorizer__ngram_range': [(1, 1), (1, 2), (2,2)],\n",
        "               'tfidf__use_idf': (True, False),\n",
        "               'tfidf__smooth_idf': (True, False),\n",
        "               'tfidf__sublinear_tf': (True, False),\n",
        "               'clf__estimator__penalty': ('l1', 'l2'),\n",
        "               'clf__estimator__loss': ('hinge', 'squared_hinge'),\n",
        "               'clf__estimator__multi_class': ('ovr', 'crammer_singer'),\n",
        "               'clf__estimator__class_weight': ('balanced', None)}\n",
        "\n",
        "\n",
        "gs_clf_svm = GridSearchCV(svm, parameters_svm, n_jobs=-1, scoring = \"f1_weighted\")\n",
        "gs_clf_svm = gs_clf_svm.fit(train_upsampled['Texts'], train_upsampled['Ratings'])\n",
        "\n",
        "\n",
        "print(gs_clf_svm.best_score_)\n",
        "print(gs_clf_svm.best_params_)"
      ],
      "execution_count": null,
      "outputs": [
        {
          "output_type": "stream",
          "name": "stdout",
          "text": [
            "0.8321875910842718\n",
            "{'clf__estimator__class_weight': None, 'clf__estimator__loss': 'squared_hinge', 'clf__estimator__multi_class': 'ovr', 'clf__estimator__penalty': 'l2', 'tfidf__smooth_idf': True, 'tfidf__sublinear_tf': True, 'tfidf__use_idf': True, 'vectorizer__ngram_range': (1, 2)}\n"
          ]
        }
      ]
    },
    {
      "cell_type": "markdown",
      "metadata": {
        "id": "vxXBrrFPegrA"
      },
      "source": [
        "В качестве второй модели воспользуемся не линейным подходом, а вероятностым и возьмем Multinomial Naive Bayes (у нас же мультиклассовая классификация). Кроме того, этот подход не нуждается в адаптере."
      ]
    },
    {
      "cell_type": "code",
      "metadata": {
        "colab": {
          "base_uri": "https://localhost:8080/"
        },
        "id": "GidN381SdXkU",
        "outputId": "71746545-0c9f-45be-9e16-762175dcb838"
      },
      "source": [
        "nb = Pipeline([('vectorizer', CountVectorizer()),\n",
        " ('tfidf', TfidfTransformer()),\n",
        " ('clf', MultinomialNB())])\n",
        "\n",
        "\n",
        "parameters_nb = {'vectorizer__ngram_range': [(1, 1), (1, 2), (2,2)],\n",
        "               'tfidf__use_idf': (True, False),\n",
        "               'tfidf__smooth_idf': (True, False),\n",
        "               'tfidf__sublinear_tf': (True, False),\n",
        "               'clf__alpha': (100, 10, 1, 0.1,\n",
        "                                         0.01, 0.001, 0)}\n",
        "               \n",
        "gs_clf_nb = GridSearchCV(nb, parameters_nb, n_jobs=-1, scoring = \"f1_weighted\")\n",
        "\n",
        "gs_clf_nb = gs_clf_nb.fit(train_upsampled['Texts'], train_upsampled['Ratings'])\n",
        "print(gs_clf_nb.best_score_)\n",
        "print(gs_clf_nb.best_params_)"
      ],
      "execution_count": null,
      "outputs": [
        {
          "output_type": "stream",
          "name": "stdout",
          "text": [
            "0.8071562804650979\n",
            "{'clf__alpha': 0.01, 'tfidf__smooth_idf': True, 'tfidf__sublinear_tf': True, 'tfidf__use_idf': False, 'vectorizer__ngram_range': (1, 2)}\n"
          ]
        }
      ]
    },
    {
      "cell_type": "markdown",
      "metadata": {
        "id": "qweMZminGQ4t"
      },
      "source": [
        "Построим модель с подобранными гридсерчем гиперпараметрами.Обучим её на train'е."
      ]
    },
    {
      "cell_type": "markdown",
      "metadata": {
        "id": "SHIyIfuTRUAu"
      },
      "source": [
        "Теперь предскажем значения для test'а и посмотрим на f1 weighted"
      ]
    },
    {
      "cell_type": "code",
      "metadata": {
        "id": "C-Z2_oFkIg7N"
      },
      "source": [
        "preds = gs_clf_svm.predict(test['Texts'])"
      ],
      "execution_count": null,
      "outputs": []
    },
    {
      "cell_type": "markdown",
      "metadata": {
        "id": "5nAnT0z9V_-J"
      },
      "source": [
        "Результат f1_weighted на кросс валидации"
      ]
    },
    {
      "cell_type": "code",
      "metadata": {
        "id": "RIULaqN14V8G"
      },
      "source": [
        "scores = cross_val_score(gs_clf_svm, test['Texts'], test['Ratings'], cv=5, scoring='f1_weighted')"
      ],
      "execution_count": null,
      "outputs": []
    },
    {
      "cell_type": "markdown",
      "metadata": {
        "id": "CBLT6FIq9SJW"
      },
      "source": [
        "Можно заметить, что результаты получились хуже, чем в гридсерче, но это и неудивительно, ведь гридсерч производился на данных с дублированными отзывами."
      ]
    },
    {
      "cell_type": "code",
      "metadata": {
        "colab": {
          "base_uri": "https://localhost:8080/"
        },
        "id": "eDxmiQaX4mfn",
        "outputId": "fc20c6b7-22c1-4264-f4e0-6417792c9048"
      },
      "source": [
        "print(\"%0.2f accuracy with a standard deviation of %0.2f\" % (scores.mean(), scores.std()))"
      ],
      "execution_count": null,
      "outputs": [
        {
          "output_type": "stream",
          "name": "stdout",
          "text": [
            "0.55 accuracy with a standard deviation of 0.05\n"
          ]
        }
      ]
    },
    {
      "cell_type": "markdown",
      "metadata": {
        "id": "D_S0VW0FoVIs"
      },
      "source": [
        "Построим график для каждого cv"
      ]
    },
    {
      "cell_type": "code",
      "metadata": {
        "colab": {
          "base_uri": "https://localhost:8080/",
          "height": 281
        },
        "id": "lu0BpcG4o7we",
        "outputId": "1843df2e-825c-4cf5-fb2f-315460e48265"
      },
      "source": [
        "labels = ('cv1', 'cv2', 'cv3', 'cv4', 'cv5')\n",
        "plt.bar(y_pos, scores)\n",
        "plt.xticks(y_pos, labels)\n",
        "plt.title('f1_weighted for five cvs')\n",
        "plt.show()"
      ],
      "execution_count": null,
      "outputs": [
        {
          "output_type": "display_data",
          "data": {
            "image/png": "[encoded data removed]",
            "text/plain": [
              "<Figure size 432x288 with 1 Axes>"
            ]
          },
          "metadata": {
            "needs_background": "light"
          }
        }
      ]
    },
    {
      "cell_type": "markdown",
      "metadata": {
        "id": "XJtqQOf3YLSi"
      },
      "source": [
        "Построим confusion matrix. Как можно видеть, модель хорошо отличает друг от друга оценки 1,2,3 и 4,5. Это логично, так как 4 и 5 -- резко выраженные положительные оценки, а 1 и 2 -- отрицательные. 3 Согласно результатам больше тяготеет к негативным отзывам (например, часто оценку 1 модель путает с оценкой 3). С другой стороны, оценке 3 модель приписывает значение 4 больше, чем оценке 3 оценку 3. Это говорит о слаборазличимости оценки 3 (что неудивительно, ведь она находится посередине).\n",
        "\n",
        "Модель хорошо отделяет оценки 4 и 5. Это неожиданно хорошо (я ожидал, что она будет их путать, потому что это оба положительные отзывы). Стоит отметить, что лучшие результаты получаются для оценок 5, 1 и 4. Это тройка оценок с наибольшим числом отзывов/наибольшей длиной."
      ]
    },
    {
      "cell_type": "code",
      "metadata": {
        "id": "P3tUhhSnIxeU",
        "colab": {
          "base_uri": "https://localhost:8080/",
          "height": 573
        },
        "outputId": "9da508d0-3915-471c-a52d-2729cf7c91b0"
      },
      "source": [
        "class_names = [1, 2, 3, 4, 5]\n",
        "titles_options = [(\"Confusion matrix, without normalization\", None),\n",
        "                  (\"Normalized confusion matrix\", 'true')]\n",
        "for title, normalize in titles_options:\n",
        "    disp = plot_confusion_matrix(gs_clf_svm, test['Texts'], test['Ratings'],\n",
        "                                 display_labels=class_names,\n",
        "                                 cmap=plt.cm.Blues,\n",
        "                                 normalize=normalize)\n",
        "    disp.ax_.set_title(title)\n",
        "\n",
        "plt.show()"
      ],
      "execution_count": null,
      "outputs": [
        {
          "output_type": "display_data",
          "data": {
            "image/png": "[encoded data removed]",
            "text/plain": [
              "<Figure size 432x288 with 2 Axes>"
            ]
          },
          "metadata": {
            "needs_background": "light"
          }
        },
        {
          "output_type": "display_data",
          "data": {
            "image/png": "[encoded data removed]",
            "text/plain": [
              "<Figure size 432x288 with 2 Axes>"
            ]
          },
          "metadata": {
            "needs_background": "light"
          }
        }
      ]
    },
    {
      "cell_type": "markdown",
      "metadata": {
        "id": "4ESmWC0z8riq"
      },
      "source": [
        "Посмотрим также на classification report. Можно видеть, что чем выше изначальная длина слов/количество отзывов, тем лучше метрики."
      ]
    },
    {
      "cell_type": "code",
      "metadata": {
        "colab": {
          "base_uri": "https://localhost:8080/"
        },
        "id": "i63CaJQx7Fb2",
        "outputId": "8a22810a-cfb0-46b5-9e9b-d3b372195569"
      },
      "source": [
        "classification_report(test['Ratings'], preds, output_dict=True)"
      ],
      "execution_count": null,
      "outputs": [
        {
          "output_type": "execute_result",
          "data": {
            "text/plain": [
              "{'1': {'f1-score': 0.677570093457944,\n",
              "  'precision': 0.7038834951456311,\n",
              "  'recall': 0.6531531531531531,\n",
              "  'support': 222},\n",
              " '2': {'f1-score': 0.40740740740740744,\n",
              "  'precision': 0.3548387096774194,\n",
              "  'recall': 0.4782608695652174,\n",
              "  'support': 69},\n",
              " '3': {'f1-score': 0.3775510204081633,\n",
              "  'precision': 0.42045454545454547,\n",
              "  'recall': 0.3425925925925926,\n",
              "  'support': 108},\n",
              " '4': {'f1-score': 0.40686274509803927,\n",
              "  'precision': 0.4088669950738916,\n",
              "  'recall': 0.40487804878048783,\n",
              "  'support': 205},\n",
              " '5': {'f1-score': 0.7627737226277373,\n",
              "  'precision': 0.7531531531531531,\n",
              "  'recall': 0.7726432532347505,\n",
              "  'support': 541},\n",
              " 'accuracy': 0.6253275109170305,\n",
              " 'macro avg': {'f1-score': 0.5264329977998583,\n",
              "  'precision': 0.5282393797009282,\n",
              "  'recall': 0.5303055834652403,\n",
              "  'support': 1145},\n",
              " 'weighted avg': {'f1-score': 0.6247813351524544,\n",
              "  'precision': 0.6265752730525472,\n",
              "  'recall': 0.6253275109170305,\n",
              "  'support': 1145}}"
            ]
          },
          "metadata": {},
          "execution_count": 42
        }
      ]
    },
    {
      "cell_type": "markdown",
      "metadata": {
        "id": "xU5W_deh0IeX"
      },
      "source": [
        "Поэтому, чтобы улучшить модель, прежде всего, стоит пополнить ее большим количеством отзывов для оценок 2 и 3, которых сейчас мало.\n",
        "\n",
        "Еще не помешает добавить отзывов с оценкой 4, чтобы модель лучше отделяла их от оценки 5. Ну или добавить еще отзывов с оценкой 5, потому что оценки 5 и 4 путаются чаще, чем 4 и 5. "
      ]
    }
  ]
}