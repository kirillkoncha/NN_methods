{
  "nbformat": 4,
  "nbformat_minor": 0,
  "metadata": {
    "colab": {
      "name": "NN_HW2.ipynb",
      "provenance": [],
      "collapsed_sections": []
    },
    "kernelspec": {
      "name": "python3",
      "display_name": "Python 3"
    },
    "language_info": {
      "name": "python"
    },
    "accelerator": "GPU"
  },
  "cells": [
    {
      "cell_type": "code",
      "metadata": {
        "colab": {
          "base_uri": "https://localhost:8080/"
        },
        "id": "IwCLzrA6xS8Q",
        "outputId": "45d7f5d6-a0d6-431e-a204-c0f434167372"
      },
      "source": [
        "!pip install fasttext"
      ],
      "execution_count": null,
      "outputs": [
        {
          "output_type": "stream",
          "name": "stdout",
          "text": [
            "Collecting fasttext\n",
            "  Downloading fasttext-0.9.2.tar.gz (68 kB)\n",
            "\u001b[?25l\r\u001b[K     |████▊                           | 10 kB 22.4 MB/s eta 0:00:01\r\u001b[K     |█████████▌                      | 20 kB 9.4 MB/s eta 0:00:01\r\u001b[K     |██████████████▎                 | 30 kB 8.1 MB/s eta 0:00:01\r\u001b[K     |███████████████████             | 40 kB 7.8 MB/s eta 0:00:01\r\u001b[K     |███████████████████████▉        | 51 kB 4.3 MB/s eta 0:00:01\r\u001b[K     |████████████████████████████▋   | 61 kB 4.5 MB/s eta 0:00:01\r\u001b[K     |████████████████████████████████| 68 kB 2.9 MB/s \n",
            "\u001b[?25hCollecting pybind11>=2.2\n",
            "  Using cached pybind11-2.8.1-py2.py3-none-any.whl (208 kB)\n",
            "Requirement already satisfied: setuptools>=0.7.0 in /usr/local/lib/python3.7/dist-packages (from fasttext) (57.4.0)\n",
            "Requirement already satisfied: numpy in /usr/local/lib/python3.7/dist-packages (from fasttext) (1.19.5)\n",
            "Building wheels for collected packages: fasttext\n",
            "  Building wheel for fasttext (setup.py) ... \u001b[?25l\u001b[?25hdone\n",
            "  Created wheel for fasttext: filename=fasttext-0.9.2-cp37-cp37m-linux_x86_64.whl size=3125612 sha256=efa8a92bca576cf30644ae7ed8603a7f72b20c47e3cd8864fa21fbf2b2d6b0c7\n",
            "  Stored in directory: /root/.cache/pip/wheels/4e/ca/bf/b020d2be95f7641801a6597a29c8f4f19e38f9c02a345bab9b\n",
            "Successfully built fasttext\n",
            "Installing collected packages: pybind11, fasttext\n",
            "Successfully installed fasttext-0.9.2 pybind11-2.8.1\n"
          ]
        }
      ]
    },
    {
      "cell_type": "code",
      "metadata": {
        "colab": {
          "base_uri": "https://localhost:8080/",
          "height": 854
        },
        "id": "DXAcN-KOjawh",
        "outputId": "df233373-bb85-45e8-f0e3-98b7057b3a98"
      },
      "source": [
        "!pip install ipdb"
      ],
      "execution_count": null,
      "outputs": [
        {
          "output_type": "stream",
          "name": "stdout",
          "text": [
            "Collecting ipdb\n",
            "  Downloading ipdb-0.13.9.tar.gz (16 kB)\n",
            "Requirement already satisfied: setuptools in /usr/local/lib/python3.7/dist-packages (from ipdb) (57.4.0)\n",
            "Collecting ipython>=7.17.0\n",
            "  Downloading ipython-7.29.0-py3-none-any.whl (790 kB)\n",
            "\u001b[K     |████████████████████████████████| 790 kB 4.0 MB/s \n",
            "\u001b[?25hRequirement already satisfied: toml>=0.10.2 in /usr/local/lib/python3.7/dist-packages (from ipdb) (0.10.2)\n",
            "Requirement already satisfied: decorator in /usr/local/lib/python3.7/dist-packages (from ipdb) (4.4.2)\n",
            "Requirement already satisfied: pickleshare in /usr/local/lib/python3.7/dist-packages (from ipython>=7.17.0->ipdb) (0.7.5)\n",
            "Requirement already satisfied: pygments in /usr/local/lib/python3.7/dist-packages (from ipython>=7.17.0->ipdb) (2.6.1)\n",
            "Requirement already satisfied: backcall in /usr/local/lib/python3.7/dist-packages (from ipython>=7.17.0->ipdb) (0.2.0)\n",
            "Collecting prompt-toolkit!=3.0.0,!=3.0.1,<3.1.0,>=2.0.0\n",
            "  Downloading prompt_toolkit-3.0.22-py3-none-any.whl (374 kB)\n",
            "\u001b[K     |████████████████████████████████| 374 kB 40.5 MB/s \n",
            "\u001b[?25hRequirement already satisfied: pexpect>4.3 in /usr/local/lib/python3.7/dist-packages (from ipython>=7.17.0->ipdb) (4.8.0)\n",
            "Requirement already satisfied: jedi>=0.16 in /usr/local/lib/python3.7/dist-packages (from ipython>=7.17.0->ipdb) (0.18.1)\n",
            "Requirement already satisfied: matplotlib-inline in /usr/local/lib/python3.7/dist-packages (from ipython>=7.17.0->ipdb) (0.1.3)\n",
            "Requirement already satisfied: traitlets>=4.2 in /usr/local/lib/python3.7/dist-packages (from ipython>=7.17.0->ipdb) (5.1.1)\n",
            "Requirement already satisfied: parso<0.9.0,>=0.8.0 in /usr/local/lib/python3.7/dist-packages (from jedi>=0.16->ipython>=7.17.0->ipdb) (0.8.2)\n",
            "Requirement already satisfied: ptyprocess>=0.5 in /usr/local/lib/python3.7/dist-packages (from pexpect>4.3->ipython>=7.17.0->ipdb) (0.7.0)\n",
            "Requirement already satisfied: wcwidth in /usr/local/lib/python3.7/dist-packages (from prompt-toolkit!=3.0.0,!=3.0.1,<3.1.0,>=2.0.0->ipython>=7.17.0->ipdb) (0.2.5)\n",
            "Building wheels for collected packages: ipdb\n",
            "  Building wheel for ipdb (setup.py) ... \u001b[?25l\u001b[?25hdone\n",
            "  Created wheel for ipdb: filename=ipdb-0.13.9-py3-none-any.whl size=11648 sha256=e0f98a37efb04cb4cd8bdec7a5aa13fa5f54b8bd71d9fda96bd781457a5d50c1\n",
            "  Stored in directory: /root/.cache/pip/wheels/65/cd/cc/aaf92acae337a28fdd2aa4d632196a59745c8c39f76eaeed01\n",
            "Successfully built ipdb\n",
            "Installing collected packages: prompt-toolkit, ipython, ipdb\n",
            "  Attempting uninstall: prompt-toolkit\n",
            "    Found existing installation: prompt-toolkit 1.0.18\n",
            "    Uninstalling prompt-toolkit-1.0.18:\n",
            "      Successfully uninstalled prompt-toolkit-1.0.18\n",
            "  Attempting uninstall: ipython\n",
            "    Found existing installation: ipython 5.5.0\n",
            "    Uninstalling ipython-5.5.0:\n",
            "      Successfully uninstalled ipython-5.5.0\n",
            "\u001b[31mERROR: pip's dependency resolver does not currently take into account all the packages that are installed. This behaviour is the source of the following dependency conflicts.\n",
            "jupyter-console 5.2.0 requires prompt-toolkit<2.0.0,>=1.0.0, but you have prompt-toolkit 3.0.22 which is incompatible.\n",
            "google-colab 1.0.0 requires ipython~=5.5.0, but you have ipython 7.29.0 which is incompatible.\u001b[0m\n",
            "Successfully installed ipdb-0.13.9 ipython-7.29.0 prompt-toolkit-3.0.22\n"
          ]
        },
        {
          "output_type": "display_data",
          "data": {
            "application/vnd.colab-display-data+json": {
              "pip_warning": {
                "packages": [
                  "IPython",
                  "prompt_toolkit"
                ]
              }
            }
          },
          "metadata": {}
        }
      ]
    },
    {
      "cell_type": "code",
      "metadata": {
        "colab": {
          "base_uri": "https://localhost:8080/"
        },
        "id": "yWnLjmpwgZ41",
        "outputId": "3abc8b8d-77c1-41db-c679-79f850278788"
      },
      "source": [
        "!pip install torchmetrics"
      ],
      "execution_count": null,
      "outputs": [
        {
          "output_type": "stream",
          "name": "stdout",
          "text": [
            "Collecting torchmetrics\n",
            "  Downloading torchmetrics-0.6.0-py3-none-any.whl (329 kB)\n",
            "\u001b[?25l\r\u001b[K     |█                               | 10 kB 23.0 MB/s eta 0:00:01\r\u001b[K     |██                              | 20 kB 10.8 MB/s eta 0:00:01\r\u001b[K     |███                             | 30 kB 8.5 MB/s eta 0:00:01\r\u001b[K     |████                            | 40 kB 8.0 MB/s eta 0:00:01\r\u001b[K     |█████                           | 51 kB 4.4 MB/s eta 0:00:01\r\u001b[K     |██████                          | 61 kB 4.6 MB/s eta 0:00:01\r\u001b[K     |███████                         | 71 kB 4.6 MB/s eta 0:00:01\r\u001b[K     |████████                        | 81 kB 5.1 MB/s eta 0:00:01\r\u001b[K     |█████████                       | 92 kB 5.3 MB/s eta 0:00:01\r\u001b[K     |██████████                      | 102 kB 4.3 MB/s eta 0:00:01\r\u001b[K     |███████████                     | 112 kB 4.3 MB/s eta 0:00:01\r\u001b[K     |████████████                    | 122 kB 4.3 MB/s eta 0:00:01\r\u001b[K     |█████████████                   | 133 kB 4.3 MB/s eta 0:00:01\r\u001b[K     |██████████████                  | 143 kB 4.3 MB/s eta 0:00:01\r\u001b[K     |███████████████                 | 153 kB 4.3 MB/s eta 0:00:01\r\u001b[K     |████████████████                | 163 kB 4.3 MB/s eta 0:00:01\r\u001b[K     |█████████████████               | 174 kB 4.3 MB/s eta 0:00:01\r\u001b[K     |██████████████████              | 184 kB 4.3 MB/s eta 0:00:01\r\u001b[K     |███████████████████             | 194 kB 4.3 MB/s eta 0:00:01\r\u001b[K     |████████████████████            | 204 kB 4.3 MB/s eta 0:00:01\r\u001b[K     |█████████████████████           | 215 kB 4.3 MB/s eta 0:00:01\r\u001b[K     |█████████████████████▉          | 225 kB 4.3 MB/s eta 0:00:01\r\u001b[K     |██████████████████████▉         | 235 kB 4.3 MB/s eta 0:00:01\r\u001b[K     |███████████████████████▉        | 245 kB 4.3 MB/s eta 0:00:01\r\u001b[K     |████████████████████████▉       | 256 kB 4.3 MB/s eta 0:00:01\r\u001b[K     |█████████████████████████▉      | 266 kB 4.3 MB/s eta 0:00:01\r\u001b[K     |██████████████████████████▉     | 276 kB 4.3 MB/s eta 0:00:01\r\u001b[K     |███████████████████████████▉    | 286 kB 4.3 MB/s eta 0:00:01\r\u001b[K     |████████████████████████████▉   | 296 kB 4.3 MB/s eta 0:00:01\r\u001b[K     |█████████████████████████████▉  | 307 kB 4.3 MB/s eta 0:00:01\r\u001b[K     |██████████████████████████████▉ | 317 kB 4.3 MB/s eta 0:00:01\r\u001b[K     |███████████████████████████████▉| 327 kB 4.3 MB/s eta 0:00:01\r\u001b[K     |████████████████████████████████| 329 kB 4.3 MB/s \n",
            "\u001b[?25hRequirement already satisfied: torch>=1.3.1 in /usr/local/lib/python3.7/dist-packages (from torchmetrics) (1.10.0+cu111)\n",
            "Requirement already satisfied: numpy>=1.17.2 in /usr/local/lib/python3.7/dist-packages (from torchmetrics) (1.19.5)\n",
            "Requirement already satisfied: packaging in /usr/local/lib/python3.7/dist-packages (from torchmetrics) (21.3)\n",
            "Requirement already satisfied: typing-extensions in /usr/local/lib/python3.7/dist-packages (from torch>=1.3.1->torchmetrics) (3.10.0.2)\n",
            "Requirement already satisfied: pyparsing!=3.0.5,>=2.0.2 in /usr/local/lib/python3.7/dist-packages (from packaging->torchmetrics) (3.0.6)\n",
            "Installing collected packages: torchmetrics\n",
            "Successfully installed torchmetrics-0.6.0\n"
          ]
        }
      ]
    },
    {
      "cell_type": "code",
      "metadata": {
        "colab": {
          "base_uri": "https://localhost:8080/"
        },
        "id": "9ASkR_GSj_bd",
        "outputId": "075201cc-3a1b-40d7-c3b1-22dcf9f9b999"
      },
      "source": [
        "!pip install pymorphy2"
      ],
      "execution_count": null,
      "outputs": [
        {
          "output_type": "stream",
          "name": "stdout",
          "text": [
            "Collecting pymorphy2\n",
            "  Downloading pymorphy2-0.9.1-py3-none-any.whl (55 kB)\n",
            "\u001b[K     |████████████████████████████████| 55 kB 2.1 MB/s \n",
            "\u001b[?25hCollecting pymorphy2-dicts-ru<3.0,>=2.4\n",
            "  Downloading pymorphy2_dicts_ru-2.4.417127.4579844-py2.py3-none-any.whl (8.2 MB)\n",
            "\u001b[K     |████████████████████████████████| 8.2 MB 7.3 MB/s \n",
            "\u001b[?25hRequirement already satisfied: docopt>=0.6 in /usr/local/lib/python3.7/dist-packages (from pymorphy2) (0.6.2)\n",
            "Collecting dawg-python>=0.7.1\n",
            "  Downloading DAWG_Python-0.7.2-py2.py3-none-any.whl (11 kB)\n",
            "Installing collected packages: pymorphy2-dicts-ru, dawg-python, pymorphy2\n",
            "Successfully installed dawg-python-0.7.2 pymorphy2-0.9.1 pymorphy2-dicts-ru-2.4.417127.4579844\n"
          ]
        }
      ]
    },
    {
      "cell_type": "code",
      "metadata": {
        "id": "ourbZ1S1jgd0"
      },
      "source": [
        "import pandas as pd\n",
        "import numpy as np\n",
        "import pymorphy2\n",
        "import re\n",
        "import random\n",
        "import fasttext.util\n",
        "import numpy as np\n",
        "\n",
        "from string import punctuation\n",
        "from collections import Counter\n",
        "\n",
        "from sklearn.model_selection import train_test_split\n",
        "from sklearn.utils import shuffle\n",
        "import torch\n",
        "import torch.nn as nn\n",
        "import torch.nn.functional as F\n",
        "from torchmetrics import F1\n",
        "from torchmetrics.functional import f1, recall\n",
        "from torch.utils.data import Dataset, DataLoader, RandomSampler, SequentialSampler\n",
        "from torch.nn.utils.rnn import pad_sequence\n",
        "import torch.optim as optim\n",
        "import ipdb"
      ],
      "execution_count": null,
      "outputs": []
    },
    {
      "cell_type": "code",
      "metadata": {
        "colab": {
          "base_uri": "https://localhost:8080/"
        },
        "id": "o3S1j50djrVy",
        "outputId": "801e2ac4-64f6-410d-ad80-c400fda110e2"
      },
      "source": [
        "!wget -O positive.csv https://www.dropbox.com/s/fnpq3z4bcnoktiv/positive.csv?dl=0\n",
        "!wget -O negative.csv https://www.dropbox.com/s/r6u59ljhhjdg6j0/negative.csv?dl=0"
      ],
      "execution_count": null,
      "outputs": [
        {
          "output_type": "stream",
          "name": "stdout",
          "text": [
            "--2021-11-25 19:45:50--  https://www.dropbox.com/s/fnpq3z4bcnoktiv/positive.csv?dl=0\n",
            "Resolving www.dropbox.com (www.dropbox.com)... 162.125.81.18, 2620:100:6035:18::a27d:5512\n",
            "Connecting to www.dropbox.com (www.dropbox.com)|162.125.81.18|:443... connected.\n",
            "HTTP request sent, awaiting response... 301 Moved Permanently\n",
            "Location: /s/raw/fnpq3z4bcnoktiv/positive.csv [following]\n",
            "--2021-11-25 19:45:50--  https://www.dropbox.com/s/raw/fnpq3z4bcnoktiv/positive.csv\n",
            "Reusing existing connection to www.dropbox.com:443.\n",
            "HTTP request sent, awaiting response... 302 Found\n",
            "Location: https://ucffe91cb5fbe29220741e9083de.dl.dropboxusercontent.com/cd/0/inline/Bapu4xj1ZUaBv97BkcYqMsqxhWjtpDzLO-AZy90ybaGgX3ic2Pm0wwEyvhnCAQPKPXflIXXtCrz_lVvlFPwhnhpq3VN9sSrT8tMYE7dOgrycHd7gbrD2MNHqPBzqi4gJ2q0PXNQPuPe8e5tdEW8gTPAi/file# [following]\n",
            "--2021-11-25 19:45:51--  https://ucffe91cb5fbe29220741e9083de.dl.dropboxusercontent.com/cd/0/inline/Bapu4xj1ZUaBv97BkcYqMsqxhWjtpDzLO-AZy90ybaGgX3ic2Pm0wwEyvhnCAQPKPXflIXXtCrz_lVvlFPwhnhpq3VN9sSrT8tMYE7dOgrycHd7gbrD2MNHqPBzqi4gJ2q0PXNQPuPe8e5tdEW8gTPAi/file\n",
            "Resolving ucffe91cb5fbe29220741e9083de.dl.dropboxusercontent.com (ucffe91cb5fbe29220741e9083de.dl.dropboxusercontent.com)... 162.125.81.15, 2620:100:6031:15::a27d:510f\n",
            "Connecting to ucffe91cb5fbe29220741e9083de.dl.dropboxusercontent.com (ucffe91cb5fbe29220741e9083de.dl.dropboxusercontent.com)|162.125.81.15|:443... connected.\n",
            "HTTP request sent, awaiting response... 200 OK\n",
            "Length: 26233379 (25M) [text/plain]\n",
            "Saving to: ‘positive.csv’\n",
            "\n",
            "positive.csv        100%[===================>]  25.02M  9.03MB/s    in 2.8s    \n",
            "\n",
            "2021-11-25 19:45:55 (9.03 MB/s) - ‘positive.csv’ saved [26233379/26233379]\n",
            "\n",
            "--2021-11-25 19:45:55--  https://www.dropbox.com/s/r6u59ljhhjdg6j0/negative.csv?dl=0\n",
            "Resolving www.dropbox.com (www.dropbox.com)... 162.125.81.18, 2620:100:6035:18::a27d:5512\n",
            "Connecting to www.dropbox.com (www.dropbox.com)|162.125.81.18|:443... connected.\n",
            "HTTP request sent, awaiting response... 301 Moved Permanently\n",
            "Location: /s/raw/r6u59ljhhjdg6j0/negative.csv [following]\n",
            "--2021-11-25 19:45:55--  https://www.dropbox.com/s/raw/r6u59ljhhjdg6j0/negative.csv\n",
            "Reusing existing connection to www.dropbox.com:443.\n",
            "HTTP request sent, awaiting response... 302 Found\n",
            "Location: https://uc9f198b4a007ac33074a8b20ecc.dl.dropboxusercontent.com/cd/0/inline/Bap9fFVMiTNXZD6kDmTWMXs3Mwu4MUzvON_PyCwrhintrUeSxLln5D-_HODHBHFjmyZNR8IH6fjNyT3U39w80trKs_Y6e6TkhdlBVQJDeWADQNIdqI37VO8THlCgRhIHkuPLT_yvGtEaNsCV0GOV5Kz5/file# [following]\n",
            "--2021-11-25 19:45:55--  https://uc9f198b4a007ac33074a8b20ecc.dl.dropboxusercontent.com/cd/0/inline/Bap9fFVMiTNXZD6kDmTWMXs3Mwu4MUzvON_PyCwrhintrUeSxLln5D-_HODHBHFjmyZNR8IH6fjNyT3U39w80trKs_Y6e6TkhdlBVQJDeWADQNIdqI37VO8THlCgRhIHkuPLT_yvGtEaNsCV0GOV5Kz5/file\n",
            "Resolving uc9f198b4a007ac33074a8b20ecc.dl.dropboxusercontent.com (uc9f198b4a007ac33074a8b20ecc.dl.dropboxusercontent.com)... 162.125.81.15, 2620:100:6035:15::a27d:550f\n",
            "Connecting to uc9f198b4a007ac33074a8b20ecc.dl.dropboxusercontent.com (uc9f198b4a007ac33074a8b20ecc.dl.dropboxusercontent.com)|162.125.81.15|:443... connected.\n",
            "HTTP request sent, awaiting response... 200 OK\n",
            "Length: 24450101 (23M) [text/plain]\n",
            "Saving to: ‘negative.csv’\n",
            "\n",
            "negative.csv        100%[===================>]  23.32M  8.54MB/s    in 2.7s    \n",
            "\n",
            "2021-11-25 19:45:59 (8.54 MB/s) - ‘negative.csv’ saved [24450101/24450101]\n",
            "\n"
          ]
        }
      ]
    },
    {
      "cell_type": "code",
      "metadata": {
        "id": "If-VfdDUjtdb"
      },
      "source": [
        "pos_tweets = pd.read_csv('positive.csv', encoding='utf-8', sep=';', header=None,  names=[0,1,2,'text','tone',5,6,7,8,9,10,11])"
      ],
      "execution_count": null,
      "outputs": []
    },
    {
      "cell_type": "code",
      "metadata": {
        "id": "mRoZf96VjyJV"
      },
      "source": [
        "neg_tweets = pd.read_csv('negative.csv', encoding='utf-8', sep=';', header=None, names=[0,1,2,'text','tone',5,6,7,8,9,10,11] )\n",
        "neg_tweets['tone'] = 0"
      ],
      "execution_count": null,
      "outputs": []
    },
    {
      "cell_type": "code",
      "metadata": {
        "colab": {
          "base_uri": "https://localhost:8080/"
        },
        "id": "95DGARZJj2n4",
        "outputId": "f23278fe-531a-4918-8023-ed09530123d6"
      },
      "source": [
        "all_tweets_data = pos_tweets.append(neg_tweets)\n",
        "print(len(all_tweets_data))"
      ],
      "execution_count": null,
      "outputs": [
        {
          "output_type": "stream",
          "name": "stdout",
          "text": [
            "226834\n"
          ]
        }
      ]
    },
    {
      "cell_type": "code",
      "metadata": {
        "id": "zYL4AEeIpfx0"
      },
      "source": [
        "tweets_data = shuffle(all_tweets_data[['text','tone']])[:100000]"
      ],
      "execution_count": null,
      "outputs": []
    },
    {
      "cell_type": "code",
      "metadata": {
        "id": "DjRpDV-6pxsB"
      },
      "source": [
        "def preprocess(text):\n",
        "    text = text.lower().replace(\"ё\", \"е\")\n",
        "    text = re.sub('((www\\.[^\\s]+)|(https?://[^\\s]+))', 'URL', text)\n",
        "    text = re.sub('@[^\\s]+', 'USER', text)\n",
        "    text = re.sub(' +', ' ', text)\n",
        "    text = re.sub('[^a-zA-Zа-яА-Я1-9]+', ' ', text)\n",
        "    tokens = text.lower().split()\n",
        "    tokens = [token.strip(punctuation) for token in tokens]\n",
        "    return tokens"
      ],
      "execution_count": null,
      "outputs": []
    },
    {
      "cell_type": "code",
      "metadata": {
        "id": "eup3g3yOpqIW"
      },
      "source": [
        "train_sentences, val_sentences = train_test_split(tweets_data, test_size=0.2)"
      ],
      "execution_count": null,
      "outputs": []
    },
    {
      "cell_type": "code",
      "metadata": {
        "id": "QCySY1bepqzB"
      },
      "source": [
        "train_sentences.to_csv('train.csv')"
      ],
      "execution_count": null,
      "outputs": []
    },
    {
      "cell_type": "code",
      "metadata": {
        "id": "3Na0KMCYxN9x"
      },
      "source": [
        "val_sentences.to_csv('val.csv')"
      ],
      "execution_count": null,
      "outputs": []
    },
    {
      "cell_type": "code",
      "metadata": {
        "colab": {
          "base_uri": "https://localhost:8080/"
        },
        "id": "Yo0PtXHHp_xW",
        "outputId": "f2f9dd6c-3f63-49f2-e47b-6be5c1c43e99"
      },
      "source": [
        "vocab = Counter()\n",
        "\n",
        "for text in tweets_data['text']:\n",
        "    vocab.update(preprocess(text))\n",
        "print('всего уникальных токенов:', len(vocab))"
      ],
      "execution_count": null,
      "outputs": [
        {
          "output_type": "stream",
          "name": "stdout",
          "text": [
            "всего уникальных токенов: 111504\n"
          ]
        }
      ]
    },
    {
      "cell_type": "code",
      "metadata": {
        "colab": {
          "base_uri": "https://localhost:8080/"
        },
        "id": "KSFKfJkzqDFi",
        "outputId": "c59be648-e697-4789-d408-a55e10bbcf31"
      },
      "source": [
        "filtered_vocab = set()\n",
        "\n",
        "for word in vocab:\n",
        "    if vocab[word] > 4:\n",
        "        filtered_vocab.add(word)\n",
        "print('уникальных токенов, втретившихся больше 4 раз:', len(filtered_vocab))"
      ],
      "execution_count": null,
      "outputs": [
        {
          "output_type": "stream",
          "name": "stdout",
          "text": [
            "уникальных токенов, втретившихся больше 4 раз: 17577\n"
          ]
        }
      ]
    },
    {
      "cell_type": "code",
      "metadata": {
        "id": "vpfoI8tgQ26N"
      },
      "source": [
        "word2id = {'PAD':0}\n",
        "\n",
        "for word in filtered_vocab:\n",
        "    word2id[word] = len(word2id)"
      ],
      "execution_count": null,
      "outputs": []
    },
    {
      "cell_type": "code",
      "metadata": {
        "id": "kki9KYwSqfvc"
      },
      "source": [
        "#обратный словарь для того, чтобы раскодировать последовательность\n",
        "id2word = {i:word for word, i in word2id.items()}"
      ],
      "execution_count": null,
      "outputs": []
    },
    {
      "cell_type": "code",
      "metadata": {
        "colab": {
          "base_uri": "https://localhost:8080/"
        },
        "id": "zdmaOjPSqlSf",
        "outputId": "6f22cbae-acbd-47ce-cf40-fc29a6004bd0"
      },
      "source": [
        "DEVICE = torch.device('cuda') if torch.cuda.is_available() else torch.device('cpu')\n",
        "DEVICE"
      ],
      "execution_count": null,
      "outputs": [
        {
          "output_type": "execute_result",
          "data": {
            "text/plain": [
              "device(type='cuda')"
            ]
          },
          "metadata": {},
          "execution_count": 20
        }
      ]
    },
    {
      "cell_type": "code",
      "metadata": {
        "id": "Pr-sV06csWko"
      },
      "source": [
        "class TweetsDataset(Dataset):\n",
        "\n",
        "    def __init__(self, dataset, word2id, DEVICE):\n",
        "        self.dataset = dataset['text'].values\n",
        "        self.word2id = word2id\n",
        "        self.length = dataset.shape[0]\n",
        "        self.target = dataset['tone'].values\n",
        "        self.device = DEVICE\n",
        "\n",
        "    def __len__(self): #это обязательный метод, он должен уметь считать длину датасета\n",
        "        return self.length\n",
        "\n",
        "    def __getitem__(self, index): #еще один обязательный метод. По индексу возвращает элемент выборки\n",
        "        tokens = self.preprocess(self.dataset[index]) # токенизируем\n",
        "        ids = torch.LongTensor([self.word2id[token] for token in tokens if token in self.word2id])\n",
        "        y = [self.target[index]]\n",
        "        return ids, y\n",
        "    \n",
        "    def preprocess(self, text):\n",
        "      text = text.lower().replace(\"ё\", \"е\")\n",
        "      text = re.sub('((www\\.[^\\s]+)|(https?://[^\\s]+))', 'URL', text)\n",
        "      text = re.sub('@[^\\s]+', 'USER', text)\n",
        "      text = re.sub(' +', ' ', text)\n",
        "      tokens = text.lower().split()\n",
        "      tokens = [token.strip(punctuation) for token in tokens]\n",
        "      return tokens\n",
        "\n",
        "    def collate_fn(self, batch): #этот метод можно реализовывать и отдельно,\n",
        "    # он понадобится для DataLoader во время итерации по батчам\n",
        "      ids, y = list(zip(*batch))\n",
        "      padded_ids = pad_sequence(ids, batch_first=True).to(self.device)\n",
        "      #мы хотим применять BCELoss, он будет брать на вход predicted размера batch_size x 1 (так как для каждого семпла модель будет отдавать одно число), target размера batch_size x 1\n",
        "      y = torch.Tensor(y).to(self.device) # tuple ([1], [0], [1])  -> Tensor [[1.], [0.], [1.]] \n",
        "      return padded_ids, y"
      ],
      "execution_count": null,
      "outputs": []
    },
    {
      "cell_type": "code",
      "metadata": {
        "id": "w6smgt3gzN1O"
      },
      "source": [
        "train_dataset = TweetsDataset(train_sentences, word2id, DEVICE)\n",
        "train_sampler = RandomSampler(train_dataset)\n",
        "train_iterator = DataLoader(train_dataset, collate_fn = train_dataset.collate_fn, sampler=train_sampler, batch_size=1024)"
      ],
      "execution_count": null,
      "outputs": []
    },
    {
      "cell_type": "code",
      "metadata": {
        "colab": {
          "base_uri": "https://localhost:8080/",
          "height": 71
        },
        "id": "qLrzNBhl8N9H",
        "outputId": "e3dc18bf-21b1-4b4e-b6bd-bdf6b28f3b10"
      },
      "source": [
        "fasttext.util.download_model('ru', if_exists='ignore')"
      ],
      "execution_count": null,
      "outputs": [
        {
          "output_type": "stream",
          "name": "stdout",
          "text": [
            "Downloading https://dl.fbaipublicfiles.com/fasttext/vectors-crawl/cc.ru.300.bin.gz\n",
            "\n"
          ]
        },
        {
          "output_type": "execute_result",
          "data": {
            "application/vnd.google.colaboratory.intrinsic+json": {
              "type": "string"
            },
            "text/plain": [
              "'cc.ru.300.bin'"
            ]
          },
          "metadata": {},
          "execution_count": 23
        }
      ]
    },
    {
      "cell_type": "code",
      "metadata": {
        "id": "F_KBXvvdzEGH",
        "colab": {
          "base_uri": "https://localhost:8080/"
        },
        "outputId": "56a66a33-33de-41aa-b797-9f75767b661a"
      },
      "source": [
        "ft = fasttext.load_model('cc.ru.300.bin')"
      ],
      "execution_count": null,
      "outputs": [
        {
          "output_type": "stream",
          "name": "stderr",
          "text": [
            "Warning : `load_model` does not return WordVectorModel or SupervisedModel any more, but a `FastText` object which is very similar.\n"
          ]
        }
      ]
    },
    {
      "cell_type": "code",
      "metadata": {
        "id": "4K7q2rOLFEs0"
      },
      "source": [
        "weights = np.zeros((len(word2id), 300))\n",
        "count = 0\n",
        "for word, i in word2id.items():\n",
        "    if word == 'PAD':\n",
        "        continue   \n",
        "    try:\n",
        "        weights[i] = ft[word]    \n",
        "    except KeyError:\n",
        "      count += 1\n",
        "      # oov словам сопоставляем случайный вектор\n",
        "      weights[i] = np.random.normal(0,0.1,300)"
      ],
      "execution_count": null,
      "outputs": []
    },
    {
      "cell_type": "markdown",
      "metadata": {
        "id": "d47iwDw8SU7l"
      },
      "source": [
        "# Первая модель"
      ]
    },
    {
      "cell_type": "code",
      "metadata": {
        "id": "G1GloatN3mtz"
      },
      "source": [
        "class CNN(nn.Module):\n",
        "    \n",
        "    def __init__(self, vocab_size, embedding_dim):\n",
        "        super().__init__()\n",
        "        self.embedding = nn.Embedding(vocab_size, embedding_dim)\n",
        "        self.embedding.from_pretrained(torch.tensor(weights), freeze=True)\n",
        "        self.bigrams = nn.Conv1d(in_channels=embedding_dim, out_channels=100, kernel_size=2, padding='same')\n",
        "        self.trigrams = nn.Conv1d(in_channels=embedding_dim, out_channels=80, kernel_size=3, padding='same')\n",
        "        self.bigrams_over_layer = nn.Conv1d(in_channels=180, out_channels=180, kernel_size=2, padding='same')\n",
        "        self.pooling = nn.MaxPool1d(kernel_size=2, stride=2)\n",
        "        self.relu = nn.ReLU()\n",
        "        self.hidden = nn.Linear(in_features=180, out_features=1)\n",
        "        self.out = nn.Sigmoid()\n",
        "\n",
        "    def forward(self, word):\n",
        "        #batch_size x seq_len\n",
        "        embedded = self.embedding(word)\n",
        "        #batch_size x seq_len x embedding_dim\n",
        "        embedded = embedded.transpose(1,2)\n",
        "        #batch_size x embedding_dim x seq_len\n",
        "        feature_map_bigrams = self.relu(self.bigrams(embedded))\n",
        "        #batch_size x filter_count2 x seq_len* \n",
        "        feature_map_trigrams = self.relu(self.trigrams(embedded))\n",
        "        #batch_size x filter_count3 x seq_len*\n",
        "        concat = torch.cat((feature_map_bigrams, feature_map_trigrams), 1)\n",
        "        bigrams = self.pooling(self.relu(self.bigrams_over_layer(concat)))\n",
        "        pooling = bigrams.max(2)[0] \n",
        "        # batch _size x (filter_count2 + filter_count3)\n",
        "        logits = self.hidden(pooling) \n",
        "        logits = self.out(logits)      \n",
        "        return logits"
      ],
      "execution_count": null,
      "outputs": []
    },
    {
      "cell_type": "code",
      "metadata": {
        "id": "NHFhMQBBgfQK"
      },
      "source": [
        "def train(model, iterator, optimizer, criterion):\n",
        "    epoch_loss = 0 # для подсчета среднего лосса на всех батчах\n",
        "\n",
        "    model.train()  # ставим модель в обучение, явно указываем, что сейчас надо будет хранить градиенты у всех весов\n",
        "\n",
        "    for i, (texts, ys) in enumerate(iterator): #итерируемся по батчам\n",
        "        optimizer.zero_grad()  #обнуляем градиенты\n",
        "        preds = model(texts)  #прогоняем данные через модель\n",
        "        loss = criterion(preds, ys) #считаем значение функции потерь  \n",
        "        loss.backward() #считаем градиенты  \n",
        "        optimizer.step() #обновляем веса \n",
        "        epoch_loss += loss.item() #сохраняем значение функции потерь\n",
        "        if not (i + 1) % int(len(iterator)/5):\n",
        "            print(f'Train loss: {epoch_loss/i}')      \n",
        "    return  epoch_loss / len(iterator) # возвращаем среднее значение лосса по всей выборке"
      ],
      "execution_count": null,
      "outputs": []
    },
    {
      "cell_type": "code",
      "metadata": {
        "id": "MFHIaifigpLu"
      },
      "source": [
        "def evaluate(model, iterator, criterion):\n",
        "    epoch_loss = 0\n",
        "    epoch_metric = 0\n",
        "    model.eval() \n",
        "    with torch.no_grad():\n",
        "        for i, (texts, ys) in enumerate(iterator):   \n",
        "            preds = model(texts)  # делаем предсказания на тесте\n",
        "            loss = criterion(preds, ys)   # считаем значения функции ошибки для статистики  \n",
        "            epoch_loss += loss.item()\n",
        "            batch_metric = f1(preds.round().long(), ys.long(), ignore_index=0)\n",
        "            epoch_metric += batch_metric\n",
        "\n",
        "            if not (i + 1) % int(len(iterator)/5):\n",
        "              print(f'Val loss: {epoch_loss/i}, Val f1: {epoch_metric/i}')\n",
        "        \n",
        "    return epoch_metric / len(iterator), epoch_loss / len(iterator) # возвращаем среднее значение по всей выборке"
      ],
      "execution_count": null,
      "outputs": []
    },
    {
      "cell_type": "code",
      "metadata": {
        "id": "MRQrfH-Tgp2U"
      },
      "source": [
        "model = CNN(len(word2id), 2)\n",
        "optimizer = optim.Adam(model.parameters(), lr=0.0005)\n",
        "criterion = nn.BCELoss()  \n",
        "\n",
        "# веса модели и значения лосса храним там же, где и все остальные тензоры\n",
        "model = model.to(DEVICE)\n",
        "criterion = criterion.to(DEVICE)"
      ],
      "execution_count": null,
      "outputs": []
    },
    {
      "cell_type": "code",
      "metadata": {
        "id": "SnVHBD3eVhvI"
      },
      "source": [
        "def set_random_seed(seed):\n",
        "    torch.backends.cudnn.deterministic = True\n",
        "    torch.manual_seed(seed)\n",
        "    torch.cuda.manual_seed(seed)\n",
        "    np.random.seed(seed)\n",
        "    random.seed(seed)"
      ],
      "execution_count": null,
      "outputs": []
    },
    {
      "cell_type": "code",
      "metadata": {
        "id": "1AWPxFQY0Eox"
      },
      "source": [
        "set_random_seed(50)\n",
        "val_dataset = TweetsDataset(val_sentences, word2id, DEVICE)\n",
        "val_sampler = SequentialSampler(val_dataset)\n",
        "val_iterator = DataLoader(val_dataset, collate_fn = val_dataset.collate_fn, sampler=val_sampler, batch_size=1024)"
      ],
      "execution_count": null,
      "outputs": []
    },
    {
      "cell_type": "code",
      "metadata": {
        "colab": {
          "base_uri": "https://localhost:8080/"
        },
        "id": "mejP1CsYguez",
        "outputId": "15556425-9a87-46d4-e06d-6788398be6db"
      },
      "source": [
        "set_random_seed(50)\n",
        "\n",
        "losses = []\n",
        "losses_eval = []\n",
        "f1s = []\n",
        "f1s_eval = []\n",
        "\n",
        "for i in range(20):\n",
        "    print(f'\\nstarting Epoch {i}')\n",
        "    print('Training...')\n",
        "    epoch_loss = train(model, train_iterator, optimizer, criterion)\n",
        "    losses.append(epoch_loss)\n",
        "    print('\\nEvaluating on train...')\n",
        "    f1_on_train,_ = evaluate(model, train_iterator, criterion)\n",
        "    f1s.append(f1_on_train)\n",
        "    print('\\nEvaluating on test...')\n",
        "    f1_on_test, epoch_loss_on_test = evaluate(model, val_iterator, criterion)\n",
        "    losses_eval.append(epoch_loss_on_test)\n",
        "    f1s_eval.append(f1_on_test)"
      ],
      "execution_count": null,
      "outputs": [
        {
          "output_type": "stream",
          "name": "stdout",
          "text": [
            "\n",
            "starting Epoch 0\n",
            "Training...\n"
          ]
        },
        {
          "output_type": "stream",
          "name": "stderr",
          "text": [
            "/usr/local/lib/python3.7/dist-packages/torch/nn/modules/conv.py:298: UserWarning: Using padding='same' with even kernel lengths and odd dilation may require a zero-padded copy of the input be created (Triggered internally at  ../aten/src/ATen/native/Convolution.cpp:647.)\n",
            "  self.padding, self.dilation, self.groups)\n"
          ]
        },
        {
          "output_type": "stream",
          "name": "stdout",
          "text": [
            "Train loss: 0.7407384855406625\n",
            "Train loss: 0.7125356074037223\n",
            "Train loss: 0.7026363164186478\n",
            "Train loss: 0.6974629173844548\n",
            "Train loss: 0.6942223809860848\n",
            "\n",
            "Evaluating on train...\n",
            "Val loss: 0.7275060670716422, Val f1: 0.5808904767036438\n",
            "Val loss: 0.7025397666569414, Val f1: 0.5596998333930969\n",
            "Val loss: 0.6942912922664122, Val f1: 0.5556558966636658\n",
            "Val loss: 0.6897113181776919, Val f1: 0.5549076795578003\n",
            "Val loss: 0.6872295149274774, Val f1: 0.5548082590103149\n",
            "\n",
            "Evaluating on test...\n",
            "Val loss: 0.910044809182485, Val f1: 0.7089211940765381\n",
            "Val loss: 0.7769347940172467, Val f1: 0.6170817613601685\n",
            "Val loss: 0.7408149675889448, Val f1: 0.5927575826644897\n",
            "Val loss: 0.7250056465466818, Val f1: 0.5783572196960449\n",
            "Val loss: 0.7153457999229431, Val f1: 0.5698594450950623\n",
            "\n",
            "starting Epoch 1\n",
            "Training...\n",
            "Train loss: 0.7272479321275439\n",
            "Train loss: 0.7014403260987381\n",
            "Train loss: 0.6926393183794889\n",
            "Train loss: 0.6881799718080941\n",
            "Train loss: 0.6853366091444686\n",
            "\n",
            "Evaluating on train...\n",
            "Val loss: 0.7218964908804212, Val f1: 0.635515570640564\n",
            "Val loss: 0.6954173856768114, Val f1: 0.6198685169219971\n",
            "Val loss: 0.6872748962857507, Val f1: 0.6121039986610413\n",
            "Val loss: 0.6828914931264974, Val f1: 0.6117075681686401\n",
            "Val loss: 0.680328905582428, Val f1: 0.6106406450271606\n",
            "\n",
            "Evaluating on test...\n",
            "Val loss: 0.9035416046778361, Val f1: 0.7805694341659546\n",
            "Val loss: 0.7701435429709298, Val f1: 0.6756818294525146\n",
            "Val loss: 0.7342604940587824, Val f1: 0.6512793302536011\n",
            "Val loss: 0.71878103017807, Val f1: 0.6341484189033508\n",
            "Val loss: 0.7095094448641727, Val f1: 0.6258416771888733\n",
            "\n",
            "starting Epoch 2\n",
            "Training...\n",
            "Train loss: 0.718425818852016\n",
            "Train loss: 0.6938336614904732\n",
            "Train loss: 0.6855723085728559\n",
            "Train loss: 0.681358986991947\n",
            "Train loss: 0.6786655066786585\n",
            "\n",
            "Evaluating on train...\n",
            "Val loss: 0.714864833014352, Val f1: 0.5655591487884521\n",
            "Val loss: 0.6894850628129368, Val f1: 0.5469228625297546\n",
            "Val loss: 0.6822293495590036, Val f1: 0.5377367734909058\n",
            "Val loss: 0.678481918270305, Val f1: 0.5335234999656677\n",
            "Val loss: 0.6757450345400218, Val f1: 0.5327662229537964\n",
            "\n",
            "Evaluating on test...\n",
            "Val loss: 0.9011992613474528, Val f1: 0.6812292337417603\n",
            "Val loss: 0.766806389604296, Val f1: 0.5925471186637878\n",
            "Val loss: 0.7307834896174344, Val f1: 0.5701892375946045\n",
            "Val loss: 0.7156814098358154, Val f1: 0.5548443794250488\n",
            "Val loss: 0.7061329954548886, Val f1: 0.5470775365829468\n",
            "\n",
            "starting Epoch 3\n",
            "Training...\n",
            "Train loss: 0.7138594133513314\n",
            "Train loss: 0.6883673462374457\n",
            "Train loss: 0.680018815127286\n",
            "Train loss: 0.6759809407137208\n",
            "Train loss: 0.6738934396086512\n",
            "\n",
            "Evaluating on train...\n",
            "Val loss: 0.7046484053134918, Val f1: 0.6786163449287415\n",
            "Val loss: 0.6812049890386647, Val f1: 0.6542919278144836\n",
            "Val loss: 0.6731127866289832, Val f1: 0.645599365234375\n",
            "Val loss: 0.669593170537787, Val f1: 0.6402826905250549\n",
            "Val loss: 0.6672435652565312, Val f1: 0.6377421617507935\n",
            "\n",
            "Evaluating on test...\n",
            "Val loss: 0.8919672767321268, Val f1: 0.8168472647666931\n",
            "Val loss: 0.7582126770700727, Val f1: 0.7092203497886658\n",
            "Val loss: 0.7228005094961687, Val f1: 0.6806740760803223\n",
            "Val loss: 0.7081433256467183, Val f1: 0.6613844037055969\n",
            "Val loss: 0.6990711532141033, Val f1: 0.6524159908294678\n",
            "\n",
            "starting Epoch 4\n",
            "Training...\n",
            "Train loss: 0.7067065622125354\n",
            "Train loss: 0.6826373749765856\n",
            "Train loss: 0.6740900305184451\n",
            "Train loss: 0.6689178044513121\n",
            "Train loss: 0.666024788005932\n",
            "\n",
            "Evaluating on train...\n",
            "Val loss: 0.7032570966652462, Val f1: 0.6078241467475891\n",
            "Val loss: 0.6770496841134697, Val f1: 0.5883657932281494\n",
            "Val loss: 0.668740460818464, Val f1: 0.5815374255180359\n",
            "Val loss: 0.6647542472613059, Val f1: 0.5773112773895264\n",
            "Val loss: 0.6629047538783099, Val f1: 0.5736029148101807\n",
            "\n",
            "Evaluating on test...\n",
            "Val loss: 0.8902684251467387, Val f1: 0.7351926565170288\n",
            "Val loss: 0.7551242453711373, Val f1: 0.6362585425376892\n",
            "Val loss: 0.7195402492176403, Val f1: 0.6102766990661621\n",
            "Val loss: 0.7050466537475586, Val f1: 0.5947842001914978\n",
            "Val loss: 0.6956572783620734, Val f1: 0.58563631772995\n",
            "\n",
            "starting Epoch 5\n",
            "Training...\n",
            "Train loss: 0.6991300071988787\n",
            "Train loss: 0.6723997839565935\n",
            "Train loss: 0.664459003643556\n",
            "Train loss: 0.6612342323287058\n",
            "Train loss: 0.6592228605940536\n",
            "\n",
            "Evaluating on train...\n",
            "Val loss: 0.6890559835093362, Val f1: 0.6874657869338989\n",
            "Val loss: 0.6649039202723009, Val f1: 0.6689327955245972\n",
            "Val loss: 0.6571709947152571, Val f1: 0.6630781292915344\n",
            "Val loss: 0.6537075679180986, Val f1: 0.6599761247634888\n",
            "Val loss: 0.6524534507377727, Val f1: 0.6565948128700256\n",
            "\n",
            "Evaluating on test...\n",
            "Val loss: 0.8788488705952963, Val f1: 0.8308539390563965\n",
            "Val loss: 0.7454819338662284, Val f1: 0.7250778079032898\n",
            "Val loss: 0.710329608483748, Val f1: 0.6947025060653687\n",
            "Val loss: 0.6962859908739726, Val f1: 0.676040768623352\n",
            "Val loss: 0.6873978094050759, Val f1: 0.6664165258407593\n",
            "\n",
            "starting Epoch 6\n",
            "Training...\n",
            "Train loss: 0.6939874589443207\n",
            "Train loss: 0.6675903817702984\n",
            "Train loss: 0.6587630171667446\n",
            "Train loss: 0.6551636447340755\n",
            "Train loss: 0.652203973886129\n",
            "\n",
            "Evaluating on train...\n",
            "Val loss: 0.6823566598551614, Val f1: 0.6640174388885498\n",
            "Val loss: 0.6589571915823838, Val f1: 0.640373170375824\n",
            "Val loss: 0.6523593217134476, Val f1: 0.6313222050666809\n",
            "Val loss: 0.6487703171827025, Val f1: 0.6289797425270081\n",
            "Val loss: 0.6462208805857478, Val f1: 0.6273943781852722\n",
            "\n",
            "Evaluating on test...\n",
            "Val loss: 0.8743131359418234, Val f1: 0.8012735247612\n",
            "Val loss: 0.7414259995732989, Val f1: 0.6934077739715576\n",
            "Val loss: 0.7057204083962874, Val f1: 0.6636678576469421\n",
            "Val loss: 0.6919417540232341, Val f1: 0.646425724029541\n",
            "Val loss: 0.6828496205179315, Val f1: 0.6369833946228027\n",
            "\n",
            "starting Epoch 7\n",
            "Training...\n",
            "Train loss: 0.6828429102897644\n",
            "Train loss: 0.6589823406318138\n",
            "Train loss: 0.6509843915700912\n",
            "Train loss: 0.6469515774209621\n",
            "Train loss: 0.6441576384209298\n",
            "\n",
            "Evaluating on train...\n",
            "Val loss: 0.6738631767886025, Val f1: 0.7166750431060791\n",
            "Val loss: 0.6499891836067726, Val f1: 0.6923415064811707\n",
            "Val loss: 0.6427660963752053, Val f1: 0.6842452883720398\n",
            "Val loss: 0.6391559819043693, Val f1: 0.6799309849739075\n",
            "Val loss: 0.6379180929145297, Val f1: 0.6757643818855286\n",
            "\n",
            "Evaluating on test...\n",
            "Val loss: 0.8657880425453186, Val f1: 0.8603999018669128\n",
            "Val loss: 0.7343099628176007, Val f1: 0.745380163192749\n",
            "Val loss: 0.6988708105954257, Val f1: 0.7149396538734436\n",
            "Val loss: 0.6853199044863383, Val f1: 0.6966732144355774\n",
            "Val loss: 0.6766859324354875, Val f1: 0.684565007686615\n",
            "\n",
            "starting Epoch 8\n",
            "Training...\n",
            "Train loss: 0.6723155932767051\n",
            "Train loss: 0.650103182628237\n",
            "Train loss: 0.6419593867930499\n",
            "Train loss: 0.6381773635492487\n",
            "Train loss: 0.6356252149955647\n",
            "\n",
            "Evaluating on train...\n",
            "Val loss: 0.6657092188085828, Val f1: 0.7059968709945679\n",
            "Val loss: 0.6416929631397642, Val f1: 0.6806123852729797\n",
            "Val loss: 0.6343429725278508, Val f1: 0.6753098368644714\n",
            "Val loss: 0.6310917068335969, Val f1: 0.6712607741355896\n",
            "Val loss: 0.6287662620479996, Val f1: 0.6696829199790955\n",
            "\n",
            "Evaluating on test...\n",
            "Val loss: 0.8591892321904501, Val f1: 0.8507556915283203\n",
            "Val loss: 0.7280150737081256, Val f1: 0.7360277771949768\n",
            "Val loss: 0.6924090927297418, Val f1: 0.7043229937553406\n",
            "Val loss: 0.6789689342180888, Val f1: 0.6869710683822632\n",
            "Val loss: 0.6704485228187159, Val f1: 0.6763710379600525\n",
            "\n",
            "starting Epoch 9\n",
            "Training...\n",
            "Train loss: 0.6623597315379551\n",
            "Train loss: 0.6425110594979648\n",
            "Train loss: 0.6339807686480609\n",
            "Train loss: 0.6298162694704734\n",
            "Train loss: 0.627638195817535\n",
            "\n",
            "Evaluating on train...\n",
            "Val loss: 0.6666149411882673, Val f1: 0.7478037476539612\n",
            "Val loss: 0.6403170125237827, Val f1: 0.7248415946960449\n",
            "Val loss: 0.6326530968601053, Val f1: 0.7179695963859558\n",
            "Val loss: 0.6292676450842518, Val f1: 0.7141966223716736\n",
            "Val loss: 0.6280899208945196, Val f1: 0.7106037139892578\n",
            "\n",
            "Evaluating on test...\n",
            "Val loss: 0.8622125188509623, Val f1: 0.9050561189651489\n",
            "Val loss: 0.7306914414678302, Val f1: 0.7832750678062439\n",
            "Val loss: 0.6947195313193582, Val f1: 0.7516069412231445\n",
            "Val loss: 0.6816388249397278, Val f1: 0.7319735884666443\n",
            "Val loss: 0.6738872496705306, Val f1: 0.7212168574333191\n",
            "\n",
            "starting Epoch 10\n",
            "Training...\n",
            "Train loss: 0.6581735355513436\n",
            "Train loss: 0.6355819661041786\n",
            "Train loss: 0.6294239623980089\n",
            "Train loss: 0.6250354667841378\n",
            "Train loss: 0.6218186528296084\n",
            "\n",
            "Evaluating on train...\n",
            "Val loss: 0.6537172070571354, Val f1: 0.7352707386016846\n",
            "Val loss: 0.6292199739094438, Val f1: 0.713671863079071\n",
            "Val loss: 0.6201463016596708, Val f1: 0.7074263095855713\n",
            "Val loss: 0.6163570375765784, Val f1: 0.7039839625358582\n",
            "Val loss: 0.6134885799240422, Val f1: 0.7021713256835938\n",
            "\n",
            "Evaluating on test...\n",
            "Val loss: 0.8471201856931051, Val f1: 0.8887907266616821\n",
            "Val loss: 0.7182412999016898, Val f1: 0.7688475251197815\n",
            "Val loss: 0.6824278668923811, Val f1: 0.7392084002494812\n",
            "Val loss: 0.669697105884552, Val f1: 0.7206343412399292\n",
            "Val loss: 0.6617175999440645, Val f1: 0.7091187238693237\n",
            "\n",
            "starting Epoch 11\n",
            "Training...\n",
            "Train loss: 0.6505478365080697\n",
            "Train loss: 0.6266093541835916\n",
            "Train loss: 0.6182423532009125\n",
            "Train loss: 0.6145191758365954\n",
            "Train loss: 0.6116665166777533\n",
            "\n",
            "Evaluating on train...\n",
            "Val loss: 0.6437621457236153, Val f1: 0.7252388596534729\n",
            "Val loss: 0.6182372343951258, Val f1: 0.7022375464439392\n",
            "Val loss: 0.6102669753811576, Val f1: 0.6958680152893066\n",
            "Val loss: 0.6059675742003877, Val f1: 0.6932289600372314\n",
            "Val loss: 0.6045705813008386, Val f1: 0.6895393133163452\n",
            "\n",
            "Evaluating on test...\n",
            "Val loss: 0.8385719259579977, Val f1: 0.8760428428649902\n",
            "Val loss: 0.7114805579185486, Val f1: 0.7541702389717102\n",
            "Val loss: 0.6750407381491228, Val f1: 0.7238988876342773\n",
            "Val loss: 0.6622136672337849, Val f1: 0.7053859233856201\n",
            "Val loss: 0.6540408228573046, Val f1: 0.694879412651062\n",
            "\n",
            "starting Epoch 12\n",
            "Training...\n",
            "Train loss: 0.6462490218026298\n",
            "Train loss: 0.6200353770420469\n",
            "Train loss: 0.6104269583116878\n",
            "Train loss: 0.6056650765871597\n",
            "Train loss: 0.6048042017060358\n",
            "\n",
            "Evaluating on train...\n",
            "Val loss: 0.6324036717414856, Val f1: 0.7601912021636963\n",
            "Val loss: 0.6145529479816042, Val f1: 0.7340966463088989\n",
            "Val loss: 0.6066040328957818, Val f1: 0.7275012731552124\n",
            "Val loss: 0.6037899750774189, Val f1: 0.7209447026252747\n",
            "Val loss: 0.6022851918194745, Val f1: 0.7192872762680054\n",
            "\n",
            "Evaluating on test...\n",
            "Val loss: 0.8397376934687296, Val f1: 0.9122173190116882\n",
            "Val loss: 0.7123210855892727, Val f1: 0.785541832447052\n",
            "Val loss: 0.6755150935866616, Val f1: 0.7565417885780334\n",
            "Val loss: 0.6631410479545593, Val f1: 0.7369110584259033\n",
            "Val loss: 0.6558362653380946, Val f1: 0.7259483933448792\n",
            "\n",
            "starting Epoch 13\n",
            "Training...\n",
            "Train loss: 0.6280310579708644\n",
            "Train loss: 0.6077338066594354\n",
            "Train loss: 0.6013591885566711\n",
            "Train loss: 0.5988549974005101\n",
            "Train loss: 0.597287878796861\n",
            "\n",
            "Evaluating on train...\n",
            "Val loss: 0.6247874668666294, Val f1: 0.7636812925338745\n",
            "Val loss: 0.6027449698283754, Val f1: 0.7359421849250793\n",
            "Val loss: 0.5961671539328315, Val f1: 0.7271419167518616\n",
            "Val loss: 0.5934460668240563, Val f1: 0.7211257219314575\n",
            "Val loss: 0.5909885844668826, Val f1: 0.7188193202018738\n",
            "\n",
            "Evaluating on test...\n",
            "Val loss: 0.8301416436831156, Val f1: 0.9049910306930542\n",
            "Val loss: 0.7046920997755868, Val f1: 0.7786036133766174\n",
            "Val loss: 0.668364860794761, Val f1: 0.7481984496116638\n",
            "Val loss: 0.6556962688763937, Val f1: 0.7305755615234375\n",
            "Val loss: 0.6483904876207051, Val f1: 0.7201231718063354\n",
            "\n",
            "starting Epoch 14\n",
            "Training...\n",
            "Train loss: 0.6275332995823452\n",
            "Train loss: 0.6042197593327227\n",
            "Train loss: 0.5971018848094073\n",
            "Train loss: 0.5939221745830471\n",
            "Train loss: 0.5908342527376639\n",
            "\n",
            "Evaluating on train...\n",
            "Val loss: 0.6152945501463754, Val f1: 0.764742910861969\n",
            "Val loss: 0.5950275289601293, Val f1: 0.7401148676872253\n",
            "Val loss: 0.5890572179447521, Val f1: 0.731536865234375\n",
            "Val loss: 0.5861709289631601, Val f1: 0.7261781096458435\n",
            "Val loss: 0.5840748975405822, Val f1: 0.7236446142196655\n",
            "\n",
            "Evaluating on test...\n",
            "Val loss: 0.8249021967252096, Val f1: 0.9120886325836182\n",
            "Val loss: 0.7007244229316711, Val f1: 0.7832956910133362\n",
            "Val loss: 0.6641230908307162, Val f1: 0.7538028359413147\n",
            "Val loss: 0.6515633304913838, Val f1: 0.735521137714386\n",
            "Val loss: 0.6442570717711198, Val f1: 0.7246209979057312\n",
            "\n",
            "starting Epoch 15\n",
            "Training...\n",
            "Train loss: 0.6144796141556331\n",
            "Train loss: 0.5953820183359343\n",
            "Train loss: 0.5880517986687747\n",
            "Train loss: 0.5852027838513002\n",
            "Train loss: 0.581725001335144\n",
            "\n",
            "Evaluating on train...\n",
            "Val loss: 0.6155133673122951, Val f1: 0.7190455198287964\n",
            "Val loss: 0.5938203273148372, Val f1: 0.695437490940094\n",
            "Val loss: 0.58515288206664, Val f1: 0.6897796988487244\n",
            "Val loss: 0.5827974596266019, Val f1: 0.6851527094841003\n",
            "Val loss: 0.5805557539334169, Val f1: 0.6834054589271545\n",
            "\n",
            "Evaluating on test...\n",
            "Val loss: 0.8248960971832275, Val f1: 0.8588576316833496\n",
            "Val loss: 0.7011980244091579, Val f1: 0.7366494536399841\n",
            "Val loss: 0.6641285473650153, Val f1: 0.7071260809898376\n",
            "Val loss: 0.6512679815292358, Val f1: 0.6886194944381714\n",
            "Val loss: 0.6429427579829567, Val f1: 0.6778797507286072\n",
            "\n",
            "starting Epoch 16\n",
            "Training...\n",
            "Train loss: 0.6124219638960702\n",
            "Train loss: 0.5884394912884153\n",
            "Train loss: 0.5808162404732271\n",
            "Train loss: 0.5787233902236163\n",
            "Train loss: 0.5763802463943893\n",
            "\n",
            "Evaluating on train...\n",
            "Val loss: 0.6024866827896663, Val f1: 0.7545058727264404\n",
            "Val loss: 0.5797126190415745, Val f1: 0.7308138608932495\n",
            "Val loss: 0.5724893334237012, Val f1: 0.7222676277160645\n",
            "Val loss: 0.5708412709882704, Val f1: 0.7153612971305847\n",
            "Val loss: 0.5688588240662137, Val f1: 0.7116601467132568\n",
            "\n",
            "Evaluating on test...\n",
            "Val loss: 0.8143273989359537, Val f1: 0.8926845788955688\n",
            "Val loss: 0.6919276373726981, Val f1: 0.7669398784637451\n",
            "Val loss: 0.6549097733064131, Val f1: 0.7351781725883484\n",
            "Val loss: 0.642584212621053, Val f1: 0.7156916856765747\n",
            "Val loss: 0.6349735856056213, Val f1: 0.7037384510040283\n",
            "\n",
            "starting Epoch 17\n",
            "Training...\n",
            "Train loss: 0.6032707904066358\n",
            "Train loss: 0.5820156644130575\n",
            "Train loss: 0.5744413110342893\n",
            "Train loss: 0.5715534151610682\n",
            "Train loss: 0.5686691628920065\n",
            "\n",
            "Evaluating on train...\n",
            "Val loss: 0.5939519277640751, Val f1: 0.7604424357414246\n",
            "Val loss: 0.571150004863739, Val f1: 0.7411800622940063\n",
            "Val loss: 0.5673241439190778, Val f1: 0.7296304702758789\n",
            "Val loss: 0.5634034104266409, Val f1: 0.7281059622764587\n",
            "Val loss: 0.5615769600546038, Val f1: 0.7255294322967529\n",
            "\n",
            "Evaluating on test...\n",
            "Val loss: 0.8098365068435669, Val f1: 0.9116865992546082\n",
            "Val loss: 0.6883422391755241, Val f1: 0.7816288471221924\n",
            "Val loss: 0.6512684767896478, Val f1: 0.7488468289375305\n",
            "Val loss: 0.6391545335451762, Val f1: 0.7298070192337036\n",
            "Val loss: 0.6316858561415422, Val f1: 0.7179280519485474\n",
            "\n",
            "starting Epoch 18\n",
            "Training...\n",
            "Train loss: 0.5955472886562347\n",
            "Train loss: 0.575291682933939\n",
            "Train loss: 0.56669075245207\n",
            "Train loss: 0.5639389773546639\n",
            "Train loss: 0.5622808039188385\n",
            "\n",
            "Evaluating on train...\n",
            "Val loss: 0.5874775860990796, Val f1: 0.7810218930244446\n",
            "Val loss: 0.5641216389064131, Val f1: 0.7569597363471985\n",
            "Val loss: 0.559604758566076, Val f1: 0.7456137537956238\n",
            "Val loss: 0.5573931346505375, Val f1: 0.7408509254455566\n",
            "Val loss: 0.5554545618392326, Val f1: 0.7380483746528625\n",
            "\n",
            "Evaluating on test...\n",
            "Val loss: 0.8047403494517008, Val f1: 0.9242734909057617\n",
            "Val loss: 0.6856732453618731, Val f1: 0.7916162014007568\n",
            "Val loss: 0.6490724140947516, Val f1: 0.7600894570350647\n",
            "Val loss: 0.6372660398483276, Val f1: 0.7407394647598267\n",
            "Val loss: 0.6299901228202017, Val f1: 0.7288696765899658\n",
            "\n",
            "starting Epoch 19\n",
            "Training...\n",
            "Train loss: 0.588339205299105\n",
            "Train loss: 0.5670144003013085\n",
            "Train loss: 0.5608092234893278\n",
            "Train loss: 0.5571002515695863\n",
            "Train loss: 0.5562947481065184\n",
            "\n",
            "Evaluating on train...\n",
            "Val loss: 0.5860456866877419, Val f1: 0.7877599000930786\n",
            "Val loss: 0.5638619784651131, Val f1: 0.7642905116081238\n",
            "Val loss: 0.5558956441554156, Val f1: 0.7555072903633118\n",
            "Val loss: 0.5534255282353546, Val f1: 0.7509547472000122\n",
            "Val loss: 0.5519239338668617, Val f1: 0.7474818229675293\n",
            "\n",
            "Evaluating on test...\n",
            "Val loss: 0.8043844898541769, Val f1: 0.9343104362487793\n",
            "Val loss: 0.685533446925027, Val f1: 0.8003858327865601\n",
            "Val loss: 0.648649974302812, Val f1: 0.769034206867218\n",
            "Val loss: 0.6375740091005961, Val f1: 0.74920254945755\n",
            "Val loss: 0.6304258076768172, Val f1: 0.7376608848571777\n"
          ]
        }
      ]
    },
    {
      "cell_type": "code",
      "metadata": {
        "colab": {
          "base_uri": "https://localhost:8080/",
          "height": 295
        },
        "id": "RPwsVKrmjMh_",
        "outputId": "bbff1203-a366-4fb8-a145-4bc7f0e1416e"
      },
      "source": [
        "import matplotlib.pyplot as plt\n",
        "plt.plot(losses)\n",
        "plt.plot(losses_eval)\n",
        "plt.title('BCE loss value')\n",
        "plt.ylabel('BCE loss')\n",
        "plt.xlabel('epoch')\n",
        "plt.legend(['train', 'val'], loc='upper right')\n",
        "plt.show()"
      ],
      "execution_count": null,
      "outputs": [
        {
          "output_type": "display_data",
          "data": {
            "image/png": "[encoded data removed]",
            "text/plain": [
              "<Figure size 432x288 with 1 Axes>"
            ]
          },
          "metadata": {
            "needs_background": "light"
          }
        }
      ]
    },
    {
      "cell_type": "code",
      "metadata": {
        "colab": {
          "base_uri": "https://localhost:8080/",
          "height": 295
        },
        "id": "g9JwS4xXjQvl",
        "outputId": "6340e698-3c5a-4a61-8b1a-b822b4baaa7f"
      },
      "source": [
        "plt.plot(f1s)\n",
        "plt.plot(f1s_eval)\n",
        "plt.title('f1 value')\n",
        "plt.ylabel('f1 value')\n",
        "plt.xlabel('epoch')\n",
        "plt.legend(['train', 'val'], loc='upper right')\n",
        "plt.show()"
      ],
      "execution_count": null,
      "outputs": [
        {
          "output_type": "display_data",
          "data": {
            "image/png": "[encoded data removed]",
            "text/plain": [
              "<Figure size 432x288 with 1 Axes>"
            ]
          },
          "metadata": {
            "needs_background": "light"
          }
        }
      ]
    },
    {
      "cell_type": "code",
      "metadata": {
        "id": "C9CHPswmq19R"
      },
      "source": [
        "def predict(model, iterator):\n",
        "    model.eval()\n",
        "    fp = []\n",
        "    fn = []\n",
        "    tp = [] \n",
        "    tn = []\n",
        "    with torch.no_grad():\n",
        "        for i, (texts, ys) in enumerate(iterator):   \n",
        "            preds = model(texts)  # делаем предсказания на тесте \n",
        "            for pred, gold, text in zip(preds, ys, texts):\n",
        "              text = ' '.join([id2word[int(word)] for word in text if word !=0])\n",
        "              if round(pred.item()) > gold:\n",
        "                fp.append(text)\n",
        "              elif round(pred.item()) < gold:\n",
        "                fn.append(text)\n",
        "              elif round(pred.item()) == gold == 1:\n",
        "                tp.append(text)\n",
        "              elif round(pred.item()) == gold == 0:\n",
        "                tn.append(text)\n",
        "    return fp, fn, tp, tn"
      ],
      "execution_count": null,
      "outputs": []
    },
    {
      "cell_type": "code",
      "metadata": {
        "id": "zIDl1cA-q44Y"
      },
      "source": [
        "fp, fn, tp, tn = predict(model, val_iterator)"
      ],
      "execution_count": null,
      "outputs": []
    },
    {
      "cell_type": "code",
      "metadata": {
        "id": "w2XHux-krODp"
      },
      "source": [
        "precision = len(tp)/(len(tp)+len(fp))"
      ],
      "execution_count": null,
      "outputs": []
    },
    {
      "cell_type": "code",
      "metadata": {
        "id": "LfT8gnEtrdqI"
      },
      "source": [
        "recall = len(tp)/(len(tp)+len(fn))"
      ],
      "execution_count": null,
      "outputs": []
    },
    {
      "cell_type": "code",
      "metadata": {
        "id": "Hf9ptAsDr9vk"
      },
      "source": [
        "f1_score = 2*((precision*recall)/(precision+recall))"
      ],
      "execution_count": null,
      "outputs": []
    },
    {
      "cell_type": "code",
      "metadata": {
        "colab": {
          "base_uri": "https://localhost:8080/"
        },
        "id": "EhicvX2NsC1C",
        "outputId": "aed5644b-f42e-4a80-c9e8-31a81578bfd1"
      },
      "source": [
        "f1_score"
      ],
      "execution_count": null,
      "outputs": [
        {
          "output_type": "execute_result",
          "data": {
            "text/plain": [
              "0.7015230312035662"
            ]
          },
          "metadata": {},
          "execution_count": 40
        }
      ]
    },
    {
      "cell_type": "markdown",
      "metadata": {
        "id": "m4guIZyfSZjX"
      },
      "source": [
        "# Вторая модель\n",
        "\n",
        "Чтобы улучшить, сделал дропаут и увеличил размерность эмбеддингов (до 20)"
      ]
    },
    {
      "cell_type": "code",
      "metadata": {
        "id": "SPmKXi06URKD"
      },
      "source": [
        "class CNN_Sequel(nn.Module):\n",
        "      def __init__(self, vocab_size, embedding_dim):\n",
        "        super().__init__()\n",
        "        self.embedding = nn.Embedding(vocab_size, embedding_dim)\n",
        "        self.embedding.from_pretrained(torch.tensor(weights), freeze=True)\n",
        "        self.bigrams = nn.Conv1d(in_channels=embedding_dim, out_channels=100, kernel_size=2, padding='same')\n",
        "        self.trigrams = nn.Conv1d(in_channels=embedding_dim, out_channels=80, kernel_size=3, padding='same')\n",
        "        self.bigrams_over_layer = nn.Conv1d(in_channels=180, out_channels=180, kernel_size=2, padding='same')\n",
        "        self.pooling = nn.MaxPool1d(kernel_size=2, stride=2)\n",
        "        self.relu = nn.ReLU()\n",
        "        self.hidden = nn.Linear(in_features=180, out_features=1)\n",
        "        self.dropout = nn.Dropout(p=0.5)\n",
        "        self.out = nn.Sigmoid()\n",
        "        \n",
        "      def forward(self, word):\n",
        "        #batch_size x seq_len\n",
        "        embedded = self.embedding(word)\n",
        "        #batch_size x seq_len x embedding_dim\n",
        "        embedded = embedded.transpose(1,2)\n",
        "        #batch_size x embedding_dim x seq_len\n",
        "        feature_map_bigrams = self.relu(self.bigrams(embedded))\n",
        "        #batch_size x filter_count2 x seq_len* \n",
        "        feature_map_trigrams = self.relu(self.trigrams(embedded))\n",
        "        #batch_size x filter_count3 x seq_len*\n",
        "        concat = torch.cat((feature_map_bigrams, feature_map_trigrams), 1)\n",
        "        bigrams = self.pooling(self.relu(self.bigrams_over_layer(concat)))\n",
        "        pooling = bigrams.max(2)[0] \n",
        "        # batch _size x (filter_count2 + filter_count3)\n",
        "        logits = self.hidden(pooling) \n",
        "        logits = self.out(logits)      \n",
        "        return logits\n"
      ],
      "execution_count": null,
      "outputs": []
    },
    {
      "cell_type": "code",
      "metadata": {
        "id": "aB-90sWwUy9K"
      },
      "source": [
        "model = CNN_Sequel(len(word2id), 20)\n",
        "optimizer = optim.Adam(model.parameters(), lr=0.0005)\n",
        "criterion = nn.BCELoss()  \n",
        "\n",
        "# веса модели и значения лосса храним там же, где и все остальные тензоры\n",
        "model = model.to(DEVICE)\n",
        "criterion = criterion.to(DEVICE)"
      ],
      "execution_count": null,
      "outputs": []
    },
    {
      "cell_type": "code",
      "metadata": {
        "id": "JAWeJAXIWIDS"
      },
      "source": [
        "set_random_seed(50)\n",
        "val_dataset = TweetsDataset(val_sentences, word2id, DEVICE)\n",
        "val_sampler = SequentialSampler(val_dataset)\n",
        "val_iterator = DataLoader(val_dataset, collate_fn = val_dataset.collate_fn, sampler=val_sampler, batch_size=1024)"
      ],
      "execution_count": null,
      "outputs": []
    },
    {
      "cell_type": "code",
      "metadata": {
        "colab": {
          "base_uri": "https://localhost:8080/",
          "height": 232
        },
        "id": "OD_ex_E6U4Sc",
        "outputId": "ce94db15-a060-4f2f-b037-8ccde27ef169"
      },
      "source": [
        "set_random_seed(50)\n",
        "losses = []\n",
        "losses_eval = []\n",
        "f1s = []\n",
        "f1s_eval = []\n",
        "\n",
        "for i in range(20):\n",
        "    print(f'\\nstarting Epoch {i}')\n",
        "    print('Training...')\n",
        "    epoch_loss = train(model, train_iterator, optimizer, criterion)\n",
        "    losses.append(epoch_loss)\n",
        "    print('\\nEvaluating on train...')\n",
        "    f1_on_train,_ = evaluate(model, train_iterator, criterion)\n",
        "    f1s.append(f1_on_train)\n",
        "    print('\\nEvaluating on test...')\n",
        "    f1_on_test, epoch_loss_on_test = evaluate(model, val_iterator, criterion)\n",
        "    losses_eval.append(epoch_loss_on_test)\n",
        "    f1s_eval.append(f1_on_test)"
      ],
      "execution_count": null,
      "outputs": [
        {
          "output_type": "error",
          "ename": "NameError",
          "evalue": "ignored",
          "traceback": [
            "\u001b[0;31m---------------------------------------------------------------------------\u001b[0m",
            "\u001b[0;31mNameError\u001b[0m                                 Traceback (most recent call last)",
            "\u001b[0;32m<ipython-input-1-b7d834a88f22>\u001b[0m in \u001b[0;36m<module>\u001b[0;34m()\u001b[0m\n\u001b[0;32m----> 1\u001b[0;31m \u001b[0mset_random_seed\u001b[0m\u001b[0;34m(\u001b[0m\u001b[0;36m50\u001b[0m\u001b[0;34m)\u001b[0m\u001b[0;34m\u001b[0m\u001b[0;34m\u001b[0m\u001b[0m\n\u001b[0m\u001b[1;32m      2\u001b[0m \u001b[0mlosses\u001b[0m \u001b[0;34m=\u001b[0m \u001b[0;34m[\u001b[0m\u001b[0;34m]\u001b[0m\u001b[0;34m\u001b[0m\u001b[0;34m\u001b[0m\u001b[0m\n\u001b[1;32m      3\u001b[0m \u001b[0mlosses_eval\u001b[0m \u001b[0;34m=\u001b[0m \u001b[0;34m[\u001b[0m\u001b[0;34m]\u001b[0m\u001b[0;34m\u001b[0m\u001b[0;34m\u001b[0m\u001b[0m\n\u001b[1;32m      4\u001b[0m \u001b[0mf1s\u001b[0m \u001b[0;34m=\u001b[0m \u001b[0;34m[\u001b[0m\u001b[0;34m]\u001b[0m\u001b[0;34m\u001b[0m\u001b[0;34m\u001b[0m\u001b[0m\n\u001b[1;32m      5\u001b[0m \u001b[0mf1s_eval\u001b[0m \u001b[0;34m=\u001b[0m \u001b[0;34m[\u001b[0m\u001b[0;34m]\u001b[0m\u001b[0;34m\u001b[0m\u001b[0;34m\u001b[0m\u001b[0m\n",
            "\u001b[0;31mNameError\u001b[0m: name 'set_random_seed' is not defined"
          ]
        }
      ]
    },
    {
      "cell_type": "markdown",
      "metadata": {
        "id": "Jsi9ERM77O8h"
      },
      "source": [
        "я случайно штуку сверху запустил, все работает, можете сами проверить (сейчас перезапускать мне ничего не хочется, потому что лимт на GPU все и еще скачивать 4.5гб модели fasttext'а -- долго)"
      ]
    },
    {
      "cell_type": "code",
      "metadata": {
        "colab": {
          "base_uri": "https://localhost:8080/"
        },
        "id": "isBAFqdJfLr_",
        "outputId": "897034be-3045-4b90-930b-0e1404ba4f79"
      },
      "source": [
        "fp, fn, tp, tn = predict(model, val_iterator)\n",
        "precision = len(tp)/(len(tp)+len(fp))\n",
        "recall = len(tp)/(len(tp)+len(fn))\n",
        "f1_score = 2*((precision*recall)/(precision+recall))\n",
        "f1_score"
      ],
      "execution_count": null,
      "outputs": [
        {
          "output_type": "execute_result",
          "data": {
            "text/plain": [
              "0.7308529773738521"
            ]
          },
          "metadata": {},
          "execution_count": 60
        }
      ]
    },
    {
      "cell_type": "markdown",
      "metadata": {
        "id": "xJbGKYz0Srdj"
      },
      "source": [
        "Трудно что-то сказать о том, почему он неверно определяет некоторые твитты. Я думаю, просто мало слов и из-за этого недостаточно контекста (может быть, сказывается фильтр, который берет только токена, которые встречаются больше 4 раз)"
      ]
    },
    {
      "cell_type": "code",
      "metadata": {
        "colab": {
          "base_uri": "https://localhost:8080/"
        },
        "id": "Kc3m2e39lvNU",
        "outputId": "e44fd171-7f4d-4e71-9662-3fe1ab2497c1"
      },
      "source": [
        "shuffle(fp)[:10]"
      ],
      "execution_count": null,
      "outputs": [
        {
          "output_type": "execute_result",
          "data": {
            "text/plain": [
              "['хуже сайта надо поискать url',\n",
              " 'user знаю я тогда ждала сильно а сейчас пофиг ',\n",
              " 'user по пятнице обещали а я до сих пор жду 3 серии подряд типа',\n",
              " 'спала с десяти до двух днем а сейчас ни в одном глазу',\n",
              " 'ведь не будет уже такого проекта голос да с такими url',\n",
              " 'user у меня по ссылке категорически отказывается переводить',\n",
              " 'user могу тебя на одну завтра но только тебе придется спать на кресле и я с очень и поздно ложимся',\n",
              " 'user тоже иногда бывают  хотя думаю что сейчас это действительно зря',\n",
              " 'user мне он наоборот очень ',\n",
              " 'user какие вот бывает же люди а']"
            ]
          },
          "metadata": {},
          "execution_count": 87
        }
      ]
    },
    {
      "cell_type": "code",
      "metadata": {
        "colab": {
          "base_uri": "https://localhost:8080/"
        },
        "id": "UMj4zdyorLog",
        "outputId": "ae43b6bc-3cac-41f5-c500-66ac7a21fad6"
      },
      "source": [
        "shuffle(fn)[:10]"
      ],
      "execution_count": null,
      "outputs": [
        {
          "output_type": "execute_result",
          "data": {
            "text/plain": [
              "['rt user я то думала  что таких уже нет  url',\n",
              " 'люблю одну нравится другая а хочу быть с третьей нормально вообще',\n",
              " 'опять смертельно захотела работать в не',\n",
              " 'rt user почему шоколад такой вкусный',\n",
              " 'rt user user ты опять злой я телефон отдам тока пароль папки узнаю где песни и фотки ',\n",
              " 'у  майки   паука   days  блядь ',\n",
              " 'погуляли как правда чуть не ничего',\n",
              " 'user тогда понятно но все увы нихера не понимаю в',\n",
              " 'ахаха уже утро пиздец доброго всем не еще не помню когда в последний раз такую ночь не спал и проебал',\n",
              " 'блиин вчера же у меня были именины а я со всем забыла']"
            ]
          },
          "metadata": {},
          "execution_count": 88
        }
      ]
    },
    {
      "cell_type": "markdown",
      "metadata": {
        "id": "Q7OqCsB2TP9_"
      },
      "source": [
        "# Третья модель (пункт II)"
      ]
    },
    {
      "cell_type": "code",
      "metadata": {
        "colab": {
          "base_uri": "https://localhost:8080/"
        },
        "id": "vZzHC6pBH8KR",
        "outputId": "8cdffbd9-1c14-4731-8d31-31729c3a200a"
      },
      "source": [
        "vocab = Counter()\n",
        "\n",
        "for text in tweets_data['text']:\n",
        "    vocab.update(preprocess(text))\n",
        "print('всего уникальных токенов:', len(vocab))"
      ],
      "execution_count": null,
      "outputs": [
        {
          "output_type": "stream",
          "name": "stdout",
          "text": [
            "всего уникальных токенов: 144870\n"
          ]
        }
      ]
    },
    {
      "cell_type": "code",
      "metadata": {
        "colab": {
          "base_uri": "https://localhost:8080/"
        },
        "id": "ww9CxN7zJufn",
        "outputId": "44de3102-17a9-431a-fd5f-b755930ade46"
      },
      "source": [
        "filtered_vocab = set()\n",
        "\n",
        "for word in vocab:    \n",
        "  if vocab[word] > 2:        \n",
        "    filtered_vocab.add(word)\n",
        "print('уникальных токенов, втретившихся больше 2 раз:', len(filtered_vocab))"
      ],
      "execution_count": null,
      "outputs": [
        {
          "output_type": "stream",
          "name": "stdout",
          "text": [
            "уникальных токенов, втретившихся больше 2 раз: 28246\n"
          ]
        }
      ]
    },
    {
      "cell_type": "code",
      "metadata": {
        "id": "7rUJqjmPKX3x"
      },
      "source": [
        "word2id = {'PAD':0}\n",
        "\n",
        "for word in filtered_vocab:\n",
        "    word2id[word] = len(word2id)"
      ],
      "execution_count": null,
      "outputs": []
    },
    {
      "cell_type": "code",
      "metadata": {
        "id": "Vs0N98ubKaCE"
      },
      "source": [
        "id2word = {i:word for word, i in word2id.items()}"
      ],
      "execution_count": null,
      "outputs": []
    },
    {
      "cell_type": "code",
      "metadata": {
        "colab": {
          "base_uri": "https://localhost:8080/"
        },
        "id": "HSPeXW-gKq4T",
        "outputId": "b0f6cb10-16a8-4273-dba9-3214dc3a8769"
      },
      "source": [
        "DEVICE = torch.device('cuda') if torch.cuda.is_available() else torch.device('cpu')\n",
        "DEVICE"
      ],
      "execution_count": null,
      "outputs": [
        {
          "output_type": "execute_result",
          "data": {
            "text/plain": [
              "device(type='cpu')"
            ]
          },
          "metadata": {},
          "execution_count": 195
        }
      ]
    },
    {
      "cell_type": "code",
      "metadata": {
        "id": "syxK41s6K2fh"
      },
      "source": [
        "char_vocab = Counter()\n",
        "for char in tweets_data['text']:\n",
        "    char_vocab.update(list(char))\n",
        "\n",
        "symbol2id = {'PAD':0}\n",
        "\n",
        "for symbol in char_vocab:\n",
        "    symbol2id[symbol] = len(symbol2id)"
      ],
      "execution_count": null,
      "outputs": []
    },
    {
      "cell_type": "code",
      "metadata": {
        "colab": {
          "base_uri": "https://localhost:8080/"
        },
        "id": "gi11TEyXLH5D",
        "outputId": "403235c2-79b9-4062-a513-3e8068a2d21a"
      },
      "source": [
        "len(symbol2id)"
      ],
      "execution_count": null,
      "outputs": [
        {
          "output_type": "execute_result",
          "data": {
            "text/plain": [
              "340"
            ]
          },
          "metadata": {},
          "execution_count": 197
        }
      ]
    },
    {
      "cell_type": "markdown",
      "metadata": {
        "id": "AVMTqqOWTeRI"
      },
      "source": [
        "Сделаем препроц и уберем скобки и всякие другие символы (см. функцию preprocess)"
      ]
    },
    {
      "cell_type": "code",
      "metadata": {
        "id": "oXfZhdEk2g3w"
      },
      "source": [
        "train_sentences['text'] = train_sentences.apply(lambda row: ' '.join(preprocess(row['text'])), axis=1)"
      ],
      "execution_count": null,
      "outputs": []
    },
    {
      "cell_type": "code",
      "metadata": {
        "id": "FhVpYrmxLObJ"
      },
      "source": [
        "class WordSymbDataset(Dataset):\n",
        "\n",
        "    def __init__(self, dataset, word2id, symbol2id, DEVICE):\n",
        "        self.dataset = dataset['text'].values\n",
        "        self.word2id = word2id\n",
        "        self.symbol2id = symbol2id\n",
        "        self.length = dataset.shape[0]\n",
        "        self.target = torch.Tensor(dataset['tone'].values)\n",
        "        self.device = DEVICE\n",
        "\n",
        "    def __len__(self):\n",
        "        return self.length\n",
        "\n",
        "    def __getitem__(self, index): \n",
        "        symbols = list(self.dataset[index])\n",
        "        symb_ids = torch.LongTensor([self.symbol2id[symbol] for symbol in symbols if symbol in self.symbol2id])\n",
        "        tokens = self.dataset[index].split()\n",
        "        word_ids = torch.LongTensor([self.word2id[token] for token in tokens if token in self.word2id])\n",
        "        y = [self.target[index]]\n",
        "        return word_ids, symb_ids, y\n",
        "\n",
        "    def collate_fn(self, batch): #этот метод можно реализовывать и отдельно,\n",
        "    # он понадобится для DataLoader во время итерации по батчам\n",
        "      word_ids, symb_ids, y = list(zip(*batch))\n",
        "      padded_words = pad_sequence(word_ids, batch_first=True).to(self.device)\n",
        "      padded_symbs = pad_sequence(symb_ids, batch_first=True).to(self.device)\n",
        "      y = torch.Tensor(y).to(self.device)\n",
        "      return padded_words, padded_symbs, y"
      ],
      "execution_count": null,
      "outputs": []
    },
    {
      "cell_type": "code",
      "metadata": {
        "colab": {
          "base_uri": "https://localhost:8080/",
          "height": 419
        },
        "id": "7VLcV2uB3cyH",
        "outputId": "3ba76403-2c1a-4180-da69-5649e39a1da3"
      },
      "source": [
        "train_sentences"
      ],
      "execution_count": null,
      "outputs": [
        {
          "output_type": "execute_result",
          "data": {
            "text/html": [
              "<div>\n",
              "<style scoped>\n",
              "    .dataframe tbody tr th:only-of-type {\n",
              "        vertical-align: middle;\n",
              "    }\n",
              "\n",
              "    .dataframe tbody tr th {\n",
              "        vertical-align: top;\n",
              "    }\n",
              "\n",
              "    .dataframe thead th {\n",
              "        text-align: right;\n",
              "    }\n",
              "</style>\n",
              "<table border=\"1\" class=\"dataframe\">\n",
              "  <thead>\n",
              "    <tr style=\"text-align: right;\">\n",
              "      <th></th>\n",
              "      <th>text</th>\n",
              "      <th>tone</th>\n",
              "    </tr>\n",
              "  </thead>\n",
              "  <tbody>\n",
              "    <tr>\n",
              "      <th>59549</th>\n",
              "      <td>ебать бывший отвез папу домой спасибо тебе что...</td>\n",
              "      <td>1</td>\n",
              "    </tr>\n",
              "    <tr>\n",
              "      <th>99129</th>\n",
              "      <td>кексики и вафельки эхх прощай фигура а еще ж н...</td>\n",
              "      <td>1</td>\n",
              "    </tr>\n",
              "    <tr>\n",
              "      <th>53064</th>\n",
              "      <td>качество супер конечно только достал фотик и т...</td>\n",
              "      <td>0</td>\n",
              "    </tr>\n",
              "    <tr>\n",
              "      <th>51245</th>\n",
              "      <td>rt user можно вкрутить в транспорты кто дружит...</td>\n",
              "      <td>1</td>\n",
              "    </tr>\n",
              "    <tr>\n",
              "      <th>85234</th>\n",
              "      <td>твит новому читателю user пижамка рада тебе</td>\n",
              "      <td>1</td>\n",
              "    </tr>\n",
              "    <tr>\n",
              "      <th>...</th>\n",
              "      <td>...</td>\n",
              "      <td>...</td>\n",
              "    </tr>\n",
              "    <tr>\n",
              "      <th>36758</th>\n",
              "      <td>user привет привет мне работу в вязальной пред...</td>\n",
              "      <td>1</td>\n",
              "    </tr>\n",
              "    <tr>\n",
              "      <th>99338</th>\n",
              "      <td>я его не люблююю нееет просто его глаза улыбка...</td>\n",
              "      <td>0</td>\n",
              "    </tr>\n",
              "    <tr>\n",
              "      <th>97469</th>\n",
              "      <td>такие волосы длинные у меня были 2 года прошло...</td>\n",
              "      <td>0</td>\n",
              "    </tr>\n",
              "    <tr>\n",
              "      <th>57375</th>\n",
              "      <td>мне бы лишь минуту чтобы понять кто мы друг др...</td>\n",
              "      <td>1</td>\n",
              "    </tr>\n",
              "    <tr>\n",
              "      <th>39115</th>\n",
              "      <td>друг с моим лемуром friend url</td>\n",
              "      <td>1</td>\n",
              "    </tr>\n",
              "  </tbody>\n",
              "</table>\n",
              "<p>80000 rows × 2 columns</p>\n",
              "</div>"
            ],
            "text/plain": [
              "                                                    text  tone\n",
              "59549  ебать бывший отвез папу домой спасибо тебе что...     1\n",
              "99129  кексики и вафельки эхх прощай фигура а еще ж н...     1\n",
              "53064  качество супер конечно только достал фотик и т...     0\n",
              "51245  rt user можно вкрутить в транспорты кто дружит...     1\n",
              "85234        твит новому читателю user пижамка рада тебе     1\n",
              "...                                                  ...   ...\n",
              "36758  user привет привет мне работу в вязальной пред...     1\n",
              "99338  я его не люблююю нееет просто его глаза улыбка...     0\n",
              "97469  такие волосы длинные у меня были 2 года прошло...     0\n",
              "57375  мне бы лишь минуту чтобы понять кто мы друг др...     1\n",
              "39115                     друг с моим лемуром friend url     1\n",
              "\n",
              "[80000 rows x 2 columns]"
            ]
          },
          "metadata": {},
          "execution_count": 253
        }
      ]
    },
    {
      "cell_type": "code",
      "metadata": {
        "id": "dWdxO7gYLv1I"
      },
      "source": [
        "set_random_seed(50)\n",
        "train_dataset = WordSymbDataset(train_sentences, word2id, symbol2id, DEVICE)\n",
        "train_sampler = RandomSampler(train_dataset)\n",
        "train_iterator = DataLoader(train_dataset, collate_fn = train_dataset.collate_fn, sampler=train_sampler, batch_size=1024)"
      ],
      "execution_count": null,
      "outputs": []
    },
    {
      "cell_type": "markdown",
      "metadata": {
        "id": "1EpetBDUToHC"
      },
      "source": [
        "Аналогичный препроц для валидационной выборки"
      ]
    },
    {
      "cell_type": "code",
      "metadata": {
        "id": "6tDJJ_DZ3Lap"
      },
      "source": [
        "val_sentences['text'] = val_sentences.apply(lambda row: ' '.join(preprocess(row['text'])), axis=1)"
      ],
      "execution_count": null,
      "outputs": []
    },
    {
      "cell_type": "code",
      "metadata": {
        "id": "Weaz8kTLL45O"
      },
      "source": [
        "set_random_seed(50)\n",
        "val_dataset = WordSymbDataset(val_sentences, word2id, symbol2id, DEVICE)\n",
        "val_sampler = SequentialSampler(val_dataset)\n",
        "val_iterator = DataLoader(val_dataset, collate_fn = val_dataset.collate_fn, sampler=val_sampler, batch_size=1024)"
      ],
      "execution_count": null,
      "outputs": []
    },
    {
      "cell_type": "code",
      "metadata": {
        "id": "xcxsKghWL82n"
      },
      "source": [
        "class WordSymbCNN(nn.Module):\n",
        "    def __init__(self, symb_vocab_size, symb_embedding_dim, word_vocab_size):\n",
        "        super().__init__()\n",
        "\n",
        "        # Word-level layers\n",
        "        self.word_embedding = nn.Embedding(word_vocab_size, 100)\n",
        "        self.word_embedding.from_pretrained(torch.tensor(weights), freeze=True)\n",
        "        self.word_hidden = nn.Linear(100, 100) \n",
        "\n",
        "\n",
        "        # Symbol-level layers\n",
        "        self.symb_embedding = nn.Embedding(symb_vocab_size, symb_embedding_dim)\n",
        "        self.symb_bigrams = nn.Conv1d(in_channels=symb_embedding_dim, out_channels=100, kernel_size=2, padding='same')\n",
        "        self.symb_trigrams = nn.Conv1d(in_channels=symb_embedding_dim, out_channels=80, kernel_size=3, padding='same')\n",
        "        self.symb_pooling = nn.MaxPool1d(kernel_size=2, stride=2)\n",
        "        self.symb_hidden = nn.Linear(in_features=180, out_features=100)\n",
        "        \n",
        "\n",
        "        # Universal layers\n",
        "        self.linear = nn.Linear(in_features=200, out_features=1)\n",
        "        self.dropout = nn.Dropout(p=0.5)\n",
        "        self.relu = nn.ReLU()   \n",
        "        self.out = nn.Sigmoid()\n",
        "\n",
        "\n",
        "    def forward(self, words_seq, symb_seq):\n",
        "        #batch_size x seq_len\n",
        "        embedded = self.symb_embedding(symb_seq)\n",
        "        #batch_size x seq_len x embedding_dim\n",
        "        embedded = embedded.transpose(1,2)\n",
        "        #batch_size x embedding_dim x seq_len\n",
        "        feature_map_bigrams = self.dropout(self.symb_pooling(self.relu(self.symb_bigrams(embedded))))\n",
        "        #batch_size x filter_count2 x seq_len* \n",
        "        feature_map_trigrams = self.dropout(self.symb_pooling(self.relu(self.symb_trigrams(embedded))))\n",
        "        #batch_size x filter_count3 x seq_len*\n",
        "\n",
        "        pooling1 = feature_map_bigrams.max(2)[0] \n",
        "        # batch_size x filter_count2\n",
        "        pooling2 = feature_map_trigrams.max(2)[0]\n",
        "        # batch_size x filter_count3\n",
        "        concat = torch.cat((pooling1, pooling2), 1)\n",
        "        # batch_size x (filter_count2 + filter_count3)\n",
        "        symb_vec = self.symb_hidden(concat)\n",
        "\n",
        "        embedded_words = self.word_embedding(words_seq)   # переводим последовательность индексов в последовательность эмбеддингов\n",
        "        mean_emb_words = torch.mean(embedded_words, dim=1) # считаем средний эмбеддинг предложения\n",
        "        word_vec = self.dropout(self.word_hidden(mean_emb_words)) # пропускаем эмбеддинг через полносвязный слой \n",
        "        word_vec = self.dropout(self.relu(word_vec))\n",
        "        concat = torch.cat((symb_vec, word_vec), 1)\n",
        "        logits = self.out(self.linear(concat))      \n",
        "        return logits"
      ],
      "execution_count": null,
      "outputs": []
    },
    {
      "cell_type": "code",
      "metadata": {
        "id": "-Rw5lItBMf2V"
      },
      "source": [
        "model = WordSymbCNN(len(symbol2id), 20, len(word2id))\n",
        "optimizer = optim.Adam(model.parameters(), lr=0.0005)\n",
        "criterion = nn.BCELoss()  \n",
        "\n",
        "# веса модели и значения лосса храним там же, где и все остальные тензоры\n",
        "model = model.to(DEVICE)\n",
        "criterion = criterion.to(DEVICE)"
      ],
      "execution_count": null,
      "outputs": []
    },
    {
      "cell_type": "code",
      "metadata": {
        "id": "R9L5CrdRPujJ"
      },
      "source": [
        "def train(model, iterator, optimizer, criterion):\n",
        "    epoch_loss = 0 # для подсчета среднего лосса на всех батчах\n",
        "\n",
        "    model.train()  # ставим модель в обучение, явно указываем, что сейчас надо будет хранить градиенты у всех весов\n",
        "\n",
        "    for i, (texts, symbols, ys) in enumerate(iterator): #итерируемся по батчам\n",
        "        optimizer.zero_grad()  #обнуляем градиенты\n",
        "        preds = model(texts, symbols)  #прогоняем данные через модель\n",
        "        loss = criterion(preds, ys) #считаем значение функции потерь  \n",
        "        loss.backward() #считаем градиенты  \n",
        "        optimizer.step() #обновляем веса \n",
        "        epoch_loss += loss.item() #сохраняем значение функции потерь\n",
        "        if not (i + 1) % int(len(iterator)/5):\n",
        "            print(f'Train loss: {epoch_loss/i}')      \n",
        "    return  epoch_loss / len(iterator) # возвращаем среднее значение лосса по всей выборке"
      ],
      "execution_count": null,
      "outputs": []
    },
    {
      "cell_type": "code",
      "metadata": {
        "id": "Syz3mU8kQl9u"
      },
      "source": [
        "def evaluate(model, iterator, criterion):\n",
        "    epoch_loss = 0\n",
        "    epoch_metric = 0\n",
        "    model.eval() \n",
        "    with torch.no_grad():\n",
        "        for i, (texts, symbols, ys) in enumerate(iterator):   \n",
        "            preds = model(texts, symbols)  # делаем предсказания на тесте\n",
        "            loss = criterion(preds, ys)   # считаем значения функции ошибки для статистики  \n",
        "            epoch_loss += loss.item()\n",
        "            batch_metric = f1(preds.round().long(), ys.long(), ignore_index=0)\n",
        "            epoch_metric += batch_metric\n",
        "\n",
        "            if not (i + 1) % int(len(iterator)/5):\n",
        "              print(f'Val loss: {epoch_loss/i}, Val f1: {epoch_metric/i}')\n",
        "        \n",
        "    return epoch_metric / len(iterator), epoch_loss / len(iterator) # возвращаем среднее значение по всей выборке"
      ],
      "execution_count": null,
      "outputs": []
    },
    {
      "cell_type": "code",
      "metadata": {
        "id": "HK936YR7fVeK"
      },
      "source": [
        "def predict(model, iterator):\n",
        "    model.eval()\n",
        "    fp = []\n",
        "    fn = []\n",
        "    tp = [] \n",
        "    tn = []\n",
        "    with torch.no_grad():\n",
        "        for i, (texts, symbols, ys) in enumerate(iterator):   \n",
        "            preds = model(texts, symbols)  # делаем предсказания на тесте \n",
        "            for pred, gold, text in zip(preds, ys, texts):\n",
        "              text = ' '.join([id2word[int(word)] for word in text if word !=0])\n",
        "              if round(pred.item()) > gold:\n",
        "                fp.append(text)\n",
        "              elif round(pred.item()) < gold:\n",
        "                fn.append(text)\n",
        "              elif round(pred.item()) == gold == 1:\n",
        "                tp.append(text)\n",
        "              elif round(pred.item()) == gold == 0:\n",
        "                tn.append(text)\n",
        "    return fp, fn, tp, tn"
      ],
      "execution_count": null,
      "outputs": []
    },
    {
      "cell_type": "code",
      "metadata": {
        "colab": {
          "base_uri": "https://localhost:8080/"
        },
        "id": "VPeDWhmxOYwj",
        "outputId": "e15fa58e-779a-4e37-8c09-e29ee15e3ec6"
      },
      "source": [
        "set_random_seed(50)\n",
        "\n",
        "losses = []\n",
        "losses_eval = []\n",
        "f1s = []\n",
        "f1s_eval = []\n",
        "\n",
        "for i in range(10):\n",
        "    print(f'\\nstarting Epoch {i}')\n",
        "    print('Training...')\n",
        "    epoch_loss = train(model, train_iterator, optimizer, criterion)\n",
        "    losses.append(epoch_loss)\n",
        "    print('\\nEvaluating on train...')\n",
        "    f1_on_train,_ = evaluate(model, train_iterator, criterion)\n",
        "    f1s.append(f1_on_train)\n",
        "    print('\\nEvaluating on test...')\n",
        "    f1_on_test, epoch_loss_on_test = evaluate(model, val_iterator, criterion)\n",
        "    losses_eval.append(epoch_loss_on_test)\n",
        "    f1s_eval.append(f1_on_test)"
      ],
      "execution_count": null,
      "outputs": [
        {
          "output_type": "stream",
          "name": "stdout",
          "text": [
            "\n",
            "starting Epoch 0\n",
            "Training...\n",
            "Train loss: 0.7468876838684082\n",
            "Train loss: 0.7113074023148109\n",
            "Train loss: 0.697239644148133\n",
            "Train loss: 0.6878040675389565\n",
            "Train loss: 0.679998941518165\n",
            "\n",
            "Evaluating on train...\n",
            "Val loss: 0.6994911219392504, Val f1: 0.7321763038635254\n",
            "Val loss: 0.676243860146095, Val f1: 0.7062389850616455\n",
            "Val loss: 0.6682056987827475, Val f1: 0.7004132270812988\n",
            "Val loss: 0.663784240261983, Val f1: 0.6988243460655212\n",
            "Val loss: 0.6610845391814774, Val f1: 0.6976481080055237\n",
            "\n",
            "Evaluating on test...\n",
            "Val loss: 0.8711917201677958, Val f1: 0.9199808239936829\n",
            "Val loss: 0.7460022653852191, Val f1: 0.7863978147506714\n",
            "Val loss: 0.7114907882430337, Val f1: 0.7521045207977295\n",
            "Val loss: 0.6963154474894205, Val f1: 0.73482346534729\n",
            "Val loss: 0.6866956635525352, Val f1: 0.7256433963775635\n",
            "\n",
            "starting Epoch 1\n",
            "Training...\n",
            "Train loss: 0.6777452528476715\n",
            "Train loss: 0.6466206599926126\n",
            "Train loss: 0.6324724568562075\n",
            "Train loss: 0.6246585997484498\n",
            "Train loss: 0.618471211678273\n",
            "\n",
            "Evaluating on train...\n",
            "Val loss: 0.641982057264873, Val f1: 0.7705054879188538\n",
            "Val loss: 0.6225552497238949, Val f1: 0.7377792596817017\n",
            "Val loss: 0.6171737719665874, Val f1: 0.7265149354934692\n",
            "Val loss: 0.6128026075282339, Val f1: 0.7234209775924683\n",
            "Val loss: 0.6113259252664205, Val f1: 0.7208977341651917\n",
            "\n",
            "Evaluating on test...\n",
            "Val loss: 0.8110711375872294, Val f1: 0.9433662295341492\n",
            "Val loss: 0.6911527855055672, Val f1: 0.807454526424408\n",
            "Val loss: 0.6594850800254128, Val f1: 0.7713671326637268\n",
            "Val loss: 0.6461063424746195, Val f1: 0.7548561692237854\n",
            "Val loss: 0.6361411307987413, Val f1: 0.7473023533821106\n",
            "\n",
            "starting Epoch 2\n",
            "Training...\n",
            "Train loss: 0.6294223921639579\n",
            "Train loss: 0.6045506596565247\n",
            "Train loss: 0.5980861999771812\n",
            "Train loss: 0.59381487005848\n",
            "Train loss: 0.5904101584408734\n",
            "\n",
            "Evaluating on train...\n",
            "Val loss: 0.622538149356842, Val f1: 0.7461269497871399\n",
            "Val loss: 0.6002987993174586, Val f1: 0.7196454405784607\n",
            "Val loss: 0.5951834524219687, Val f1: 0.7082046270370483\n",
            "Val loss: 0.5922062205056012, Val f1: 0.7049415707588196\n",
            "Val loss: 0.5905164576865531, Val f1: 0.7028017044067383\n",
            "\n",
            "Evaluating on test...\n",
            "Val loss: 0.7883617877960205, Val f1: 0.9085415005683899\n",
            "Val loss: 0.6701681699071612, Val f1: 0.782366931438446\n",
            "Val loss: 0.6392216953364286, Val f1: 0.7488337159156799\n",
            "Val loss: 0.6261777957280477, Val f1: 0.7344238758087158\n",
            "Val loss: 0.6162984653523094, Val f1: 0.7274549603462219\n",
            "\n",
            "starting Epoch 3\n",
            "Training...\n",
            "Train loss: 0.6174949024404798\n",
            "Train loss: 0.5947889048477699\n",
            "Train loss: 0.5879682681777261\n",
            "Train loss: 0.5823982943922786\n",
            "Train loss: 0.58025069575052\n",
            "\n",
            "Evaluating on train...\n",
            "Val loss: 0.6190915874072483, Val f1: 0.7739753723144531\n",
            "Val loss: 0.5972985707480332, Val f1: 0.7484315633773804\n",
            "Val loss: 0.5902888558127664, Val f1: 0.7390134334564209\n",
            "Val loss: 0.5868711865554421, Val f1: 0.7368485927581787\n",
            "Val loss: 0.5854469006125992, Val f1: 0.7339737415313721\n",
            "\n",
            "Evaluating on test...\n",
            "Val loss: 0.7804726560910543, Val f1: 0.9583835601806641\n",
            "Val loss: 0.6641570670264108, Val f1: 0.8196490406990051\n",
            "Val loss: 0.6337116956710815, Val f1: 0.7831811308860779\n",
            "Val loss: 0.6211762070655823, Val f1: 0.7662168145179749\n",
            "Val loss: 0.6110196552778545, Val f1: 0.7594135999679565\n",
            "\n",
            "starting Epoch 4\n",
            "Training...\n",
            "Train loss: 0.6037635675498417\n",
            "Train loss: 0.5840786983226908\n",
            "Train loss: 0.5766358443281867\n",
            "Train loss: 0.5705590985589108\n",
            "Train loss: 0.5675165089401039\n",
            "\n",
            "Evaluating on train...\n",
            "Val loss: 0.6134074415479388, Val f1: 0.7867741584777832\n",
            "Val loss: 0.5921117026230385, Val f1: 0.7619375586509705\n",
            "Val loss: 0.5852606296539307, Val f1: 0.7528820633888245\n",
            "Val loss: 0.5809222277948412, Val f1: 0.7494041919708252\n",
            "Val loss: 0.5790056723195154, Val f1: 0.7465559244155884\n",
            "\n",
            "Evaluating on test...\n",
            "Val loss: 0.7732630372047424, Val f1: 0.9734115600585938\n",
            "Val loss: 0.6588442836488996, Val f1: 0.8330971002578735\n",
            "Val loss: 0.6287911967797712, Val f1: 0.7986615896224976\n",
            "Val loss: 0.6163512309392293, Val f1: 0.7810083627700806\n",
            "Val loss: 0.6060163096377724, Val f1: 0.7740474343299866\n",
            "\n",
            "starting Epoch 5\n",
            "Training...\n",
            "Train loss: 0.5917849455560956\n",
            "Train loss: 0.5700121028669949\n",
            "Train loss: 0.5647782778198068\n",
            "Train loss: 0.5607561489283028\n",
            "Train loss: 0.5581795234937925\n",
            "\n",
            "Evaluating on train...\n",
            "Val loss: 0.5907566887991769, Val f1: 0.7964860796928406\n",
            "Val loss: 0.5730149704834511, Val f1: 0.7673254609107971\n",
            "Val loss: 0.5661091452295129, Val f1: 0.7581043243408203\n",
            "Val loss: 0.562286386045359, Val f1: 0.7545884847640991\n",
            "Val loss: 0.5605237765892132, Val f1: 0.7521055936813354\n",
            "\n",
            "Evaluating on test...\n",
            "Val loss: 0.7540297508239746, Val f1: 0.9735937714576721\n",
            "Val loss: 0.642302121434893, Val f1: 0.8339452147483826\n",
            "Val loss: 0.6128823323683306, Val f1: 0.7968647480010986\n",
            "Val loss: 0.600294848283132, Val f1: 0.7794851064682007\n",
            "Val loss: 0.5899003900979695, Val f1: 0.7725517153739929\n",
            "\n",
            "starting Epoch 6\n",
            "Training...\n",
            "Train loss: 0.5841001357351031\n",
            "Train loss: 0.5641792396019245\n",
            "Train loss: 0.5546149679205634\n",
            "Train loss: 0.5492856603557781\n",
            "Train loss: 0.5478968483370703\n",
            "\n",
            "Evaluating on train...\n",
            "Val loss: 0.5842784728322711, Val f1: 0.8017464280128479\n",
            "Val loss: 0.5622487684776043, Val f1: 0.7777112722396851\n",
            "Val loss: 0.5547958991744302, Val f1: 0.770831823348999\n",
            "Val loss: 0.5507539692571608, Val f1: 0.7667597532272339\n",
            "Val loss: 0.5498418969077032, Val f1: 0.762190043926239\n",
            "\n",
            "Evaluating on test...\n",
            "Val loss: 0.7450737158457438, Val f1: 0.9752299189567566\n",
            "Val loss: 0.635401223387037, Val f1: 0.8386016488075256\n",
            "Val loss: 0.6062854094938799, Val f1: 0.8028760552406311\n",
            "Val loss: 0.5935044248898824, Val f1: 0.7865530848503113\n",
            "Val loss: 0.5828948271901984, Val f1: 0.7783061861991882\n",
            "\n",
            "starting Epoch 7\n",
            "Training...\n",
            "Train loss: 0.5771118359906333\n",
            "Train loss: 0.5526884496212006\n",
            "Train loss: 0.5439836145801977\n",
            "Train loss: 0.5393976543919515\n",
            "Train loss: 0.5357773767129795\n",
            "\n",
            "Evaluating on train...\n",
            "Val loss: 0.5566250660589763, Val f1: 0.7861446738243103\n",
            "Val loss: 0.5387870967388153, Val f1: 0.7565706968307495\n",
            "Val loss: 0.5329088074239817, Val f1: 0.7486371397972107\n",
            "Val loss: 0.5299337713395135, Val f1: 0.7433848977088928\n",
            "Val loss: 0.5278698701310802, Val f1: 0.7418851256370544\n",
            "\n",
            "Evaluating on test...\n",
            "Val loss: 0.7288197676340739, Val f1: 0.9373021125793457\n",
            "Val loss: 0.619873012815203, Val f1: 0.8057871460914612\n",
            "Val loss: 0.5902442010966215, Val f1: 0.7731289267539978\n",
            "Val loss: 0.5764870484670003, Val f1: 0.756891131401062\n",
            "Val loss: 0.566227232155047, Val f1: 0.7496179938316345\n",
            "\n",
            "starting Epoch 8\n",
            "Training...\n",
            "Train loss: 0.5533005233321872\n",
            "Train loss: 0.532751248828296\n",
            "Train loss: 0.5266384793953462\n",
            "Train loss: 0.5230962699752743\n",
            "Train loss: 0.5223063741986816\n",
            "\n",
            "Evaluating on train...\n",
            "Val loss: 0.5493524564164025, Val f1: 0.8108482360839844\n",
            "Val loss: 0.528748606813365, Val f1: 0.7841923832893372\n",
            "Val loss: 0.5232937037944794, Val f1: 0.7746866345405579\n",
            "Val loss: 0.5192910831863597, Val f1: 0.7715004682540894\n",
            "Val loss: 0.5175794242201625, Val f1: 0.7688382863998413\n",
            "\n",
            "Evaluating on test...\n",
            "Val loss: 0.7194779912630717, Val f1: 0.9770166873931885\n",
            "Val loss: 0.6132231525012425, Val f1: 0.8365615606307983\n",
            "Val loss: 0.5839944752779874, Val f1: 0.8017093539237976\n",
            "Val loss: 0.5703985611597697, Val f1: 0.7859246730804443\n",
            "Val loss: 0.5599491533480192, Val f1: 0.7780753970146179\n",
            "\n",
            "starting Epoch 9\n",
            "Training...\n",
            "Train loss: 0.5423429480620793\n",
            "Train loss: 0.5206114978625856\n",
            "Train loss: 0.5143561038103971\n",
            "Train loss: 0.5114382828696299\n",
            "Train loss: 0.5089019855131974\n",
            "\n",
            "Evaluating on train...\n",
            "Val loss: 0.5318874163287026, Val f1: 0.8101248741149902\n",
            "Val loss: 0.5134458099973613, Val f1: 0.7795653939247131\n",
            "Val loss: 0.5070536800406196, Val f1: 0.7721284627914429\n",
            "Val loss: 0.50408108810247, Val f1: 0.7680375576019287\n",
            "Val loss: 0.5018049869182948, Val f1: 0.766427755355835\n",
            "\n",
            "Evaluating on test...\n",
            "Val loss: 0.7105415860811869, Val f1: 0.963151216506958\n",
            "Val loss: 0.604861285005297, Val f1: 0.8246350884437561\n",
            "Val loss: 0.5753312381831083, Val f1: 0.7909189462661743\n",
            "Val loss: 0.561142373085022, Val f1: 0.7742016911506653\n",
            "Val loss: 0.5508096076940235, Val f1: 0.7663478851318359\n"
          ]
        }
      ]
    },
    {
      "cell_type": "code",
      "metadata": {
        "colab": {
          "base_uri": "https://localhost:8080/",
          "height": 295
        },
        "id": "AfrQE5dLe9cR",
        "outputId": "6e39ec19-116f-4011-a746-616b565cc417"
      },
      "source": [
        "plt.plot(losses)\n",
        "plt.plot(losses_eval)\n",
        "plt.title('BCE loss value')\n",
        "plt.ylabel('BCE loss')\n",
        "plt.xlabel('epoch')\n",
        "plt.legend(['train', 'val'], loc='upper right')\n",
        "plt.show()"
      ],
      "execution_count": null,
      "outputs": [
        {
          "output_type": "display_data",
          "data": {
            "image/png": "[encoded data removed]",
            "text/plain": [
              "<Figure size 432x288 with 1 Axes>"
            ]
          },
          "metadata": {
            "needs_background": "light"
          }
        }
      ]
    },
    {
      "cell_type": "code",
      "metadata": {
        "colab": {
          "base_uri": "https://localhost:8080/",
          "height": 295
        },
        "id": "gIouIEXLfIwe",
        "outputId": "b112f9e3-4615-4ca1-f01c-ebda0fe9854d"
      },
      "source": [
        "plt.plot(f1s)\n",
        "plt.plot(f1s_eval)\n",
        "plt.title('f1 value')\n",
        "plt.ylabel('f1 value')\n",
        "plt.xlabel('epoch')\n",
        "plt.legend(['train', 'val'], loc='upper right')\n",
        "plt.show()"
      ],
      "execution_count": null,
      "outputs": [
        {
          "output_type": "display_data",
          "data": {
            "image/png": "[encoded data removed]",
            "text/plain": [
              "<Figure size 432x288 with 1 Axes>"
            ]
          },
          "metadata": {
            "needs_background": "light"
          }
        }
      ]
    },
    {
      "cell_type": "code",
      "metadata": {
        "colab": {
          "base_uri": "https://localhost:8080/"
        },
        "id": "eUVYq04xfN7L",
        "outputId": "ea63c7c0-006e-40ec-b72d-46b54b11d730"
      },
      "source": [
        "fp, fn, tp, tn = predict(model, val_iterator)\n",
        "precision = len(tp)/(len(tp)+len(fp))\n",
        "recall = len(tp)/(len(tp)+len(fn))\n",
        "f1_score = 2*((precision*recall)/(precision+recall))\n",
        "f1_score"
      ],
      "execution_count": null,
      "outputs": [
        {
          "output_type": "execute_result",
          "data": {
            "text/plain": [
              "0.7281587897862837"
            ]
          },
          "metadata": {},
          "execution_count": 266
        }
      ]
    },
    {
      "cell_type": "code",
      "metadata": {
        "colab": {
          "base_uri": "https://localhost:8080/"
        },
        "id": "oU9wa1dqxgeY",
        "outputId": "1e8b864d-c170-442d-c0a5-7ce1dfcc1919"
      },
      "source": [
        "shuffle(fn)[:10]"
      ],
      "execution_count": null,
      "outputs": [
        {
          "output_type": "execute_result",
          "data": {
            "text/plain": [
              "['rt user я закрыла дверь в свое сердце и написала входа нет но пришла любовь и сказала я не умею читать url',\n",
              " 'user user криминал как объяснила маме этот',\n",
              " 'user с четверти до четверти живут учителя весело',\n",
              " 'ну или вообще ложиться не буду и в помощь',\n",
              " 'теперь осталось написать пробный гиа по русскому языку и все хорошо',\n",
              " 'сегодня на маленькой меня впервые дпс ник я от и ни слова ему даже не сказала только права показала',\n",
              " 'user почему сразу 3 я подумал',\n",
              " 'user жень это я собираюсь на журфак а не ты а то еще в газете раньше меня глянь какие у тебя',\n",
              " 'день был теплый что на удивление особенно мне понравился танец на нг насмеялась от души было весело биология надоело все учить',\n",
              " 'о боже заставка дисней тот момент когда ты понимаешь что сейчас будет что то охуенное']"
            ]
          },
          "metadata": {},
          "execution_count": 267
        }
      ]
    },
    {
      "cell_type": "code",
      "metadata": {
        "colab": {
          "base_uri": "https://localhost:8080/"
        },
        "id": "nbzQPWV1xisw",
        "outputId": "0128a4af-91f0-42ba-b839-a8567c6b70cb"
      },
      "source": [
        "shuffle(fp)[:10]"
      ],
      "execution_count": null,
      "outputs": [
        {
          "output_type": "execute_result",
          "data": {
            "text/plain": [
              "['user user яка такі і',\n",
              " 'ну неееет ну пожалуйста у них все так хорошо начиналось моя рассталась со своей любовью',\n",
              " 'user ахахахах грусть печаль я в вк тебе написала ты игноришь же что общаться два дня будем ахах',\n",
              " 'rt user что то мегафон сегодня целый вечер тупит',\n",
              " 'user я понял такие ситуации заставляют людей меняться пусть и за такую цену',\n",
              " 'user user user а я не думал даже это все все перепутали где и другие будет суд',\n",
              " 'rt user user оох выздоравливай',\n",
              " 'user да они в этом году молодцы в отличие от и',\n",
              " 'user',\n",
              " 'блин ребята не вы этих жирных пауков которым насрать и на вашу жизнь и здоровье']"
            ]
          },
          "metadata": {},
          "execution_count": 249
        }
      ]
    },
    {
      "cell_type": "markdown",
      "metadata": {
        "id": "igmsf_x8T6nN"
      },
      "source": [
        "# Попытаемся улучшить модель\n",
        "\n",
        "Добавил еще один линейный слой и увеличил количество эпох до 15, а также вероятность дропаута с 0.5 до 0.7"
      ]
    },
    {
      "cell_type": "code",
      "metadata": {
        "id": "l9GzLuP2EtDR"
      },
      "source": [
        "class WordSymbCNN_Sequel(nn.Module):\n",
        "    def __init__(self, symb_vocab_size, symb_embedding_dim, word_vocab_size):\n",
        "        super().__init__()\n",
        "\n",
        "       # Word-level layers\n",
        "        self.word_embedding = nn.Embedding(word_vocab_size, 100)\n",
        "        self.word_embedding.from_pretrained(torch.tensor(weights), freeze=True)\n",
        "        self.word_hidden = nn.Linear(100, 100) \n",
        "\n",
        "\n",
        "        # Symbol-level layers\n",
        "        self.symb_embedding = nn.Embedding(symb_vocab_size, symb_embedding_dim)\n",
        "        self.symb_bigrams = nn.Conv1d(in_channels=symb_embedding_dim, out_channels=100, kernel_size=2, padding='same')\n",
        "        self.symb_trigrams = nn.Conv1d(in_channels=symb_embedding_dim, out_channels=80, kernel_size=3, padding='same')\n",
        "        self.symb_pooling = nn.MaxPool1d(kernel_size=2, stride=2)\n",
        "        self.symb_hidden = nn.Linear(in_features=180, out_features=100)\n",
        "        \n",
        "\n",
        "        # Universal layers\n",
        "        self.linear0 = nn.Linear(in_features=200, out_features=200)\n",
        "        self.linear = nn.Linear(in_features=200, out_features=1)\n",
        "        self.dropout = nn.Dropout(p=0.7)\n",
        "        self.relu = nn.ReLU()   \n",
        "        self.out = nn.Sigmoid()\n",
        "\n",
        "\n",
        "    def forward(self, words_seq, symb_seq):\n",
        "        #batch_size x seq_len\n",
        "        embedded = self.symb_embedding(symb_seq)\n",
        "        #batch_size x seq_len x embedding_dim\n",
        "        embedded = embedded.transpose(1,2)\n",
        "        #batch_size x embedding_dim x seq_len\n",
        "        feature_map_bigrams = self.dropout(self.symb_pooling(self.relu(self.symb_bigrams(embedded))))\n",
        "        #batch_size x filter_count2 x seq_len* \n",
        "        feature_map_trigrams = self.dropout(self.symb_pooling(self.relu(self.symb_trigrams(embedded))))\n",
        "        #batch_size x filter_count3 x seq_len*\n",
        "\n",
        "        pooling1 = feature_map_bigrams.max(2)[0] \n",
        "        # batch_size x filter_count2\n",
        "        pooling2 = feature_map_trigrams.max(2)[0]\n",
        "        # batch_size x filter_count3\n",
        "        concat = torch.cat((pooling1, pooling2), 1)\n",
        "        # batch_size x (filter_count2 + filter_count3)\n",
        "        symb_vec = self.symb_hidden(concat)\n",
        "\n",
        "        embedded_words = self.word_embedding(words_seq)   # переводим последовательность индексов в последовательность эмбеддингов\n",
        "        mean_emb_words = torch.mean(embedded_words, dim=1) # считаем средний эмбеддинг предложения\n",
        "        word_vec = self.dropout(self.word_hidden(mean_emb_words)) # пропускаем эмбеддинг через полносвязный слой \n",
        "        word_vec = self.dropout(self.relu(word_vec))\n",
        "        concat = torch.cat((symb_vec, word_vec), 1)\n",
        "        logits = self.out(self.linear(concat))      \n",
        "        return logits"
      ],
      "execution_count": null,
      "outputs": []
    },
    {
      "cell_type": "code",
      "metadata": {
        "id": "g6_wEN7-FfQv"
      },
      "source": [
        "model = WordSymbCNN_Sequel(len(symbol2id), 30, len(word2id))\n",
        "optimizer = optim.Adam(model.parameters(), lr=0.0005)\n",
        "criterion = nn.BCELoss()  \n",
        "\n",
        "# веса модели и значения лосса храним там же, где и все остальные тензоры\n",
        "model = model.to(DEVICE)\n",
        "criterion = criterion.to(DEVICE)"
      ],
      "execution_count": null,
      "outputs": []
    },
    {
      "cell_type": "code",
      "metadata": {
        "id": "pfcQJF2FF8uA"
      },
      "source": [
        "set_random_seed(50)\n",
        "train_dataset = WordSymbDataset(train_sentences, word2id, symbol2id, DEVICE)\n",
        "train_sampler = RandomSampler(train_dataset)\n",
        "train_iterator = DataLoader(train_dataset, collate_fn = train_dataset.collate_fn, sampler=train_sampler, batch_size=1024)\n",
        "\n",
        "set_random_seed(50)\n",
        "val_dataset = WordSymbDataset(val_sentences, word2id, symbol2id, DEVICE)\n",
        "val_sampler = SequentialSampler(val_dataset)\n",
        "val_iterator = DataLoader(val_dataset, collate_fn = val_dataset.collate_fn, sampler=val_sampler, batch_size=1024)"
      ],
      "execution_count": null,
      "outputs": []
    },
    {
      "cell_type": "code",
      "metadata": {
        "colab": {
          "base_uri": "https://localhost:8080/"
        },
        "id": "txBDbQuFGBst",
        "outputId": "6b1f232f-4116-4ba6-ff03-58026fe577a3"
      },
      "source": [
        "set_random_seed(50)\n",
        "\n",
        "losses = []\n",
        "losses_eval = []\n",
        "f1s = []\n",
        "f1s_eval = []\n",
        "\n",
        "for i in range(15):\n",
        "    print(f'\\nstarting Epoch {i}')\n",
        "    print('Training...')\n",
        "    epoch_loss = train(model, train_iterator, optimizer, criterion)\n",
        "    losses.append(epoch_loss)\n",
        "    print('\\nEvaluating on train...')\n",
        "    f1_on_train,_ = evaluate(model, train_iterator, criterion)\n",
        "    f1s.append(f1_on_train)\n",
        "    print('\\nEvaluating on test...')\n",
        "    f1_on_test, epoch_loss_on_test = evaluate(model, val_iterator, criterion)\n",
        "    losses_eval.append(epoch_loss_on_test)\n",
        "    f1s_eval.append(f1_on_test)"
      ],
      "execution_count": null,
      "outputs": [
        {
          "output_type": "stream",
          "name": "stdout",
          "text": [
            "\n",
            "starting Epoch 0\n",
            "Training...\n",
            "Train loss: 0.5890781155654362\n",
            "Train loss: 0.565796971321106\n",
            "Train loss: 0.5564041435718536\n",
            "Train loss: 0.5530154381768179\n",
            "Train loss: 0.5510127721606074\n",
            "\n",
            "Evaluating on train...\n",
            "Val loss: 0.5985373088291713, Val f1: 0.7826491594314575\n",
            "Val loss: 0.5780951421836327, Val f1: 0.7540016770362854\n",
            "Val loss: 0.5715588398955085, Val f1: 0.7457746267318726\n",
            "Val loss: 0.5679213414757939, Val f1: 0.7432742118835449\n",
            "Val loss: 0.5658284667375926, Val f1: 0.7405332326889038\n",
            "\n",
            "Evaluating on test...\n",
            "Val loss: 0.7628075480461121, Val f1: 0.959463357925415\n",
            "Val loss: 0.648507331098829, Val f1: 0.8231028318405151\n",
            "Val loss: 0.6182440952821211, Val f1: 0.7849380970001221\n",
            "Val loss: 0.6055590828259786, Val f1: 0.7682802677154541\n",
            "Val loss: 0.5959302908495853, Val f1: 0.7600739002227783\n",
            "\n",
            "starting Epoch 1\n",
            "Training...\n",
            "Train loss: 0.5796563667910439\n",
            "Train loss: 0.5570156265949381\n",
            "Train loss: 0.5499517077749426\n",
            "Train loss: 0.5469803698992325\n",
            "Train loss: 0.5448511786557533\n",
            "\n",
            "Evaluating on train...\n",
            "Val loss: 0.584257287638528, Val f1: 0.8079199194908142\n",
            "Val loss: 0.567490957934281, Val f1: 0.7732961773872375\n",
            "Val loss: 0.5636469532142986, Val f1: 0.7610076665878296\n",
            "Val loss: 0.5589223443451574, Val f1: 0.7585906982421875\n",
            "Val loss: 0.5575206078387596, Val f1: 0.7553483843803406\n",
            "\n",
            "Evaluating on test...\n",
            "Val loss: 0.7546253204345703, Val f1: 0.9742903709411621\n",
            "Val loss: 0.6421165466308594, Val f1: 0.8355945348739624\n",
            "Val loss: 0.6122492335059426, Val f1: 0.7977041006088257\n",
            "Val loss: 0.5995920300483704, Val f1: 0.7820570468902588\n",
            "Val loss: 0.5897855915521321, Val f1: 0.7736470103263855\n",
            "\n",
            "starting Epoch 2\n",
            "Training...\n",
            "Train loss: 0.5742796872343335\n",
            "Train loss: 0.5505324622680401\n",
            "Train loss: 0.5418084128336473\n",
            "Train loss: 0.5390678300695905\n",
            "Train loss: 0.536378530231682\n",
            "\n",
            "Evaluating on train...\n",
            "Val loss: 0.574969504560743, Val f1: 0.791351854801178\n",
            "Val loss: 0.5516390266089604, Val f1: 0.766895055770874\n",
            "Val loss: 0.5472094904292714, Val f1: 0.7560040950775146\n",
            "Val loss: 0.5446682653184665, Val f1: 0.7517037987709045\n",
            "Val loss: 0.5430497954020629, Val f1: 0.74942547082901\n",
            "\n",
            "Evaluating on test...\n",
            "Val loss: 0.7427084445953369, Val f1: 0.9583831429481506\n",
            "Val loss: 0.6315402047974723, Val f1: 0.8232945799827576\n",
            "Val loss: 0.6018464402718977, Val f1: 0.7870359420776367\n",
            "Val loss: 0.5888326684633891, Val f1: 0.7693432569503784\n",
            "Val loss: 0.5792153509039628, Val f1: 0.7601984143257141\n",
            "\n",
            "starting Epoch 3\n",
            "Training...\n",
            "Train loss: 0.5560079238244465\n",
            "Train loss: 0.5360644963280908\n",
            "Train loss: 0.5318682512099092\n",
            "Train loss: 0.5278139781143706\n",
            "Train loss: 0.5275028364078419\n",
            "\n",
            "Evaluating on train...\n",
            "Val loss: 0.5632705347878593, Val f1: 0.8001983761787415\n",
            "Val loss: 0.544268772519868, Val f1: 0.7717799544334412\n",
            "Val loss: 0.5381689979271456, Val f1: 0.7606523633003235\n",
            "Val loss: 0.5355140455698563, Val f1: 0.7565642595291138\n",
            "Val loss: 0.5341471981357884, Val f1: 0.7528017163276672\n",
            "\n",
            "Evaluating on test...\n",
            "Val loss: 0.7367240190505981, Val f1: 0.9546464085578918\n",
            "Val loss: 0.6260559473718915, Val f1: 0.8200612664222717\n",
            "Val loss: 0.5963743870908563, Val f1: 0.7849512100219727\n",
            "Val loss: 0.5831694722175598, Val f1: 0.7685015201568604\n",
            "Val loss: 0.5734949362905402, Val f1: 0.7593270540237427\n",
            "\n",
            "starting Epoch 4\n",
            "Training...\n",
            "Train loss: 0.5579759819167001\n",
            "Train loss: 0.5370543784108656\n",
            "Train loss: 0.5296604985540564\n",
            "Train loss: 0.524054271184792\n",
            "Train loss: 0.5206105664775178\n",
            "\n",
            "Evaluating on train...\n",
            "Val loss: 0.5495675206184387, Val f1: 0.8078829050064087\n",
            "Val loss: 0.5309890631971688, Val f1: 0.7805873155593872\n",
            "Val loss: 0.5250142284414985, Val f1: 0.7723578810691833\n",
            "Val loss: 0.5207492461649038, Val f1: 0.768848180770874\n",
            "Val loss: 0.518969173366959, Val f1: 0.7654457092285156\n",
            "\n",
            "Evaluating on test...\n",
            "Val loss: 0.7233656048774719, Val f1: 0.9658463597297668\n",
            "Val loss: 0.6153650539261954, Val f1: 0.8290225863456726\n",
            "Val loss: 0.5860401066866788, Val f1: 0.7938358187675476\n",
            "Val loss: 0.572872805595398, Val f1: 0.7769371271133423\n",
            "Val loss: 0.5631859396633349, Val f1: 0.7671604156494141\n",
            "\n",
            "starting Epoch 5\n",
            "Training...\n",
            "Train loss: 0.5343416248049054\n",
            "Train loss: 0.52201725491162\n",
            "Train loss: 0.5176557221195914\n",
            "Train loss: 0.5131801594111879\n",
            "Train loss: 0.511929886163892\n",
            "\n",
            "Evaluating on train...\n",
            "Val loss: 0.5405018627643585, Val f1: 0.8229537010192871\n",
            "Val loss: 0.5244535464664986, Val f1: 0.7939212918281555\n",
            "Val loss: 0.5169621794061228, Val f1: 0.786525309085846\n",
            "Val loss: 0.5141660369048684, Val f1: 0.7827709913253784\n",
            "Val loss: 0.5124247251330195, Val f1: 0.7805882692337036\n",
            "\n",
            "Evaluating on test...\n",
            "Val loss: 0.7173530260721842, Val f1: 0.9821729063987732\n",
            "Val loss: 0.6108970216342381, Val f1: 0.8438304662704468\n",
            "Val loss: 0.5819277709180658, Val f1: 0.8083797693252563\n",
            "Val loss: 0.5690019488334656, Val f1: 0.7915571928024292\n",
            "Val loss: 0.5590140882291292, Val f1: 0.7825302481651306\n",
            "\n",
            "starting Epoch 6\n",
            "Training...\n",
            "Train loss: 0.540308911885534\n",
            "Train loss: 0.5211093764880608\n",
            "Train loss: 0.5109445412050594\n",
            "Train loss: 0.5055618119441857\n",
            "Train loss: 0.5037661674054893\n",
            "\n",
            "Evaluating on train...\n",
            "Val loss: 0.5350005733115333, Val f1: 0.8269809484481812\n",
            "Val loss: 0.5144326820455748, Val f1: 0.8012436628341675\n",
            "Val loss: 0.5068595097823576, Val f1: 0.794345498085022\n",
            "Val loss: 0.5030415108648397, Val f1: 0.7904173731803894\n",
            "Val loss: 0.5014460944646114, Val f1: 0.7862535119056702\n",
            "\n",
            "Evaluating on test...\n",
            "Val loss: 0.7111760775248209, Val f1: 0.9851986765861511\n",
            "Val loss: 0.6056159223828997, Val f1: 0.843475878238678\n",
            "Val loss: 0.5767334753816779, Val f1: 0.8079973459243774\n",
            "Val loss: 0.5634435296058655, Val f1: 0.7916175127029419\n",
            "Val loss: 0.5534443353351793, Val f1: 0.7823032140731812\n",
            "\n",
            "starting Epoch 7\n",
            "Training...\n",
            "Train loss: 0.5311159597975867\n",
            "Train loss: 0.509057694468005\n",
            "Train loss: 0.5021277117458257\n",
            "Train loss: 0.4984590946617773\n",
            "Train loss: 0.4963795421896754\n",
            "\n",
            "Evaluating on train...\n",
            "Val loss: 0.5227626647268023, Val f1: 0.8259055018424988\n",
            "Val loss: 0.5050099163219847, Val f1: 0.7971903681755066\n",
            "Val loss: 0.49802677401087503, Val f1: 0.7890231609344482\n",
            "Val loss: 0.4942531464463573, Val f1: 0.7847551703453064\n",
            "Val loss: 0.4919769486060014, Val f1: 0.7834628224372864\n",
            "\n",
            "Evaluating on test...\n",
            "Val loss: 0.7068458398183187, Val f1: 0.9698777198791504\n",
            "Val loss: 0.6009088669504438, Val f1: 0.8347607254981995\n",
            "Val loss: 0.5718678886240179, Val f1: 0.8002579212188721\n",
            "Val loss: 0.5583668351173401, Val f1: 0.7837818264961243\n",
            "Val loss: 0.548568047975239, Val f1: 0.7739566564559937\n",
            "\n",
            "starting Epoch 8\n",
            "Training...\n",
            "Train loss: 0.5124974868127278\n",
            "Train loss: 0.4958356834691146\n",
            "Train loss: 0.4922786016355861\n",
            "Train loss: 0.4888595206252599\n",
            "Train loss: 0.48783592799225367\n",
            "\n",
            "Evaluating on train...\n",
            "Val loss: 0.5146597240652356, Val f1: 0.8415111303329468\n",
            "Val loss: 0.494276459874778, Val f1: 0.8135261535644531\n",
            "Val loss: 0.48943413387645374, Val f1: 0.8052800893783569\n",
            "Val loss: 0.4861936761161028, Val f1: 0.8009260892868042\n",
            "Val loss: 0.48523147444467285, Val f1: 0.7972890138626099\n",
            "\n",
            "Evaluating on test...\n",
            "Val loss: 0.7031082908312479, Val f1: 0.9991132616996765\n",
            "Val loss: 0.5984759671347482, Val f1: 0.853365421295166\n",
            "Val loss: 0.5697376998988065, Val f1: 0.8173801898956299\n",
            "Val loss: 0.5563498655954997, Val f1: 0.7997596859931946\n",
            "Val loss: 0.5460847082890963, Val f1: 0.7905701994895935\n",
            "\n",
            "starting Epoch 9\n",
            "Training...\n",
            "Train loss: 0.5142322650977543\n",
            "Train loss: 0.4905061762908409\n",
            "Train loss: 0.48457900366999884\n",
            "Train loss: 0.48056064874438914\n",
            "Train loss: 0.47896502589857254\n",
            "\n",
            "Evaluating on train...\n",
            "Val loss: 0.5025723512683596, Val f1: 0.8347349166870117\n",
            "Val loss: 0.4848006819856578, Val f1: 0.8097031712532043\n",
            "Val loss: 0.4787459854375232, Val f1: 0.8013197183609009\n",
            "Val loss: 0.4768452785782895, Val f1: 0.7968119978904724\n",
            "Val loss: 0.473603643275596, Val f1: 0.7961280941963196\n",
            "\n",
            "Evaluating on test...\n",
            "Val loss: 0.6981247862180074, Val f1: 0.9813594818115234\n",
            "Val loss: 0.593007070677621, Val f1: 0.8425071835517883\n",
            "Val loss: 0.5638749436898665, Val f1: 0.8072859048843384\n",
            "Val loss: 0.5501218398412069, Val f1: 0.7902470827102661\n",
            "Val loss: 0.5401992907649592, Val f1: 0.7806459069252014\n",
            "\n",
            "starting Epoch 10\n",
            "Training...\n",
            "Train loss: 0.5086283705064228\n",
            "Train loss: 0.4909202168727743\n",
            "Train loss: 0.48269306123256683\n",
            "Train loss: 0.4768927233704066\n",
            "Train loss: 0.4750682542452941\n",
            "\n",
            "Evaluating on train...\n",
            "Val loss: 0.48850974653448376, Val f1: 0.845569908618927\n",
            "Val loss: 0.47056236554836406, Val f1: 0.8167112469673157\n",
            "Val loss: 0.46749103543433274, Val f1: 0.8087936639785767\n",
            "Val loss: 0.4658721953125323, Val f1: 0.8031455874443054\n",
            "Val loss: 0.4646777128045623, Val f1: 0.8007898330688477\n",
            "\n",
            "Evaluating on test...\n",
            "Val loss: 0.6969519058863322, Val f1: 0.9850148558616638\n",
            "Val loss: 0.5912020121301923, Val f1: 0.8459267616271973\n",
            "Val loss: 0.561828223141757, Val f1: 0.8097944259643555\n",
            "Val loss: 0.5478724002838135, Val f1: 0.7927007675170898\n",
            "Val loss: 0.5378031056178244, Val f1: 0.7834601998329163\n",
            "\n",
            "starting Epoch 11\n",
            "Training...\n",
            "Train loss: 0.49590702780655455\n",
            "Train loss: 0.4794888290865668\n",
            "Train loss: 0.475194588303566\n",
            "Train loss: 0.471885971598706\n",
            "Train loss: 0.47023787248778987\n",
            "\n",
            "Evaluating on train...\n",
            "Val loss: 0.4818353461367743, Val f1: 0.8603090047836304\n",
            "Val loss: 0.4656661666672805, Val f1: 0.8295221924781799\n",
            "Val loss: 0.461323774673722, Val f1: 0.8180919289588928\n",
            "Val loss: 0.458541802430557, Val f1: 0.8143845796585083\n",
            "Val loss: 0.4567904291120735, Val f1: 0.8111634850502014\n",
            "\n",
            "Evaluating on test...\n",
            "Val loss: 0.6906873981157938, Val f1: 0.9935634732246399\n",
            "Val loss: 0.5863778250558036, Val f1: 0.8535456657409668\n",
            "Val loss: 0.5574629469351335, Val f1: 0.8176277279853821\n",
            "Val loss: 0.5436892728010814, Val f1: 0.8012807369232178\n",
            "Val loss: 0.533564202095333, Val f1: 0.7916154861450195\n",
            "\n",
            "starting Epoch 12\n",
            "Training...\n",
            "Train loss: 0.4914697749274118\n",
            "Train loss: 0.4667578267640081\n",
            "Train loss: 0.46458157761530444\n",
            "Train loss: 0.4628316598423457\n",
            "Train loss: 0.46173578379927455\n",
            "\n",
            "Evaluating on train...\n",
            "Val loss: 0.4746206040893282, Val f1: 0.8621605038642883\n",
            "Val loss: 0.4607582698608267, Val f1: 0.8324045538902283\n",
            "Val loss: 0.45619200373237784, Val f1: 0.8213390707969666\n",
            "Val loss: 0.4548581687070556, Val f1: 0.8157298564910889\n",
            "Val loss: 0.45354822318296173, Val f1: 0.8132947683334351\n",
            "\n",
            "Evaluating on test...\n",
            "Val loss: 0.6920768618583679, Val f1: 0.9942134022712708\n",
            "Val loss: 0.5869436689785549, Val f1: 0.8524823784828186\n",
            "Val loss: 0.5578079332004894, Val f1: 0.8164582848548889\n",
            "Val loss: 0.5440263708432516, Val f1: 0.800716757774353\n",
            "Val loss: 0.5338140224155626, Val f1: 0.7912614941596985\n",
            "\n",
            "starting Epoch 13\n",
            "Training...\n",
            "Train loss: 0.47722932270595003\n",
            "Train loss: 0.46607604417307624\n",
            "Train loss: 0.4611102450977672\n",
            "Train loss: 0.4573006094512293\n",
            "Train loss: 0.4561693185084575\n",
            "\n",
            "Evaluating on train...\n",
            "Val loss: 0.4736502489873341, Val f1: 0.8634428381919861\n",
            "Val loss: 0.4547176093890749, Val f1: 0.8349093198776245\n",
            "Val loss: 0.44894753057848324, Val f1: 0.8249065279960632\n",
            "Val loss: 0.4449983224020166, Val f1: 0.8208945393562317\n",
            "Val loss: 0.44305477875310023, Val f1: 0.8190229535102844\n",
            "\n",
            "Evaluating on test...\n",
            "Val loss: 0.6879554589589437, Val f1: 0.9962164759635925\n",
            "Val loss: 0.5832971973078591, Val f1: 0.8547121286392212\n",
            "Val loss: 0.5541366582567041, Val f1: 0.8181531429290771\n",
            "Val loss: 0.5402891755104064, Val f1: 0.8011370897293091\n",
            "Val loss: 0.5301543803591477, Val f1: 0.7919836640357971\n",
            "\n",
            "starting Epoch 14\n",
            "Training...\n",
            "Train loss: 0.48069338713373455\n",
            "Train loss: 0.4585062111246175\n",
            "Train loss: 0.45298397744243796\n",
            "Train loss: 0.4503323582269378\n",
            "Train loss: 0.448985233097463\n",
            "\n",
            "Evaluating on train...\n",
            "Val loss: 0.46911996815885815, Val f1: 0.8541695475578308\n",
            "Val loss: 0.45353125395445987, Val f1: 0.823860228061676\n",
            "Val loss: 0.4457451992414214, Val f1: 0.8164991736412048\n",
            "Val loss: 0.4417145848274231, Val f1: 0.812608003616333\n",
            "Val loss: 0.43941887045228806, Val f1: 0.8100335001945496\n",
            "\n",
            "Evaluating on test...\n",
            "Val loss: 0.6962928970654806, Val f1: 0.9750800132751465\n",
            "Val loss: 0.5882596160684314, Val f1: 0.8409867286682129\n",
            "Val loss: 0.5579626126722856, Val f1: 0.8052672743797302\n",
            "Val loss: 0.5435755670070648, Val f1: 0.7870718240737915\n",
            "Val loss: 0.5336505974593916, Val f1: 0.7780740857124329\n"
          ]
        }
      ]
    },
    {
      "cell_type": "code",
      "metadata": {
        "colab": {
          "base_uri": "https://localhost:8080/",
          "height": 295
        },
        "id": "mjMr5Y0fJVnV",
        "outputId": "ce852871-a4ad-4dd4-a427-afc22e3781a6"
      },
      "source": [
        "plt.plot(losses)\n",
        "plt.plot(losses_eval)\n",
        "plt.title('BCE loss value')\n",
        "plt.ylabel('BCE loss')\n",
        "plt.xlabel('epoch')\n",
        "plt.legend(['train', 'val'], loc='upper right')\n",
        "plt.show()"
      ],
      "execution_count": null,
      "outputs": [
        {
          "output_type": "display_data",
          "data": {
            "image/png": "[encoded data removed]",
            "text/plain": [
              "<Figure size 432x288 with 1 Axes>"
            ]
          },
          "metadata": {
            "needs_background": "light"
          }
        }
      ]
    },
    {
      "cell_type": "code",
      "metadata": {
        "colab": {
          "base_uri": "https://localhost:8080/",
          "height": 295
        },
        "id": "QwOKjhpcJZLl",
        "outputId": "496f5498-d762-470b-e267-3faabf9d21f8"
      },
      "source": [
        "plt.plot(f1s)\n",
        "plt.plot(f1s_eval)\n",
        "plt.title('f1 value')\n",
        "plt.ylabel('f1 value')\n",
        "plt.xlabel('epoch')\n",
        "plt.legend(['train', 'val'], loc='upper right')\n",
        "plt.show()"
      ],
      "execution_count": null,
      "outputs": [
        {
          "output_type": "display_data",
          "data": {
            "image/png": "[encoded data removed]",
            "text/plain": [
              "<Figure size 432x288 with 1 Axes>"
            ]
          },
          "metadata": {
            "needs_background": "light"
          }
        }
      ]
    },
    {
      "cell_type": "markdown",
      "metadata": {
        "id": "z0j4yywUSNPR"
      },
      "source": [
        "Даже маленькое улучшение -- это улучшение"
      ]
    },
    {
      "cell_type": "code",
      "metadata": {
        "colab": {
          "base_uri": "https://localhost:8080/"
        },
        "id": "uQC2YCk9Jb_9",
        "outputId": "e40d349f-c882-42ef-ba5b-f2add139afa0"
      },
      "source": [
        "fp, fn, tp, tn = predict(model, val_iterator)\n",
        "precision = len(tp)/(len(tp)+len(fp))\n",
        "recall = len(tp)/(len(tp)+len(fn))\n",
        "f1_score = 2*((precision*recall)/(precision+recall))\n",
        "f1_score"
      ],
      "execution_count": null,
      "outputs": [
        {
          "output_type": "execute_result",
          "data": {
            "text/plain": [
              "0.7392620721506645"
            ]
          },
          "metadata": {},
          "execution_count": 288
        }
      ]
    },
    {
      "cell_type": "markdown",
      "metadata": {
        "id": "ISkxnRHGV3hH"
      },
      "source": [
        "Можно было еще конечно не делать препроц и оставить скобки и другие символы. В таком случае, модель бы очень точно определяла тональность твиттов (вплоть до f-score=0.99). Я понимаю, что так можно было сделать, но решил посмотреть можно ли еще как-то поменять параметры модели, чтобы достичь улучшений."
      ]
    }
  ]
}