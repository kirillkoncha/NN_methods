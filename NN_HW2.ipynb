{
  "nbformat": 4,
  "nbformat_minor": 0,
  "metadata": {
    "colab": {
      "name": "NN_HW2.ipynb",
      "provenance": [],
      "collapsed_sections": []
    },
    "kernelspec": {
      "name": "python3",
      "display_name": "Python 3"
    },
    "language_info": {
      "name": "python"
    }
  },
  "cells": [
    {
      "cell_type": "code",
      "metadata": {
        "colab": {
          "base_uri": "https://localhost:8080/"
        },
        "id": "IwCLzrA6xS8Q",
        "outputId": "e53f7b6e-4664-4b6d-8965-38c5565104cf"
      },
      "source": [
        "!pip install fasttext"
      ],
      "execution_count": null,
      "outputs": [
        {
          "output_type": "stream",
          "name": "stdout",
          "text": [
            "Collecting fasttext\n",
            "  Downloading fasttext-0.9.2.tar.gz (68 kB)\n",
            "\u001b[?25l\r\u001b[K     |████▊                           | 10 kB 23.0 MB/s eta 0:00:01\r\u001b[K     |█████████▌                      | 20 kB 12.9 MB/s eta 0:00:01\r\u001b[K     |██████████████▎                 | 30 kB 10.4 MB/s eta 0:00:01\r\u001b[K     |███████████████████             | 40 kB 9.1 MB/s eta 0:00:01\r\u001b[K     |███████████████████████▉        | 51 kB 5.3 MB/s eta 0:00:01\r\u001b[K     |████████████████████████████▋   | 61 kB 5.4 MB/s eta 0:00:01\r\u001b[K     |████████████████████████████████| 68 kB 3.1 MB/s \n",
            "\u001b[?25hCollecting pybind11>=2.2\n",
            "  Using cached pybind11-2.8.1-py2.py3-none-any.whl (208 kB)\n",
            "Requirement already satisfied: setuptools>=0.7.0 in /usr/local/lib/python3.7/dist-packages (from fasttext) (57.4.0)\n",
            "Requirement already satisfied: numpy in /usr/local/lib/python3.7/dist-packages (from fasttext) (1.19.5)\n",
            "Building wheels for collected packages: fasttext\n",
            "  Building wheel for fasttext (setup.py) ... \u001b[?25l\u001b[?25hdone\n",
            "  Created wheel for fasttext: filename=fasttext-0.9.2-cp37-cp37m-linux_x86_64.whl size=3126115 sha256=d81ef3ee562edba4ad066806ccaca5f1c2ebabb45d63027082063d561bbe90bf\n",
            "  Stored in directory: /root/.cache/pip/wheels/4e/ca/bf/b020d2be95f7641801a6597a29c8f4f19e38f9c02a345bab9b\n",
            "Successfully built fasttext\n",
            "Installing collected packages: pybind11, fasttext\n",
            "Successfully installed fasttext-0.9.2 pybind11-2.8.1\n"
          ]
        }
      ]
    },
    {
      "cell_type": "code",
      "metadata": {
        "colab": {
          "base_uri": "https://localhost:8080/",
          "height": 854
        },
        "id": "DXAcN-KOjawh",
        "outputId": "45643fdc-c8e5-47da-8606-af252a9e4531"
      },
      "source": [
        "!pip install ipdb"
      ],
      "execution_count": null,
      "outputs": [
        {
          "output_type": "stream",
          "name": "stdout",
          "text": [
            "Collecting ipdb\n",
            "  Downloading ipdb-0.13.9.tar.gz (16 kB)\n",
            "Requirement already satisfied: setuptools in /usr/local/lib/python3.7/dist-packages (from ipdb) (57.4.0)\n",
            "Collecting ipython>=7.17.0\n",
            "  Downloading ipython-7.29.0-py3-none-any.whl (790 kB)\n",
            "\u001b[K     |████████████████████████████████| 790 kB 6.1 MB/s \n",
            "\u001b[?25hRequirement already satisfied: toml>=0.10.2 in /usr/local/lib/python3.7/dist-packages (from ipdb) (0.10.2)\n",
            "Requirement already satisfied: decorator in /usr/local/lib/python3.7/dist-packages (from ipdb) (4.4.2)\n",
            "Requirement already satisfied: traitlets>=4.2 in /usr/local/lib/python3.7/dist-packages (from ipython>=7.17.0->ipdb) (5.1.1)\n",
            "Requirement already satisfied: pexpect>4.3 in /usr/local/lib/python3.7/dist-packages (from ipython>=7.17.0->ipdb) (4.8.0)\n",
            "Requirement already satisfied: pygments in /usr/local/lib/python3.7/dist-packages (from ipython>=7.17.0->ipdb) (2.6.1)\n",
            "Requirement already satisfied: backcall in /usr/local/lib/python3.7/dist-packages (from ipython>=7.17.0->ipdb) (0.2.0)\n",
            "Requirement already satisfied: matplotlib-inline in /usr/local/lib/python3.7/dist-packages (from ipython>=7.17.0->ipdb) (0.1.3)\n",
            "Requirement already satisfied: jedi>=0.16 in /usr/local/lib/python3.7/dist-packages (from ipython>=7.17.0->ipdb) (0.18.1)\n",
            "Collecting prompt-toolkit!=3.0.0,!=3.0.1,<3.1.0,>=2.0.0\n",
            "  Downloading prompt_toolkit-3.0.22-py3-none-any.whl (374 kB)\n",
            "\u001b[K     |████████████████████████████████| 374 kB 51.6 MB/s \n",
            "\u001b[?25hRequirement already satisfied: pickleshare in /usr/local/lib/python3.7/dist-packages (from ipython>=7.17.0->ipdb) (0.7.5)\n",
            "Requirement already satisfied: parso<0.9.0,>=0.8.0 in /usr/local/lib/python3.7/dist-packages (from jedi>=0.16->ipython>=7.17.0->ipdb) (0.8.2)\n",
            "Requirement already satisfied: ptyprocess>=0.5 in /usr/local/lib/python3.7/dist-packages (from pexpect>4.3->ipython>=7.17.0->ipdb) (0.7.0)\n",
            "Requirement already satisfied: wcwidth in /usr/local/lib/python3.7/dist-packages (from prompt-toolkit!=3.0.0,!=3.0.1,<3.1.0,>=2.0.0->ipython>=7.17.0->ipdb) (0.2.5)\n",
            "Building wheels for collected packages: ipdb\n",
            "  Building wheel for ipdb (setup.py) ... \u001b[?25l\u001b[?25hdone\n",
            "  Created wheel for ipdb: filename=ipdb-0.13.9-py3-none-any.whl size=11648 sha256=d0d674ae94994d35c49878f772c0c3d0c1a43c6f2a8c8382b7957e65a8bfd02c\n",
            "  Stored in directory: /root/.cache/pip/wheels/65/cd/cc/aaf92acae337a28fdd2aa4d632196a59745c8c39f76eaeed01\n",
            "Successfully built ipdb\n",
            "Installing collected packages: prompt-toolkit, ipython, ipdb\n",
            "  Attempting uninstall: prompt-toolkit\n",
            "    Found existing installation: prompt-toolkit 1.0.18\n",
            "    Uninstalling prompt-toolkit-1.0.18:\n",
            "      Successfully uninstalled prompt-toolkit-1.0.18\n",
            "  Attempting uninstall: ipython\n",
            "    Found existing installation: ipython 5.5.0\n",
            "    Uninstalling ipython-5.5.0:\n",
            "      Successfully uninstalled ipython-5.5.0\n",
            "\u001b[31mERROR: pip's dependency resolver does not currently take into account all the packages that are installed. This behaviour is the source of the following dependency conflicts.\n",
            "jupyter-console 5.2.0 requires prompt-toolkit<2.0.0,>=1.0.0, but you have prompt-toolkit 3.0.22 which is incompatible.\n",
            "google-colab 1.0.0 requires ipython~=5.5.0, but you have ipython 7.29.0 which is incompatible.\u001b[0m\n",
            "Successfully installed ipdb-0.13.9 ipython-7.29.0 prompt-toolkit-3.0.22\n"
          ]
        },
        {
          "output_type": "display_data",
          "data": {
            "application/vnd.colab-display-data+json": {
              "pip_warning": {
                "packages": [
                  "IPython",
                  "prompt_toolkit"
                ]
              }
            }
          },
          "metadata": {}
        }
      ]
    },
    {
      "cell_type": "code",
      "metadata": {
        "colab": {
          "base_uri": "https://localhost:8080/"
        },
        "id": "yWnLjmpwgZ41",
        "outputId": "a96abefd-0d40-4af1-ac95-120680b15c97"
      },
      "source": [
        "!pip install torchmetrics"
      ],
      "execution_count": null,
      "outputs": [
        {
          "output_type": "stream",
          "name": "stdout",
          "text": [
            "Requirement already satisfied: torchmetrics in /usr/local/lib/python3.7/dist-packages (0.6.0)\n",
            "Requirement already satisfied: packaging in /usr/local/lib/python3.7/dist-packages (from torchmetrics) (21.3)\n",
            "Requirement already satisfied: torch>=1.3.1 in /usr/local/lib/python3.7/dist-packages (from torchmetrics) (1.10.0+cu111)\n",
            "Requirement already satisfied: numpy>=1.17.2 in /usr/local/lib/python3.7/dist-packages (from torchmetrics) (1.19.5)\n",
            "Requirement already satisfied: typing-extensions in /usr/local/lib/python3.7/dist-packages (from torch>=1.3.1->torchmetrics) (3.10.0.2)\n",
            "Requirement already satisfied: pyparsing!=3.0.5,>=2.0.2 in /usr/local/lib/python3.7/dist-packages (from packaging->torchmetrics) (3.0.6)\n"
          ]
        }
      ]
    },
    {
      "cell_type": "code",
      "metadata": {
        "colab": {
          "base_uri": "https://localhost:8080/"
        },
        "id": "9ASkR_GSj_bd",
        "outputId": "2b6ee25b-edc0-47fb-fb95-f569bc7b1ffa"
      },
      "source": [
        "!pip install pymorphy2"
      ],
      "execution_count": null,
      "outputs": [
        {
          "output_type": "stream",
          "name": "stdout",
          "text": [
            "Requirement already satisfied: pymorphy2 in /usr/local/lib/python3.7/dist-packages (0.9.1)\n",
            "Requirement already satisfied: docopt>=0.6 in /usr/local/lib/python3.7/dist-packages (from pymorphy2) (0.6.2)\n",
            "Requirement already satisfied: pymorphy2-dicts-ru<3.0,>=2.4 in /usr/local/lib/python3.7/dist-packages (from pymorphy2) (2.4.417127.4579844)\n",
            "Requirement already satisfied: dawg-python>=0.7.1 in /usr/local/lib/python3.7/dist-packages (from pymorphy2) (0.7.2)\n"
          ]
        }
      ]
    },
    {
      "cell_type": "code",
      "metadata": {
        "id": "ourbZ1S1jgd0"
      },
      "source": [
        "import pandas as pd\n",
        "import numpy as np\n",
        "import pymorphy2\n",
        "import re\n",
        "import random\n",
        "import fasttext.util\n",
        "import numpy as np\n",
        "\n",
        "from string import punctuation\n",
        "from collections import Counter\n",
        "\n",
        "from sklearn.model_selection import train_test_split\n",
        "from sklearn.utils import shuffle\n",
        "import torch\n",
        "import torch.nn as nn\n",
        "import torch.nn.functional as F\n",
        "from torchmetrics import F1\n",
        "from torchmetrics.functional import f1, recall\n",
        "from torch.utils.data import Dataset, DataLoader, RandomSampler, SequentialSampler\n",
        "from torch.nn.utils.rnn import pad_sequence\n",
        "import torch.optim as optim\n",
        "import ipdb"
      ],
      "execution_count": null,
      "outputs": []
    },
    {
      "cell_type": "code",
      "metadata": {
        "colab": {
          "base_uri": "https://localhost:8080/"
        },
        "id": "o3S1j50djrVy",
        "outputId": "b070fa14-c6dd-4720-9751-16fc658b83e0"
      },
      "source": [
        "!wget -O positive.csv https://www.dropbox.com/s/fnpq3z4bcnoktiv/positive.csv?dl=0\n",
        "!wget -O negative.csv https://www.dropbox.com/s/r6u59ljhhjdg6j0/negative.csv?dl=0"
      ],
      "execution_count": null,
      "outputs": [
        {
          "output_type": "stream",
          "name": "stdout",
          "text": [
            "--2021-11-25 11:00:20--  https://www.dropbox.com/s/fnpq3z4bcnoktiv/positive.csv?dl=0\n",
            "Resolving www.dropbox.com (www.dropbox.com)... 162.125.5.18, 2620:100:601d:18::a27d:512\n",
            "Connecting to www.dropbox.com (www.dropbox.com)|162.125.5.18|:443... connected.\n",
            "HTTP request sent, awaiting response... 301 Moved Permanently\n",
            "Location: /s/raw/fnpq3z4bcnoktiv/positive.csv [following]\n",
            "--2021-11-25 11:00:20--  https://www.dropbox.com/s/raw/fnpq3z4bcnoktiv/positive.csv\n",
            "Reusing existing connection to www.dropbox.com:443.\n",
            "HTTP request sent, awaiting response... 302 Found\n",
            "Location: https://uc57b995d21a044c7ef57984e56a.dl.dropboxusercontent.com/cd/0/inline/Bar5H1rPJMc0VlZFEQOBMEK2mdhkfbwIcygfSZWg2jWd7vqAfgkV1F0qhW900TCAJS6lkmUtLcXBcTn2I8FbeyND4HCMkgkgkLRDG1Hn1-2Q8re8HrY3PmMAIbCFCLxxpw0Ny6M5vmErGOTq1x8vt0yA/file# [following]\n",
            "--2021-11-25 11:00:20--  https://uc57b995d21a044c7ef57984e56a.dl.dropboxusercontent.com/cd/0/inline/Bar5H1rPJMc0VlZFEQOBMEK2mdhkfbwIcygfSZWg2jWd7vqAfgkV1F0qhW900TCAJS6lkmUtLcXBcTn2I8FbeyND4HCMkgkgkLRDG1Hn1-2Q8re8HrY3PmMAIbCFCLxxpw0Ny6M5vmErGOTq1x8vt0yA/file\n",
            "Resolving uc57b995d21a044c7ef57984e56a.dl.dropboxusercontent.com (uc57b995d21a044c7ef57984e56a.dl.dropboxusercontent.com)... 162.125.5.15, 2620:100:601d:15::a27d:50f\n",
            "Connecting to uc57b995d21a044c7ef57984e56a.dl.dropboxusercontent.com (uc57b995d21a044c7ef57984e56a.dl.dropboxusercontent.com)|162.125.5.15|:443... connected.\n",
            "HTTP request sent, awaiting response... 200 OK\n",
            "Length: 26233379 (25M) [text/plain]\n",
            "Saving to: ‘positive.csv’\n",
            "\n",
            "positive.csv        100%[===================>]  25.02M  48.4MB/s    in 0.5s    \n",
            "\n",
            "2021-11-25 11:00:21 (48.4 MB/s) - ‘positive.csv’ saved [26233379/26233379]\n",
            "\n",
            "--2021-11-25 11:00:21--  https://www.dropbox.com/s/r6u59ljhhjdg6j0/negative.csv?dl=0\n",
            "Resolving www.dropbox.com (www.dropbox.com)... 162.125.5.18, 2620:100:601d:18::a27d:512\n",
            "Connecting to www.dropbox.com (www.dropbox.com)|162.125.5.18|:443... connected.\n",
            "HTTP request sent, awaiting response... 301 Moved Permanently\n",
            "Location: /s/raw/r6u59ljhhjdg6j0/negative.csv [following]\n",
            "--2021-11-25 11:00:21--  https://www.dropbox.com/s/raw/r6u59ljhhjdg6j0/negative.csv\n",
            "Reusing existing connection to www.dropbox.com:443.\n",
            "HTTP request sent, awaiting response... 302 Found\n",
            "Location: https://uc109f73b76222c79f81c117cc88.dl.dropboxusercontent.com/cd/0/inline/Baqcar-Ocnolb1V92KUdVHuKu0tCTLyo5p513TzwHuwtG3tNaMyNMrrWT9VBm204E_6xSZ2mStDjSpPapUmAcXCzPSDOqjjbP9y2-DRCz3gRLZYi85wVm1dpIJkBCUFv_PLk05jWt0iLDnOXSwLEDlJY/file# [following]\n",
            "--2021-11-25 11:00:22--  https://uc109f73b76222c79f81c117cc88.dl.dropboxusercontent.com/cd/0/inline/Baqcar-Ocnolb1V92KUdVHuKu0tCTLyo5p513TzwHuwtG3tNaMyNMrrWT9VBm204E_6xSZ2mStDjSpPapUmAcXCzPSDOqjjbP9y2-DRCz3gRLZYi85wVm1dpIJkBCUFv_PLk05jWt0iLDnOXSwLEDlJY/file\n",
            "Resolving uc109f73b76222c79f81c117cc88.dl.dropboxusercontent.com (uc109f73b76222c79f81c117cc88.dl.dropboxusercontent.com)... 162.125.5.15, 2620:100:601d:15::a27d:50f\n",
            "Connecting to uc109f73b76222c79f81c117cc88.dl.dropboxusercontent.com (uc109f73b76222c79f81c117cc88.dl.dropboxusercontent.com)|162.125.5.15|:443... connected.\n",
            "HTTP request sent, awaiting response... 200 OK\n",
            "Length: 24450101 (23M) [text/plain]\n",
            "Saving to: ‘negative.csv’\n",
            "\n",
            "negative.csv        100%[===================>]  23.32M  38.5MB/s    in 0.6s    \n",
            "\n",
            "2021-11-25 11:00:23 (38.5 MB/s) - ‘negative.csv’ saved [24450101/24450101]\n",
            "\n"
          ]
        }
      ]
    },
    {
      "cell_type": "code",
      "metadata": {
        "id": "If-VfdDUjtdb"
      },
      "source": [
        "pos_tweets = pd.read_csv('positive.csv', encoding='utf-8', sep=';', header=None,  names=[0,1,2,'text','tone',5,6,7,8,9,10,11])"
      ],
      "execution_count": null,
      "outputs": []
    },
    {
      "cell_type": "code",
      "metadata": {
        "id": "mRoZf96VjyJV"
      },
      "source": [
        "neg_tweets = pd.read_csv('negative.csv', encoding='utf-8', sep=';', header=None, names=[0,1,2,'text','tone',5,6,7,8,9,10,11] )\n",
        "neg_tweets['tone'] = 0"
      ],
      "execution_count": null,
      "outputs": []
    },
    {
      "cell_type": "code",
      "metadata": {
        "colab": {
          "base_uri": "https://localhost:8080/"
        },
        "id": "95DGARZJj2n4",
        "outputId": "615d9430-f08d-41d1-a22a-75001f277c8a"
      },
      "source": [
        "all_tweets_data = pos_tweets.append(neg_tweets)\n",
        "print(len(all_tweets_data))"
      ],
      "execution_count": null,
      "outputs": [
        {
          "output_type": "stream",
          "name": "stdout",
          "text": [
            "226834\n"
          ]
        }
      ]
    },
    {
      "cell_type": "code",
      "metadata": {
        "id": "zYL4AEeIpfx0"
      },
      "source": [
        "tweets_data = shuffle(all_tweets_data[['text','tone']])[:100000]"
      ],
      "execution_count": null,
      "outputs": []
    },
    {
      "cell_type": "code",
      "metadata": {
        "id": "DjRpDV-6pxsB"
      },
      "source": [
        "def preprocess(text):\n",
        "    text = text.lower().replace(\"ё\", \"е\")\n",
        "    text = re.sub('((www\\.[^\\s]+)|(https?://[^\\s]+))', 'URL', text)\n",
        "    text = re.sub('@[^\\s]+', 'USER', text)\n",
        "    text = re.sub(' +', ' ', text)\n",
        "    text = re.sub('[^a-zA-Zа-яА-Я1-9]+', ' ', text)\n",
        "    tokens = text.lower().split()\n",
        "    tokens = [token.strip(punctuation) for token in tokens]\n",
        "    return tokens"
      ],
      "execution_count": 250,
      "outputs": []
    },
    {
      "cell_type": "code",
      "metadata": {
        "id": "eup3g3yOpqIW"
      },
      "source": [
        "train_sentences, val_sentences = train_test_split(tweets_data, test_size=0.2)"
      ],
      "execution_count": 251,
      "outputs": []
    },
    {
      "cell_type": "code",
      "metadata": {
        "id": "QCySY1bepqzB"
      },
      "source": [
        "train_sentences.to_csv('train.csv')"
      ],
      "execution_count": null,
      "outputs": []
    },
    {
      "cell_type": "code",
      "metadata": {
        "id": "3Na0KMCYxN9x"
      },
      "source": [
        "val_sentences.to_csv('val.csv')"
      ],
      "execution_count": null,
      "outputs": []
    },
    {
      "cell_type": "code",
      "metadata": {
        "colab": {
          "base_uri": "https://localhost:8080/"
        },
        "id": "Yo0PtXHHp_xW",
        "outputId": "b9f813b9-1f3e-4e18-fe06-703cb15a0ba6"
      },
      "source": [
        "vocab = Counter()\n",
        "\n",
        "for text in tweets_data['text']:\n",
        "    vocab.update(preprocess(text))\n",
        "print('всего уникальных токенов:', len(vocab))"
      ],
      "execution_count": null,
      "outputs": [
        {
          "output_type": "stream",
          "name": "stdout",
          "text": [
            "всего уникальных токенов: 144870\n"
          ]
        }
      ]
    },
    {
      "cell_type": "code",
      "metadata": {
        "colab": {
          "base_uri": "https://localhost:8080/"
        },
        "id": "KSFKfJkzqDFi",
        "outputId": "cdbf6bd3-86e0-4a4e-be75-aa61053dfe1c"
      },
      "source": [
        "filtered_vocab = set()\n",
        "\n",
        "for word in vocab:\n",
        "    if vocab[word] > 4:\n",
        "        filtered_vocab.add(word)\n",
        "print('уникальных токенов, втретившихся больше 4 раз:', len(filtered_vocab))"
      ],
      "execution_count": null,
      "outputs": [
        {
          "output_type": "stream",
          "name": "stdout",
          "text": [
            "уникальных токенов, втретившихся больше 4 раз: 16790\n"
          ]
        }
      ]
    },
    {
      "cell_type": "code",
      "metadata": {
        "id": "vpfoI8tgQ26N"
      },
      "source": [
        "word2id = {'PAD':0}\n",
        "\n",
        "for word in filtered_vocab:\n",
        "    word2id[word] = len(word2id)"
      ],
      "execution_count": null,
      "outputs": []
    },
    {
      "cell_type": "code",
      "metadata": {
        "id": "kki9KYwSqfvc"
      },
      "source": [
        "#обратный словарь для того, чтобы раскодировать последовательность\n",
        "id2word = {i:word for word, i in word2id.items()}"
      ],
      "execution_count": null,
      "outputs": []
    },
    {
      "cell_type": "code",
      "metadata": {
        "colab": {
          "base_uri": "https://localhost:8080/"
        },
        "id": "zdmaOjPSqlSf",
        "outputId": "8dda030d-5325-4368-aee2-f7640688e9bc"
      },
      "source": [
        "DEVICE = torch.device('cuda') if torch.cuda.is_available() else torch.device('cpu')\n",
        "DEVICE"
      ],
      "execution_count": null,
      "outputs": [
        {
          "output_type": "execute_result",
          "data": {
            "text/plain": [
              "device(type='cpu')"
            ]
          },
          "metadata": {},
          "execution_count": 51
        }
      ]
    },
    {
      "cell_type": "code",
      "metadata": {
        "id": "Pr-sV06csWko"
      },
      "source": [
        "class TweetsDataset(Dataset):\n",
        "\n",
        "    def __init__(self, dataset, word2id, DEVICE):\n",
        "        self.dataset = dataset['text'].values\n",
        "        self.word2id = word2id\n",
        "        self.length = dataset.shape[0]\n",
        "        self.target = dataset['tone'].values\n",
        "        self.device = DEVICE\n",
        "\n",
        "    def __len__(self): #это обязательный метод, он должен уметь считать длину датасета\n",
        "        return self.length\n",
        "\n",
        "    def __getitem__(self, index): #еще один обязательный метод. По индексу возвращает элемент выборки\n",
        "        tokens = self.preprocess(self.dataset[index]) # токенизируем\n",
        "        ids = torch.LongTensor([self.word2id[token] for token in tokens if token in self.word2id])\n",
        "        y = [self.target[index]]\n",
        "        return ids, y\n",
        "    \n",
        "    def preprocess(self, text):\n",
        "      text = text.lower().replace(\"ё\", \"е\")\n",
        "      text = re.sub('((www\\.[^\\s]+)|(https?://[^\\s]+))', 'URL', text)\n",
        "      text = re.sub('@[^\\s]+', 'USER', text)\n",
        "      text = re.sub(' +', ' ', text)\n",
        "      tokens = text.lower().split()\n",
        "      tokens = [token.strip(punctuation) for token in tokens]\n",
        "      return tokens\n",
        "\n",
        "    def collate_fn(self, batch): #этот метод можно реализовывать и отдельно,\n",
        "    # он понадобится для DataLoader во время итерации по батчам\n",
        "      ids, y = list(zip(*batch))\n",
        "      padded_ids = pad_sequence(ids, batch_first=True).to(self.device)\n",
        "      #мы хотим применять BCELoss, он будет брать на вход predicted размера batch_size x 1 (так как для каждого семпла модель будет отдавать одно число), target размера batch_size x 1\n",
        "      y = torch.Tensor(y).to(self.device) # tuple ([1], [0], [1])  -> Tensor [[1.], [0.], [1.]] \n",
        "      return padded_ids, y"
      ],
      "execution_count": null,
      "outputs": []
    },
    {
      "cell_type": "code",
      "metadata": {
        "id": "w6smgt3gzN1O"
      },
      "source": [
        "train_dataset = TweetsDataset(train_sentences, word2id, DEVICE)\n",
        "train_sampler = RandomSampler(train_dataset)\n",
        "train_iterator = DataLoader(train_dataset, collate_fn = train_dataset.collate_fn, sampler=train_sampler, batch_size=1024)"
      ],
      "execution_count": null,
      "outputs": []
    },
    {
      "cell_type": "code",
      "metadata": {
        "colab": {
          "base_uri": "https://localhost:8080/",
          "height": 71
        },
        "id": "qLrzNBhl8N9H",
        "outputId": "c653cb5e-f980-4db2-d1c2-bdf6864a900b"
      },
      "source": [
        "fasttext.util.download_model('ru', if_exists='ignore')"
      ],
      "execution_count": null,
      "outputs": [
        {
          "output_type": "stream",
          "name": "stdout",
          "text": [
            "Downloading https://dl.fbaipublicfiles.com/fasttext/vectors-crawl/cc.ru.300.bin.gz\n",
            "\n"
          ]
        },
        {
          "output_type": "execute_result",
          "data": {
            "application/vnd.google.colaboratory.intrinsic+json": {
              "type": "string"
            },
            "text/plain": [
              "'cc.ru.300.bin'"
            ]
          },
          "metadata": {},
          "execution_count": 55
        }
      ]
    },
    {
      "cell_type": "code",
      "metadata": {
        "colab": {
          "base_uri": "https://localhost:8080/"
        },
        "id": "F_KBXvvdzEGH",
        "outputId": "10ffcdb9-5b9c-4625-901a-28f60bf8ced2"
      },
      "source": [
        "ft = fasttext.load_model('cc.ru.300.bin')"
      ],
      "execution_count": null,
      "outputs": [
        {
          "output_type": "stream",
          "name": "stderr",
          "text": [
            "Warning : `load_model` does not return WordVectorModel or SupervisedModel any more, but a `FastText` object which is very similar.\n"
          ]
        }
      ]
    },
    {
      "cell_type": "code",
      "metadata": {
        "id": "4K7q2rOLFEs0"
      },
      "source": [
        "weights = np.zeros((len(word2id), 300))\n",
        "count = 0\n",
        "for word, i in word2id.items():\n",
        "    if word == 'PAD':\n",
        "        continue   \n",
        "    try:\n",
        "        weights[i] = ft[word]    \n",
        "    except KeyError:\n",
        "      count += 1\n",
        "      # oov словам сопоставляем случайный вектор\n",
        "      weights[i] = np.random.normal(0,0.1,300)"
      ],
      "execution_count": null,
      "outputs": []
    },
    {
      "cell_type": "markdown",
      "metadata": {
        "id": "d47iwDw8SU7l"
      },
      "source": [
        "# Первая модель"
      ]
    },
    {
      "cell_type": "code",
      "metadata": {
        "id": "G1GloatN3mtz"
      },
      "source": [
        "class CNN(nn.Module):\n",
        "    \n",
        "    def __init__(self, vocab_size, embedding_dim):\n",
        "        super().__init__()\n",
        "        self.embedding = nn.Embedding(vocab_size, embedding_dim)\n",
        "        self.embedding.from_pretrained(torch.tensor(weights), freeze=True)\n",
        "        self.bigrams = nn.Conv1d(in_channels=embedding_dim, out_channels=100, kernel_size=2, padding='same')\n",
        "        self.trigrams = nn.Conv1d(in_channels=embedding_dim, out_channels=80, kernel_size=3, padding='same')\n",
        "        self.pooling = nn.MaxPool1d(kernel_size=2, stride=2)\n",
        "        self.relu = nn.ReLU()\n",
        "        self.hidden = nn.Linear(in_features=180, out_features=1)\n",
        "        self.out = nn.Sigmoid()\n",
        "\n",
        "    def forward(self, word):\n",
        "        #batch_size x seq_len\n",
        "        embedded = self.embedding(word)\n",
        "        #batch_size x seq_len x embedding_dim\n",
        "        embedded = embedded.transpose(1,2)\n",
        "        #batch_size x embedding_dim x seq_len\n",
        "        feature_map_bigrams = self.pooling(self.relu(self.bigrams(embedded)))\n",
        "        #batch_size x filter_count2 x seq_len* \n",
        "        feature_map_trigrams = self.pooling(self.relu(self.trigrams(embedded)))\n",
        "        #batch_size x filter_count3 x seq_len*\n",
        "        pooling1 = feature_map_bigrams.max(2)[0] \n",
        "        # batch_size x filter_count2\n",
        "        pooling2 = feature_map_trigrams.max(2)[0]\n",
        "        # batch_size x filter_count3\n",
        "        concat = torch.cat((pooling1, pooling2), 1)\n",
        "        # batch _size x (filter_count2 + filter_count3)\n",
        "        logits = self.hidden(concat) \n",
        "        logits = self.out(logits)      \n",
        "        return logits"
      ],
      "execution_count": null,
      "outputs": []
    },
    {
      "cell_type": "code",
      "metadata": {
        "id": "NHFhMQBBgfQK"
      },
      "source": [
        "def train(model, iterator, optimizer, criterion):\n",
        "    epoch_loss = 0 # для подсчета среднего лосса на всех батчах\n",
        "\n",
        "    model.train()  # ставим модель в обучение, явно указываем, что сейчас надо будет хранить градиенты у всех весов\n",
        "\n",
        "    for i, (texts, ys) in enumerate(iterator): #итерируемся по батчам\n",
        "        optimizer.zero_grad()  #обнуляем градиенты\n",
        "        preds = model(texts)  #прогоняем данные через модель\n",
        "        loss = criterion(preds, ys) #считаем значение функции потерь  \n",
        "        loss.backward() #считаем градиенты  \n",
        "        optimizer.step() #обновляем веса \n",
        "        epoch_loss += loss.item() #сохраняем значение функции потерь\n",
        "        if not (i + 1) % int(len(iterator)/5):\n",
        "            print(f'Train loss: {epoch_loss/i}')      \n",
        "    return  epoch_loss / len(iterator) # возвращаем среднее значение лосса по всей выборке"
      ],
      "execution_count": null,
      "outputs": []
    },
    {
      "cell_type": "code",
      "metadata": {
        "id": "MFHIaifigpLu"
      },
      "source": [
        "def evaluate(model, iterator, criterion):\n",
        "    epoch_loss = 0\n",
        "    epoch_metric = 0\n",
        "    model.eval() \n",
        "    with torch.no_grad():\n",
        "        for i, (texts, ys) in enumerate(iterator):   \n",
        "            preds = model(texts)  # делаем предсказания на тесте\n",
        "            loss = criterion(preds, ys)   # считаем значения функции ошибки для статистики  \n",
        "            epoch_loss += loss.item()\n",
        "            batch_metric = f1(preds.round().long(), ys.long(), ignore_index=0)\n",
        "            epoch_metric += batch_metric\n",
        "\n",
        "            if not (i + 1) % int(len(iterator)/5):\n",
        "              print(f'Val loss: {epoch_loss/i}, Val f1: {epoch_metric/i}')\n",
        "        \n",
        "    return epoch_metric / len(iterator), epoch_loss / len(iterator) # возвращаем среднее значение по всей выборке"
      ],
      "execution_count": null,
      "outputs": []
    },
    {
      "cell_type": "code",
      "metadata": {
        "id": "MRQrfH-Tgp2U"
      },
      "source": [
        "model = CNN(len(word2id), 2)\n",
        "optimizer = optim.Adam(model.parameters(), lr=0.0005)\n",
        "criterion = nn.BCELoss()  \n",
        "\n",
        "# веса модели и значения лосса храним там же, где и все остальные тензоры\n",
        "model = model.to(DEVICE)\n",
        "criterion = criterion.to(DEVICE)"
      ],
      "execution_count": null,
      "outputs": []
    },
    {
      "cell_type": "code",
      "metadata": {
        "id": "SnVHBD3eVhvI"
      },
      "source": [
        "def set_random_seed(seed):\n",
        "    torch.backends.cudnn.deterministic = True\n",
        "    torch.manual_seed(seed)\n",
        "    torch.cuda.manual_seed(seed)\n",
        "    np.random.seed(seed)\n",
        "    random.seed(seed)"
      ],
      "execution_count": null,
      "outputs": []
    },
    {
      "cell_type": "code",
      "metadata": {
        "id": "1AWPxFQY0Eox"
      },
      "source": [
        "set_random_seed(50)\n",
        "val_dataset = TweetsDataset(val_sentences, word2id, DEVICE)\n",
        "val_sampler = SequentialSampler(val_dataset)\n",
        "val_iterator = DataLoader(val_dataset, collate_fn = val_dataset.collate_fn, sampler=val_sampler, batch_size=1024)"
      ],
      "execution_count": null,
      "outputs": []
    },
    {
      "cell_type": "code",
      "metadata": {
        "colab": {
          "base_uri": "https://localhost:8080/"
        },
        "id": "mejP1CsYguez",
        "outputId": "6cd7cdb4-d3a7-40e0-cb44-1c47539e9c5e"
      },
      "source": [
        "set_random_seed(50)\n",
        "\n",
        "losses = []\n",
        "losses_eval = []\n",
        "f1s = []\n",
        "f1s_eval = []\n",
        "\n",
        "for i in range(20):\n",
        "    print(f'\\nstarting Epoch {i}')\n",
        "    print('Training...')\n",
        "    epoch_loss = train(model, train_iterator, optimizer, criterion)\n",
        "    losses.append(epoch_loss)\n",
        "    print('\\nEvaluating on train...')\n",
        "    f1_on_train,_ = evaluate(model, train_iterator, criterion)\n",
        "    f1s.append(f1_on_train)\n",
        "    print('\\nEvaluating on test...')\n",
        "    f1_on_test, epoch_loss_on_test = evaluate(model, val_iterator, criterion)\n",
        "    losses_eval.append(epoch_loss_on_test)\n",
        "    f1s_eval.append(f1_on_test)"
      ],
      "execution_count": null,
      "outputs": [
        {
          "output_type": "stream",
          "name": "stdout",
          "text": [
            "\n",
            "starting Epoch 0\n",
            "Training...\n"
          ]
        },
        {
          "output_type": "stream",
          "name": "stderr",
          "text": [
            "/usr/local/lib/python3.7/dist-packages/torch/nn/modules/conv.py:298: UserWarning: Using padding='same' with even kernel lengths and odd dilation may require a zero-padded copy of the input be created (Triggered internally at  ../aten/src/ATen/native/Convolution.cpp:647.)\n",
            "  self.padding, self.dilation, self.groups)\n"
          ]
        },
        {
          "output_type": "stream",
          "name": "stdout",
          "text": [
            "Train loss: 0.8074620408671243\n",
            "Train loss: 0.7551906807669277\n",
            "Train loss: 0.7354366630315781\n",
            "Train loss: 0.7251718973709365\n",
            "Train loss: 0.7189136727436168\n",
            "\n",
            "Evaluating on train...\n",
            "Val loss: 0.7434549927711487, Val f1: 0.6115694642066956\n",
            "Val loss: 0.7180255363727438, Val f1: 0.5807229280471802\n",
            "Val loss: 0.7099159102548253, Val f1: 0.5746380090713501\n",
            "Val loss: 0.7056840041936454, Val f1: 0.5738370418548584\n",
            "Val loss: 0.7035027734331183, Val f1: 0.5712865591049194\n",
            "\n",
            "Evaluating on test...\n",
            "Val loss: 0.9256576895713806, Val f1: 0.7064003348350525\n",
            "Val loss: 0.7941119159970965, Val f1: 0.6510419845581055\n",
            "Val loss: 0.7577093081040815, Val f1: 0.6208434104919434\n",
            "Val loss: 0.7404099861780803, Val f1: 0.6159583330154419\n",
            "Val loss: 0.7307355121562356, Val f1: 0.6124728918075562\n",
            "\n",
            "starting Epoch 1\n",
            "Training...\n",
            "Train loss: 0.74346005490848\n",
            "Train loss: 0.717463337141892\n",
            "Train loss: 0.708920724012635\n",
            "Train loss: 0.7049292730072797\n",
            "Train loss: 0.7024171739011198\n",
            "\n",
            "Evaluating on train...\n",
            "Val loss: 0.7420889905520848, Val f1: 0.39678677916526794\n",
            "Val loss: 0.7163167534203365, Val f1: 0.37363892793655396\n",
            "Val loss: 0.708492483605038, Val f1: 0.36885035037994385\n",
            "Val loss: 0.7047391978360839, Val f1: 0.37292903661727905\n",
            "Val loss: 0.7022224962711334, Val f1: 0.37849271297454834\n",
            "\n",
            "Evaluating on test...\n",
            "Val loss: 0.9261365135510763, Val f1: 0.4256751537322998\n",
            "Val loss: 0.7928458452224731, Val f1: 0.4313111901283264\n",
            "Val loss: 0.7568971460515802, Val f1: 0.4072088897228241\n",
            "Val loss: 0.7398401578267415, Val f1: 0.40614810585975647\n",
            "Val loss: 0.7297814739377875, Val f1: 0.4078766703605652\n",
            "\n",
            "starting Epoch 2\n",
            "Training...\n",
            "Train loss: 0.7418133190699986\n",
            "Train loss: 0.7155648696011511\n",
            "Train loss: 0.7071863561868668\n",
            "Train loss: 0.7029457041772745\n",
            "Train loss: 0.700421299483325\n",
            "\n",
            "Evaluating on train...\n",
            "Val loss: 0.7390217525618417, Val f1: 0.6139949560165405\n",
            "Val loss: 0.713579588922961, Val f1: 0.6004524827003479\n",
            "Val loss: 0.7056031416762959, Val f1: 0.5937533974647522\n",
            "Val loss: 0.7012566085589134, Val f1: 0.5947571992874146\n",
            "Val loss: 0.6989764619517971, Val f1: 0.5916345119476318\n",
            "\n",
            "Evaluating on test...\n",
            "Val loss: 0.9205791155497233, Val f1: 0.7641598582267761\n",
            "Val loss: 0.7902577604566302, Val f1: 0.6696612238883972\n",
            "Val loss: 0.7536332986571572, Val f1: 0.6373444199562073\n",
            "Val loss: 0.7364315390586853, Val f1: 0.6280255913734436\n",
            "Val loss: 0.7267681422986483, Val f1: 0.6207109689712524\n",
            "\n",
            "starting Epoch 3\n",
            "Training...\n",
            "Train loss: 0.738957554101944\n",
            "Train loss: 0.7127639733511826\n",
            "Train loss: 0.7047908726063642\n",
            "Train loss: 0.7005759720074929\n",
            "Train loss: 0.6982206702232361\n",
            "\n",
            "Evaluating on train...\n",
            "Val loss: 0.7361985146999359, Val f1: 0.6526275873184204\n",
            "Val loss: 0.7105740966468022, Val f1: 0.62526935338974\n",
            "Val loss: 0.7029718512838538, Val f1: 0.6163941621780396\n",
            "Val loss: 0.6990675936310978, Val f1: 0.6141628623008728\n",
            "Val loss: 0.6969300081601014, Val f1: 0.6113826632499695\n",
            "\n",
            "Evaluating on test...\n",
            "Val loss: 0.9180506070454916, Val f1: 0.8018952012062073\n",
            "Val loss: 0.788621085030692, Val f1: 0.6868964433670044\n",
            "Val loss: 0.7517437447201122, Val f1: 0.6546308398246765\n",
            "Val loss: 0.734566883246104, Val f1: 0.6431223154067993\n",
            "Val loss: 0.7249858755814401, Val f1: 0.6357486248016357\n",
            "\n",
            "starting Epoch 4\n",
            "Training...\n",
            "Train loss: 0.7369949519634247\n",
            "Train loss: 0.7115123641902003\n",
            "Train loss: 0.7029250860214233\n",
            "Train loss: 0.6987651131920896\n",
            "Train loss: 0.6961019764075408\n",
            "\n",
            "Evaluating on train...\n",
            "Val loss: 0.7348963022232056, Val f1: 0.6134524941444397\n",
            "Val loss: 0.7086668590019489, Val f1: 0.59754878282547\n",
            "Val loss: 0.7007681768048893, Val f1: 0.5881919860839844\n",
            "Val loss: 0.6968471973629321, Val f1: 0.5864945650100708\n",
            "Val loss: 0.6945548645547919, Val f1: 0.5842826962471008\n",
            "\n",
            "Evaluating on test...\n",
            "Val loss: 0.915543774763743, Val f1: 0.7746071219444275\n",
            "Val loss: 0.7863550611904689, Val f1: 0.6564880013465881\n",
            "Val loss: 0.7495020573789423, Val f1: 0.6271129846572876\n",
            "Val loss: 0.7325170278549195, Val f1: 0.6134015917778015\n",
            "Val loss: 0.7228877356177882, Val f1: 0.6061975955963135\n",
            "\n",
            "starting Epoch 5\n",
            "Training...\n",
            "Train loss: 0.7335312536784581\n",
            "Train loss: 0.7084088654353701\n",
            "Train loss: 0.7002181979742917\n",
            "Train loss: 0.695929537385197\n",
            "Train loss: 0.6935989784227835\n",
            "\n",
            "Evaluating on train...\n",
            "Val loss: 0.7331560637269702, Val f1: 0.5742961764335632\n",
            "Val loss: 0.7070385156006649, Val f1: 0.55710768699646\n",
            "Val loss: 0.6986186572096564, Val f1: 0.5548681616783142\n",
            "Val loss: 0.6949476670410674, Val f1: 0.5498262643814087\n",
            "Val loss: 0.6923478310172623, Val f1: 0.5492573976516724\n",
            "\n",
            "Evaluating on test...\n",
            "Val loss: 0.9133626222610474, Val f1: 0.7181939482688904\n",
            "Val loss: 0.784347014767783, Val f1: 0.6146224737167358\n",
            "Val loss: 0.7475388429381631, Val f1: 0.5879619717597961\n",
            "Val loss: 0.7307660857836406, Val f1: 0.5741621255874634\n",
            "Val loss: 0.721023440361023, Val f1: 0.5666733384132385\n",
            "\n",
            "starting Epoch 6\n",
            "Training...\n",
            "Train loss: 0.7326093401227679\n",
            "Train loss: 0.706695805335867\n",
            "Train loss: 0.6979197399182753\n",
            "Train loss: 0.6938781283669553\n",
            "Train loss: 0.6910510240374385\n",
            "\n",
            "Evaluating on train...\n",
            "Val loss: 0.7285405738013131, Val f1: 0.6392831802368164\n",
            "Val loss: 0.7047454098175312, Val f1: 0.6157750487327576\n",
            "Val loss: 0.6959838474338705, Val f1: 0.6120666861534119\n",
            "Val loss: 0.6916044940382747, Val f1: 0.6096424460411072\n",
            "Val loss: 0.6894461673659247, Val f1: 0.6084470152854919\n",
            "\n",
            "Evaluating on test...\n",
            "Val loss: 0.9092822670936584, Val f1: 0.7956953048706055\n",
            "Val loss: 0.7822857328823635, Val f1: 0.6768025755882263\n",
            "Val loss: 0.7449134967543862, Val f1: 0.6506742835044861\n",
            "Val loss: 0.7280605713526408, Val f1: 0.6369886994361877\n",
            "Val loss: 0.7185603599799307, Val f1: 0.6296104788780212\n",
            "\n",
            "starting Epoch 7\n",
            "Training...\n",
            "Train loss: 0.7320293017796108\n",
            "Train loss: 0.7052324701999796\n",
            "Train loss: 0.6954419423233379\n",
            "Train loss: 0.6910631282854889\n",
            "Train loss: 0.6887919274536339\n",
            "\n",
            "Evaluating on train...\n",
            "Val loss: 0.7266754763466972, Val f1: 0.6655462980270386\n",
            "Val loss: 0.7011304045545643, Val f1: 0.64532470703125\n",
            "Val loss: 0.6931452480229464, Val f1: 0.6396259665489197\n",
            "Val loss: 0.6893045700202554, Val f1: 0.635406494140625\n",
            "Val loss: 0.6872754846070264, Val f1: 0.6318451166152954\n",
            "\n",
            "Evaluating on test...\n",
            "Val loss: 0.9062163631121317, Val f1: 0.8287654519081116\n",
            "Val loss: 0.780796366078513, Val f1: 0.7030012011528015\n",
            "Val loss: 0.7429903745651245, Val f1: 0.6760625243186951\n",
            "Val loss: 0.7261205832163493, Val f1: 0.662557065486908\n",
            "Val loss: 0.7167649896521318, Val f1: 0.6523550152778625\n",
            "\n",
            "starting Epoch 8\n",
            "Training...\n",
            "Train loss: 0.7279658530439649\n",
            "Train loss: 0.7007747950225041\n",
            "Train loss: 0.6920895210721276\n",
            "Train loss: 0.6881120790869503\n",
            "Train loss: 0.6856167324491449\n",
            "\n",
            "Evaluating on train...\n",
            "Val loss: 0.7234192831175668, Val f1: 0.6301712989807129\n",
            "Val loss: 0.6983524108755177, Val f1: 0.6096168160438538\n",
            "Val loss: 0.6898857761513103, Val f1: 0.6054386496543884\n",
            "Val loss: 0.6857678395206646, Val f1: 0.6017849445343018\n",
            "Val loss: 0.6834406868831532, Val f1: 0.5993176102638245\n",
            "\n",
            "Evaluating on test...\n",
            "Val loss: 0.9018697341283163, Val f1: 0.7870703339576721\n",
            "Val loss: 0.7769179684775216, Val f1: 0.6667343974113464\n",
            "Val loss: 0.739478203383359, Val f1: 0.638857364654541\n",
            "Val loss: 0.7229568640391032, Val f1: 0.6237493753433228\n",
            "Val loss: 0.7133970072394923, Val f1: 0.6153149604797363\n",
            "\n",
            "starting Epoch 9\n",
            "Training...\n",
            "Train loss: 0.7235194785254342\n",
            "Train loss: 0.69786314306588\n",
            "Train loss: 0.6890143372795798\n",
            "Train loss: 0.6847816220784592\n",
            "Train loss: 0.682673333464442\n",
            "\n",
            "Evaluating on train...\n",
            "Val loss: 0.7203293400151389, Val f1: 0.6547835469245911\n",
            "Val loss: 0.695427680837697, Val f1: 0.6284123063087463\n",
            "Val loss: 0.6870595568960364, Val f1: 0.6221928000450134\n",
            "Val loss: 0.6829933008905185, Val f1: 0.6195380091667175\n",
            "Val loss: 0.6803193543408368, Val f1: 0.6179506778717041\n",
            "\n",
            "Evaluating on test...\n",
            "Val loss: 0.8976050416628519, Val f1: 0.8085330128669739\n",
            "Val loss: 0.7743555988584246, Val f1: 0.6834520101547241\n",
            "Val loss: 0.7366976683790033, Val f1: 0.6570755243301392\n",
            "Val loss: 0.7202170133590698, Val f1: 0.6420997381210327\n",
            "Val loss: 0.710761336903823, Val f1: 0.6338819861412048\n",
            "\n",
            "starting Epoch 10\n",
            "Training...\n",
            "Train loss: 0.7188499697617122\n",
            "Train loss: 0.693922772489745\n",
            "Train loss: 0.6858664656227286\n",
            "Train loss: 0.6811969947006743\n",
            "Train loss: 0.6787108054032197\n",
            "\n",
            "Evaluating on train...\n",
            "Val loss: 0.7166012270109994, Val f1: 0.5847817063331604\n",
            "Val loss: 0.6915869671722938, Val f1: 0.5675719976425171\n",
            "Val loss: 0.6852778318253431, Val f1: 0.5580210089683533\n",
            "Val loss: 0.6810136164649058, Val f1: 0.5566706657409668\n",
            "Val loss: 0.6784330662843343, Val f1: 0.5557165145874023\n",
            "\n",
            "Evaluating on test...\n",
            "Val loss: 0.8968309760093689, Val f1: 0.728701651096344\n",
            "Val loss: 0.7727032729557582, Val f1: 0.6168357729911804\n",
            "Val loss: 0.7356976053931497, Val f1: 0.5909898281097412\n",
            "Val loss: 0.7197448293368022, Val f1: 0.5760032534599304\n",
            "Val loss: 0.7098237213335539, Val f1: 0.5684711337089539\n",
            "\n",
            "starting Epoch 11\n",
            "Training...\n",
            "Train loss: 0.7170690723827907\n",
            "Train loss: 0.6916183870414208\n",
            "Train loss: 0.6818167729811235\n",
            "Train loss: 0.6773986230462284\n",
            "Train loss: 0.6755800295520473\n",
            "\n",
            "Evaluating on train...\n",
            "Val loss: 0.7152175733021328, Val f1: 0.6572235226631165\n",
            "Val loss: 0.6888537633007971, Val f1: 0.6362015008926392\n",
            "Val loss: 0.680729329586029, Val f1: 0.6303045749664307\n",
            "Val loss: 0.6758963788970042, Val f1: 0.6286543011665344\n",
            "Val loss: 0.6734159854618279, Val f1: 0.6279683113098145\n",
            "\n",
            "Evaluating on test...\n",
            "Val loss: 0.8891098101933798, Val f1: 0.824442446231842\n",
            "Val loss: 0.7687636188098362, Val f1: 0.6952675580978394\n",
            "Val loss: 0.7309183586727489, Val f1: 0.6658483147621155\n",
            "Val loss: 0.7146757006645202, Val f1: 0.6507382988929749\n",
            "Val loss: 0.7052391171455383, Val f1: 0.6420416831970215\n",
            "\n",
            "starting Epoch 12\n",
            "Training...\n",
            "Train loss: 0.7123554263796125\n",
            "Train loss: 0.6878000991097812\n",
            "Train loss: 0.6788905127481981\n",
            "Train loss: 0.6744818546004214\n",
            "Train loss: 0.6717749439381264\n",
            "\n",
            "Evaluating on train...\n",
            "Val loss: 0.7104688244206565, Val f1: 0.6480556726455688\n",
            "Val loss: 0.6834002651017288, Val f1: 0.6332427859306335\n",
            "Val loss: 0.6757190037857402, Val f1: 0.6276350021362305\n",
            "Val loss: 0.671997032933316, Val f1: 0.6234753727912903\n",
            "Val loss: 0.6697582312532373, Val f1: 0.6216041445732117\n",
            "\n",
            "Evaluating on test...\n",
            "Val loss: 0.8847505648930868, Val f1: 0.8168832659721375\n",
            "Val loss: 0.7653617773737226, Val f1: 0.6876847147941589\n",
            "Val loss: 0.727695107460022, Val f1: 0.6576077342033386\n",
            "Val loss: 0.7116620779037476, Val f1: 0.6425796747207642\n",
            "Val loss: 0.7021367236187583, Val f1: 0.6338486671447754\n",
            "\n",
            "starting Epoch 13\n",
            "Training...\n",
            "Train loss: 0.7046196290424892\n",
            "Train loss: 0.6815633958783643\n",
            "Train loss: 0.6740283776413311\n",
            "Train loss: 0.6708086042080895\n",
            "Train loss: 0.668808933045413\n",
            "\n",
            "Evaluating on train...\n",
            "Val loss: 0.70487123302051, Val f1: 0.6418262720108032\n",
            "Val loss: 0.6810418202959257, Val f1: 0.6192485690116882\n",
            "Val loss: 0.6725410968065262, Val f1: 0.6160805225372314\n",
            "Val loss: 0.6685119877427311, Val f1: 0.6126739382743835\n",
            "Val loss: 0.6664498714176385, Val f1: 0.6099051237106323\n",
            "\n",
            "Evaluating on test...\n",
            "Val loss: 0.8813305298487345, Val f1: 0.8033377528190613\n",
            "Val loss: 0.7623866711344037, Val f1: 0.6743454337120056\n",
            "Val loss: 0.7250532887198708, Val f1: 0.6442354321479797\n",
            "Val loss: 0.7092423915863038, Val f1: 0.6287202835083008\n",
            "Val loss: 0.699580945466694, Val f1: 0.6204743385314941\n",
            "\n",
            "starting Epoch 14\n",
            "Training...\n",
            "Train loss: 0.7056334657328469\n",
            "Train loss: 0.6803174676566288\n",
            "Train loss: 0.672766235741702\n",
            "Train loss: 0.6681500107555066\n",
            "Train loss: 0.665452228204624\n",
            "\n",
            "Evaluating on train...\n",
            "Val loss: 0.7025787234306335, Val f1: 0.6708131432533264\n",
            "Val loss: 0.6776904833727869, Val f1: 0.6500184535980225\n",
            "Val loss: 0.6697141934524883, Val f1: 0.64321368932724\n",
            "Val loss: 0.6660210853916103, Val f1: 0.6390234231948853\n",
            "Val loss: 0.6631258790557449, Val f1: 0.6378858685493469\n",
            "\n",
            "Evaluating on test...\n",
            "Val loss: 0.8762109279632568, Val f1: 0.8348894119262695\n",
            "Val loss: 0.7596211774008614, Val f1: 0.7026351094245911\n",
            "Val loss: 0.7218418609012257, Val f1: 0.6744999885559082\n",
            "Val loss: 0.7059338808059692, Val f1: 0.6590902805328369\n",
            "Val loss: 0.6965388749775133, Val f1: 0.6517276167869568\n",
            "\n",
            "starting Epoch 15\n",
            "Training...\n",
            "Train loss: 0.7004566533224923\n",
            "Train loss: 0.676933097428289\n",
            "Train loss: 0.6686352410099723\n",
            "Train loss: 0.6645195019447198\n",
            "Train loss: 0.6618145269316595\n",
            "\n",
            "Evaluating on train...\n",
            "Val loss: 0.6955182680061885, Val f1: 0.6923919916152954\n",
            "Val loss: 0.6725744687277695, Val f1: 0.6716445684432983\n",
            "Val loss: 0.6673427346077833, Val f1: 0.6627932190895081\n",
            "Val loss: 0.6631702720108679, Val f1: 0.6602370142936707\n",
            "Val loss: 0.6606893966326842, Val f1: 0.6580609083175659\n",
            "\n",
            "Evaluating on test...\n",
            "Val loss: 0.8730048537254333, Val f1: 0.8611507415771484\n",
            "Val loss: 0.758150441305978, Val f1: 0.7253713607788086\n",
            "Val loss: 0.7199555147777904, Val f1: 0.6960062384605408\n",
            "Val loss: 0.7039397637049357, Val f1: 0.680549681186676\n",
            "Val loss: 0.6947458825613323, Val f1: 0.6719648241996765\n",
            "\n",
            "starting Epoch 16\n",
            "Training...\n",
            "Train loss: 0.6999785346644265\n",
            "Train loss: 0.6754495522071575\n",
            "Train loss: 0.6656907038255171\n",
            "Train loss: 0.6614735954898899\n",
            "Train loss: 0.6590509124704309\n",
            "\n",
            "Evaluating on train...\n",
            "Val loss: 0.6965693746294294, Val f1: 0.6488462090492249\n",
            "Val loss: 0.6704962705743724, Val f1: 0.6301301717758179\n",
            "Val loss: 0.6621170585805719, Val f1: 0.6238157749176025\n",
            "Val loss: 0.6581955976405386, Val f1: 0.6206223368644714\n",
            "Val loss: 0.6563334867760942, Val f1: 0.6169120073318481\n",
            "\n",
            "Evaluating on test...\n",
            "Val loss: 0.8694316744804382, Val f1: 0.8094448447227478\n",
            "Val loss: 0.753675639629364, Val f1: 0.6787518262863159\n",
            "Val loss: 0.7167273759841919, Val f1: 0.6505885720252991\n",
            "Val loss: 0.7012644449869792, Val f1: 0.6345513463020325\n",
            "Val loss: 0.691652680698194, Val f1: 0.626700222492218\n",
            "\n",
            "starting Epoch 17\n",
            "Training...\n",
            "Train loss: 0.693785548210144\n",
            "Train loss: 0.6686597898088652\n",
            "Train loss: 0.6611817221749913\n",
            "Train loss: 0.6566204711542292\n",
            "Train loss: 0.6545478049162272\n",
            "\n",
            "Evaluating on train...\n",
            "Val loss: 0.6880276501178741, Val f1: 0.6691848635673523\n",
            "Val loss: 0.6658388931175758, Val f1: 0.6411724090576172\n",
            "Val loss: 0.6592017615383322, Val f1: 0.6344442367553711\n",
            "Val loss: 0.654815697063834, Val f1: 0.6310956478118896\n",
            "Val loss: 0.6527569785311416, Val f1: 0.6292465925216675\n",
            "\n",
            "Evaluating on test...\n",
            "Val loss: 0.8646042545636495, Val f1: 0.8248010277748108\n",
            "Val loss: 0.7504586747714451, Val f1: 0.6907991766929626\n",
            "Val loss: 0.7134552652185614, Val f1: 0.6616764068603516\n",
            "Val loss: 0.6980151255925496, Val f1: 0.6461440324783325\n",
            "Val loss: 0.6885356683480112, Val f1: 0.6375067830085754\n",
            "\n",
            "starting Epoch 18\n",
            "Training...\n",
            "Train loss: 0.6913215688296727\n",
            "Train loss: 0.6655232988554856\n",
            "Train loss: 0.6582703007893129\n",
            "Train loss: 0.6540055567935362\n",
            "Train loss: 0.6515014308529932\n",
            "\n",
            "Evaluating on train...\n",
            "Val loss: 0.6853530960423606, Val f1: 0.6910383105278015\n",
            "Val loss: 0.6646616047826307, Val f1: 0.663553774356842\n",
            "Val loss: 0.6551112559708682, Val f1: 0.6578956246376038\n",
            "Val loss: 0.6513479321689929, Val f1: 0.6543678045272827\n",
            "Val loss: 0.6489985343572255, Val f1: 0.6523694396018982\n",
            "\n",
            "Evaluating on test...\n",
            "Val loss: 0.8597240050633749, Val f1: 0.8519403338432312\n",
            "Val loss: 0.7476323161806379, Val f1: 0.7157880067825317\n",
            "Val loss: 0.710204996845939, Val f1: 0.6857612133026123\n",
            "Val loss: 0.6946150342623393, Val f1: 0.6708149313926697\n",
            "Val loss: 0.6854340339961805, Val f1: 0.6611935496330261\n",
            "\n",
            "starting Epoch 19\n",
            "Training...\n",
            "Train loss: 0.6868488873754229\n",
            "Train loss: 0.6628139286205686\n",
            "Train loss: 0.6540317968888716\n",
            "Train loss: 0.6506814239388805\n",
            "Train loss: 0.6480915852495142\n",
            "\n",
            "Evaluating on train...\n",
            "Val loss: 0.6857574880123138, Val f1: 0.6883408427238464\n",
            "Val loss: 0.6597301220071727, Val f1: 0.661641538143158\n",
            "Val loss: 0.6527419293468649, Val f1: 0.6520631313323975\n",
            "Val loss: 0.6483154519129608, Val f1: 0.6509879231452942\n",
            "Val loss: 0.6453769086180506, Val f1: 0.6490873098373413\n",
            "\n",
            "Evaluating on test...\n",
            "Val loss: 0.8559976816177368, Val f1: 0.8455657958984375\n",
            "Val loss: 0.7444537537438529, Val f1: 0.7089852690696716\n",
            "Val loss: 0.7074379920959473, Val f1: 0.6783185601234436\n",
            "Val loss: 0.6920004606246948, Val f1: 0.6632136702537537\n",
            "Val loss: 0.682786624682577, Val f1: 0.6544253826141357\n"
          ]
        }
      ]
    },
    {
      "cell_type": "code",
      "metadata": {
        "colab": {
          "base_uri": "https://localhost:8080/",
          "height": 295
        },
        "id": "RPwsVKrmjMh_",
        "outputId": "678c8d68-63f3-4595-e179-8a63416f788a"
      },
      "source": [
        "import matplotlib.pyplot as plt\n",
        "plt.plot(losses)\n",
        "plt.plot(losses_eval)\n",
        "plt.title('BCE loss value')\n",
        "plt.ylabel('BCE loss')\n",
        "plt.xlabel('epoch')\n",
        "plt.legend(['train', 'val'], loc='upper right')\n",
        "plt.show()"
      ],
      "execution_count": null,
      "outputs": [
        {
          "output_type": "display_data",
          "data": {
            "image/png": "[encoded data removed]",
            "text/plain": [
              "<Figure size 432x288 with 1 Axes>"
            ]
          },
          "metadata": {
            "needs_background": "light"
          }
        }
      ]
    },
    {
      "cell_type": "code",
      "metadata": {
        "colab": {
          "base_uri": "https://localhost:8080/",
          "height": 295
        },
        "id": "g9JwS4xXjQvl",
        "outputId": "3149ac44-1575-44b0-fee6-dcc0f47b575f"
      },
      "source": [
        "plt.plot(f1s)\n",
        "plt.plot(f1s_eval)\n",
        "plt.title('f1 value')\n",
        "plt.ylabel('f1 value')\n",
        "plt.xlabel('epoch')\n",
        "plt.legend(['train', 'val'], loc='upper right')\n",
        "plt.show()"
      ],
      "execution_count": null,
      "outputs": [
        {
          "output_type": "display_data",
          "data": {
            "image/png": "[encoded data removed]",
            "text/plain": [
              "<Figure size 432x288 with 1 Axes>"
            ]
          },
          "metadata": {
            "needs_background": "light"
          }
        }
      ]
    },
    {
      "cell_type": "code",
      "metadata": {
        "id": "C9CHPswmq19R"
      },
      "source": [
        "def predict(model, iterator):\n",
        "    model.eval()\n",
        "    fp = []\n",
        "    fn = []\n",
        "    tp = [] \n",
        "    tn = []\n",
        "    with torch.no_grad():\n",
        "        for i, (texts, ys) in enumerate(iterator):   \n",
        "            preds = model(texts)  # делаем предсказания на тесте \n",
        "            for pred, gold, text in zip(preds, ys, texts):\n",
        "              text = ' '.join([id2word[int(word)] for word in text if word !=0])\n",
        "              if round(pred.item()) > gold:\n",
        "                fp.append(text)\n",
        "              elif round(pred.item()) < gold:\n",
        "                fn.append(text)\n",
        "              elif round(pred.item()) == gold == 1:\n",
        "                tp.append(text)\n",
        "              elif round(pred.item()) == gold == 0:\n",
        "                tn.append(text)\n",
        "    return fp, fn, tp, tn"
      ],
      "execution_count": null,
      "outputs": []
    },
    {
      "cell_type": "code",
      "metadata": {
        "id": "zIDl1cA-q44Y"
      },
      "source": [
        "fp, fn, tp, tn = predict(model, val_iterator)"
      ],
      "execution_count": null,
      "outputs": []
    },
    {
      "cell_type": "code",
      "metadata": {
        "id": "w2XHux-krODp"
      },
      "source": [
        "precision = len(tp)/(len(tp)+len(fp))"
      ],
      "execution_count": null,
      "outputs": []
    },
    {
      "cell_type": "code",
      "metadata": {
        "id": "LfT8gnEtrdqI"
      },
      "source": [
        "recall = len(tp)/(len(tp)+len(fn))"
      ],
      "execution_count": null,
      "outputs": []
    },
    {
      "cell_type": "code",
      "metadata": {
        "id": "Hf9ptAsDr9vk"
      },
      "source": [
        "f1_score = 2*((precision*recall)/(precision+recall))"
      ],
      "execution_count": null,
      "outputs": []
    },
    {
      "cell_type": "code",
      "metadata": {
        "colab": {
          "base_uri": "https://localhost:8080/"
        },
        "id": "EhicvX2NsC1C",
        "outputId": "1a9b4a3c-28c8-4565-9863-f2cb355d3475"
      },
      "source": [
        "f1_score"
      ],
      "execution_count": null,
      "outputs": [
        {
          "output_type": "execute_result",
          "data": {
            "text/plain": [
              "0.6210375352356461"
            ]
          },
          "metadata": {},
          "execution_count": 72
        }
      ]
    },
    {
      "cell_type": "markdown",
      "metadata": {
        "id": "m4guIZyfSZjX"
      },
      "source": [
        "# Вторая модель\n",
        "\n",
        "Чтобы улучшить, сделал дропаут и увеличил размерность эмбеддингов (до 40)"
      ]
    },
    {
      "cell_type": "code",
      "metadata": {
        "id": "SPmKXi06URKD"
      },
      "source": [
        "class CNN_Sequel(nn.Module):\n",
        "      def __init__(self, vocab_size, embedding_dim):\n",
        "        super().__init__()\n",
        "        self.embedding = nn.Embedding(vocab_size, embedding_dim)\n",
        "        self.embedding.from_pretrained(torch.tensor(weights), freeze=True)\n",
        "        self.bigrams = nn.Conv1d(in_channels=embedding_dim, out_channels=100, kernel_size=2, padding='same')\n",
        "        self.trigrams = nn.Conv1d(in_channels=embedding_dim, out_channels=80, kernel_size=3, padding='same')\n",
        "        self.pooling = nn.MaxPool1d(kernel_size=2, stride=2)\n",
        "        self.relu = nn.ReLU()\n",
        "        self.hidden = nn.Linear(in_features=180, out_features=1)\n",
        "        self.dropout = nn.Dropout(p=0.6)\n",
        "        self.out = nn.Sigmoid()\n",
        "        \n",
        "      def forward(self, word):\n",
        "        #batch_size x seq_len\n",
        "        embedded = self.embedding(word)\n",
        "        #batch_size x seq_len x embedding_dim\n",
        "        embedded = embedded.transpose(1,2)\n",
        "        #batch_size x embedding_dim x seq_len\n",
        "        feature_map_bigrams = self.dropout(self.pooling(self.relu(self.bigrams(embedded))))\n",
        "        #batch_size x filter_count2 x seq_len* \n",
        "        feature_map_trigrams = self.dropout(self.pooling(self.relu(self.trigrams(embedded))))\n",
        "        #batch_size x filter_count3 x seq_len*\n",
        "        pooling1 = feature_map_bigrams.max(2)[0] \n",
        "        # batch_size x filter_count2\n",
        "        pooling2 = feature_map_trigrams.max(2)[0]\n",
        "        # batch_size x filter_count3\n",
        "        concat = torch.cat((pooling1, pooling2), 1)\n",
        "        # batch _size x (filter_count2 + filter_count3)\n",
        "        logits = self.hidden(concat) \n",
        "        logits = self.out(logits)      \n",
        "        return logits\n"
      ],
      "execution_count": null,
      "outputs": []
    },
    {
      "cell_type": "code",
      "metadata": {
        "id": "aB-90sWwUy9K"
      },
      "source": [
        "model = CNN_Sequel(len(word2id), 40)\n",
        "optimizer = optim.Adam(model.parameters(), lr=0.0005)\n",
        "criterion = nn.BCELoss()  \n",
        "\n",
        "# веса модели и значения лосса храним там же, где и все остальные тензоры\n",
        "model = model.to(DEVICE)\n",
        "criterion = criterion.to(DEVICE)"
      ],
      "execution_count": null,
      "outputs": []
    },
    {
      "cell_type": "code",
      "metadata": {
        "id": "JAWeJAXIWIDS"
      },
      "source": [
        "set_random_seed(50)\n",
        "val_dataset = TweetsDataset(val_sentences, word2id, DEVICE)\n",
        "val_sampler = SequentialSampler(val_dataset)\n",
        "val_iterator = DataLoader(val_dataset, collate_fn = val_dataset.collate_fn, sampler=val_sampler, batch_size=1024)"
      ],
      "execution_count": null,
      "outputs": []
    },
    {
      "cell_type": "code",
      "metadata": {
        "colab": {
          "base_uri": "https://localhost:8080/"
        },
        "id": "OD_ex_E6U4Sc",
        "outputId": "c0258933-27c0-4e2c-bc4b-baeca3071b4f"
      },
      "source": [
        "set_random_seed(50)\n",
        "losses = []\n",
        "losses_eval = []\n",
        "f1s = []\n",
        "f1s_eval = []\n",
        "\n",
        "for i in range(20):\n",
        "    print(f'\\nstarting Epoch {i}')\n",
        "    print('Training...')\n",
        "    epoch_loss = train(model, train_iterator, optimizer, criterion)\n",
        "    losses.append(epoch_loss)\n",
        "    print('\\nEvaluating on train...')\n",
        "    f1_on_train,_ = evaluate(model, train_iterator, criterion)\n",
        "    f1s.append(f1_on_train)\n",
        "    print('\\nEvaluating on test...')\n",
        "    f1_on_test, epoch_loss_on_test = evaluate(model, val_iterator, criterion)\n",
        "    losses_eval.append(epoch_loss_on_test)\n",
        "    f1s_eval.append(f1_on_test)"
      ],
      "execution_count": null,
      "outputs": [
        {
          "output_type": "stream",
          "name": "stdout",
          "text": [
            "\n",
            "starting Epoch 0\n",
            "Training...\n",
            "Train loss: 0.7675342517239707\n",
            "Train loss: 0.728989249673383\n",
            "Train loss: 0.7115405933423475\n",
            "Train loss: 0.7001145956879955\n",
            "Train loss: 0.691077321767807\n",
            "\n",
            "Evaluating on train...\n",
            "Val loss: 0.6969768234661647, Val f1: 0.7081559300422668\n",
            "Val loss: 0.6736436506797527, Val f1: 0.6813461780548096\n",
            "Val loss: 0.6658814996480942, Val f1: 0.6743677258491516\n",
            "Val loss: 0.662279477563955, Val f1: 0.6689310669898987\n",
            "Val loss: 0.659967116407446, Val f1: 0.6665745377540588\n",
            "\n",
            "Evaluating on test...\n",
            "Val loss: 0.8686797221501669, Val f1: 0.8780654072761536\n",
            "Val loss: 0.7474830746650696, Val f1: 0.7412276268005371\n",
            "Val loss: 0.7104607116092335, Val f1: 0.7136450409889221\n",
            "Val loss: 0.6954826354980469, Val f1: 0.6986173987388611\n",
            "Val loss: 0.6856401531319869, Val f1: 0.6902978420257568\n",
            "\n",
            "starting Epoch 1\n",
            "Training...\n",
            "Train loss: 0.6951092907360622\n",
            "Train loss: 0.6721601013479561\n",
            "Train loss: 0.6634417067874562\n",
            "Train loss: 0.657330619076551\n",
            "Train loss: 0.653509618462743\n",
            "\n",
            "Evaluating on train...\n",
            "Val loss: 0.6812806512628283, Val f1: 0.7297911047935486\n",
            "Val loss: 0.6566744508414433, Val f1: 0.7030036449432373\n",
            "Val loss: 0.6495947160504081, Val f1: 0.6945011019706726\n",
            "Val loss: 0.6459384823249559, Val f1: 0.6911064386367798\n",
            "Val loss: 0.6438469508209744, Val f1: 0.6887080073356628\n",
            "\n",
            "Evaluating on test...\n",
            "Val loss: 0.8466159701347351, Val f1: 0.9059022068977356\n",
            "Val loss: 0.7295462914875576, Val f1: 0.7645967602729797\n",
            "Val loss: 0.6936423724347894, Val f1: 0.7367225289344788\n",
            "Val loss: 0.6793653766314188, Val f1: 0.719655454158783\n",
            "Val loss: 0.6697932764103538, Val f1: 0.7108994126319885\n",
            "\n",
            "starting Epoch 2\n",
            "Training...\n",
            "Train loss: 0.6756753964083535\n",
            "Train loss: 0.6535265569029183\n",
            "Train loss: 0.6449844755909659\n",
            "Train loss: 0.6407107225919174\n",
            "Train loss: 0.6377421311430029\n",
            "\n",
            "Evaluating on train...\n",
            "Val loss: 0.6729595874037061, Val f1: 0.7301796078681946\n",
            "Val loss: 0.647541724402329, Val f1: 0.7083355188369751\n",
            "Val loss: 0.6394293294711546, Val f1: 0.703637421131134\n",
            "Val loss: 0.6351981314562135, Val f1: 0.7000579833984375\n",
            "Val loss: 0.6328849083668476, Val f1: 0.6987020373344421\n",
            "\n",
            "Evaluating on test...\n",
            "Val loss: 0.832626740137736, Val f1: 0.9177191853523254\n",
            "Val loss: 0.7179453458104815, Val f1: 0.772182822227478\n",
            "Val loss: 0.6828523928468878, Val f1: 0.7439544200897217\n",
            "Val loss: 0.6687979698181152, Val f1: 0.7270962595939636\n",
            "Val loss: 0.6592693234744825, Val f1: 0.7184345126152039\n",
            "\n",
            "starting Epoch 3\n",
            "Training...\n",
            "Train loss: 0.6616486992154803\n",
            "Train loss: 0.6404586208277735\n",
            "Train loss: 0.6323116245594892\n",
            "Train loss: 0.6262507731631651\n",
            "Train loss: 0.6252300747343011\n",
            "\n",
            "Evaluating on train...\n",
            "Val loss: 0.660621566431863, Val f1: 0.7494444847106934\n",
            "Val loss: 0.636362939045347, Val f1: 0.7270122766494751\n",
            "Val loss: 0.6292702826586637, Val f1: 0.7181002497673035\n",
            "Val loss: 0.6260847631147353, Val f1: 0.7143763899803162\n",
            "Val loss: 0.6243437383625958, Val f1: 0.7114949226379395\n",
            "\n",
            "Evaluating on test...\n",
            "Val loss: 0.822196384270986, Val f1: 0.9369683265686035\n",
            "Val loss: 0.7096486687660217, Val f1: 0.7864333987236023\n",
            "Val loss: 0.6753305142576044, Val f1: 0.7551369071006775\n",
            "Val loss: 0.6613815228144327, Val f1: 0.738137423992157\n",
            "Val loss: 0.6518447148172479, Val f1: 0.7291274070739746\n",
            "\n",
            "starting Epoch 4\n",
            "Training...\n",
            "Train loss: 0.6517085177557809\n",
            "Train loss: 0.6290540078590656\n",
            "Train loss: 0.62085836854848\n",
            "Train loss: 0.6177211030054901\n",
            "Train loss: 0.6152488734271075\n",
            "\n",
            "Evaluating on train...\n",
            "Val loss: 0.6469274887016842, Val f1: 0.7425302863121033\n",
            "Val loss: 0.6251305567807165, Val f1: 0.7187968492507935\n",
            "Val loss: 0.618506679480726, Val f1: 0.7110094428062439\n",
            "Val loss: 0.6145183969352205, Val f1: 0.7089874148368835\n",
            "Val loss: 0.6128569656127208, Val f1: 0.705276370048523\n",
            "\n",
            "Evaluating on test...\n",
            "Val loss: 0.8093108137448629, Val f1: 0.922580897808075\n",
            "Val loss: 0.6977452124868121, Val f1: 0.7758919596672058\n",
            "Val loss: 0.6646487170999701, Val f1: 0.7470390796661377\n",
            "Val loss: 0.6511499921480814, Val f1: 0.7309049367904663\n",
            "Val loss: 0.6415312196079054, Val f1: 0.7210769653320312\n",
            "\n",
            "starting Epoch 5\n",
            "Training...\n",
            "Train loss: 0.6407283076218196\n",
            "Train loss: 0.6189286832151741\n",
            "Train loss: 0.6135570732030001\n",
            "Train loss: 0.6089120082936045\n",
            "Train loss: 0.6056616926515425\n",
            "\n",
            "Evaluating on train...\n",
            "Val loss: 0.6429679564067295, Val f1: 0.7628840804100037\n",
            "Val loss: 0.6200101026173296, Val f1: 0.738785445690155\n",
            "Val loss: 0.613425841385668, Val f1: 0.730150580406189\n",
            "Val loss: 0.6099399257514436, Val f1: 0.7250732183456421\n",
            "Val loss: 0.6078849475126009, Val f1: 0.7224867343902588\n",
            "\n",
            "Evaluating on test...\n",
            "Val loss: 0.8035704096158346, Val f1: 0.948286235332489\n",
            "Val loss: 0.6940014021737235, Val f1: 0.7958562970161438\n",
            "Val loss: 0.6611024954102256, Val f1: 0.7619861960411072\n",
            "Val loss: 0.6473830699920654, Val f1: 0.7466200590133667\n",
            "Val loss: 0.637855821534207, Val f1: 0.7376354336738586\n",
            "\n",
            "starting Epoch 6\n",
            "Training...\n",
            "Train loss: 0.6333764323166439\n",
            "Train loss: 0.6123425179514391\n",
            "Train loss: 0.6039289506998929\n",
            "Train loss: 0.6013146345898256\n",
            "Train loss: 0.5976373513002653\n",
            "\n",
            "Evaluating on train...\n",
            "Val loss: 0.6341855227947235, Val f1: 0.7664284706115723\n",
            "Val loss: 0.6123187418641716, Val f1: 0.7378895282745361\n",
            "Val loss: 0.6060427047989585, Val f1: 0.7293812036514282\n",
            "Val loss: 0.6017714354951503, Val f1: 0.7276724576950073\n",
            "Val loss: 0.5991927481986381, Val f1: 0.7266625761985779\n",
            "\n",
            "Evaluating on test...\n",
            "Val loss: 0.7942387064297994, Val f1: 0.9550039768218994\n",
            "Val loss: 0.6859979970114571, Val f1: 0.7992836236953735\n",
            "Val loss: 0.6536970030177723, Val f1: 0.7641618847846985\n",
            "Val loss: 0.6402340690294902, Val f1: 0.74778813123703\n",
            "Val loss: 0.6306868979805395, Val f1: 0.736537754535675\n",
            "\n",
            "starting Epoch 7\n",
            "Training...\n",
            "Train loss: 0.6254255431038993\n",
            "Train loss: 0.6018932708378496\n",
            "Train loss: 0.5945481007749384\n",
            "Train loss: 0.5906452859862376\n",
            "Train loss: 0.588985007356953\n",
            "\n",
            "Evaluating on train...\n",
            "Val loss: 0.6295937980924334, Val f1: 0.7828720808029175\n",
            "Val loss: 0.6079768846774923, Val f1: 0.7559851408004761\n",
            "Val loss: 0.6014348078857769, Val f1: 0.7460698485374451\n",
            "Val loss: 0.5983872544967522, Val f1: 0.741285502910614\n",
            "Val loss: 0.5958369334001798, Val f1: 0.7391136288642883\n",
            "\n",
            "Evaluating on test...\n",
            "Val loss: 0.7909046212832133, Val f1: 0.9725913405418396\n",
            "Val loss: 0.6847239817891803, Val f1: 0.8129005432128906\n",
            "Val loss: 0.6520822806791826, Val f1: 0.7778539061546326\n",
            "Val loss: 0.6383756120999654, Val f1: 0.7628039717674255\n",
            "Val loss: 0.6289759341039156, Val f1: 0.7522350549697876\n",
            "\n",
            "starting Epoch 8\n",
            "Training...\n",
            "Train loss: 0.6098841386181968\n",
            "Train loss: 0.5930038875546949\n",
            "Train loss: 0.5852542546662417\n",
            "Train loss: 0.5834418787794599\n",
            "Train loss: 0.5811875712227177\n",
            "\n",
            "Evaluating on train...\n",
            "Val loss: 0.6164340163980212, Val f1: 0.7918262481689453\n",
            "Val loss: 0.597801670945924, Val f1: 0.7606891989707947\n",
            "Val loss: 0.5920823257077824, Val f1: 0.7494987845420837\n",
            "Val loss: 0.5888274645401259, Val f1: 0.7451241612434387\n",
            "Val loss: 0.5863236430529002, Val f1: 0.7434998750686646\n",
            "\n",
            "Evaluating on test...\n",
            "Val loss: 0.7809161941210429, Val f1: 0.9708420634269714\n",
            "Val loss: 0.6755993281091962, Val f1: 0.8139703869819641\n",
            "Val loss: 0.6436870152300055, Val f1: 0.7783768177032471\n",
            "Val loss: 0.6304356098175049, Val f1: 0.7621612548828125\n",
            "Val loss: 0.6210766842490748, Val f1: 0.7508935928344727\n",
            "\n",
            "starting Epoch 9\n",
            "Training...\n",
            "Train loss: 0.6118571630546025\n",
            "Train loss: 0.5876286173688954\n",
            "Train loss: 0.5804330571131273\n",
            "Train loss: 0.5779179870072058\n",
            "Train loss: 0.5744519531726837\n",
            "\n",
            "Evaluating on train...\n",
            "Val loss: 0.6116020934922355, Val f1: 0.7943522334098816\n",
            "Val loss: 0.590028727876729, Val f1: 0.7669493556022644\n",
            "Val loss: 0.5831120366399939, Val f1: 0.7578364014625549\n",
            "Val loss: 0.5804436701839253, Val f1: 0.7527495622634888\n",
            "Val loss: 0.5793961842317839, Val f1: 0.7490776777267456\n",
            "\n",
            "Evaluating on test...\n",
            "Val loss: 0.7742834488550822, Val f1: 0.9715531468391418\n",
            "Val loss: 0.6702669603484017, Val f1: 0.8150960803031921\n",
            "Val loss: 0.6385558951984752, Val f1: 0.7796132564544678\n",
            "Val loss: 0.6253277858098348, Val f1: 0.7648292183876038\n",
            "Val loss: 0.6159731682978178, Val f1: 0.7536864876747131\n",
            "\n",
            "starting Epoch 10\n",
            "Training...\n",
            "Train loss: 0.603836212839399\n",
            "Train loss: 0.5823828023055504\n",
            "Train loss: 0.5748582671989094\n",
            "Train loss: 0.5719308307615377\n",
            "Train loss: 0.5674093985879743\n",
            "\n",
            "Evaluating on train...\n",
            "Val loss: 0.604489654302597, Val f1: 0.8023862242698669\n",
            "Val loss: 0.5846446670334915, Val f1: 0.7715755105018616\n",
            "Val loss: 0.5772286978634921, Val f1: 0.7632431387901306\n",
            "Val loss: 0.574725529905093, Val f1: 0.7588699460029602\n",
            "Val loss: 0.5731453984170347, Val f1: 0.7556533217430115\n",
            "\n",
            "Evaluating on test...\n",
            "Val loss: 0.7685143351554871, Val f1: 0.979137122631073\n",
            "Val loss: 0.665940489087786, Val f1: 0.8201465606689453\n",
            "Val loss: 0.6341921632940118, Val f1: 0.7850040793418884\n",
            "Val loss: 0.6211020270983378, Val f1: 0.7694575786590576\n",
            "Val loss: 0.6118142416602687, Val f1: 0.7585155367851257\n",
            "\n",
            "starting Epoch 11\n",
            "Training...\n",
            "Train loss: 0.5962723451001304\n",
            "Train loss: 0.5743883354910488\n",
            "Train loss: 0.5644758465615186\n",
            "Train loss: 0.5602281730053789\n",
            "Train loss: 0.5591282651231095\n",
            "\n",
            "Evaluating on train...\n",
            "Val loss: 0.5991018073899406, Val f1: 0.8026700615882874\n",
            "Val loss: 0.5788899865643732, Val f1: 0.7771941423416138\n",
            "Val loss: 0.5719063525850122, Val f1: 0.7682421207427979\n",
            "Val loss: 0.5684686505188377, Val f1: 0.764896810054779\n",
            "Val loss: 0.5669262513921067, Val f1: 0.7620461583137512\n",
            "\n",
            "Evaluating on test...\n",
            "Val loss: 0.7631004651387533, Val f1: 0.9812984466552734\n",
            "Val loss: 0.6617550594466073, Val f1: 0.8245834708213806\n",
            "Val loss: 0.6301907951181586, Val f1: 0.7888849377632141\n",
            "Val loss: 0.6170072078704834, Val f1: 0.7742464542388916\n",
            "Val loss: 0.6077537818958885, Val f1: 0.7635204792022705\n",
            "\n",
            "starting Epoch 12\n",
            "Training...\n",
            "Train loss: 0.5825916315828051\n",
            "Train loss: 0.5614678756944065\n",
            "Train loss: 0.5557404526255347\n",
            "Train loss: 0.5535306809312206\n",
            "Train loss: 0.5518258495910747\n",
            "\n",
            "Evaluating on train...\n",
            "Val loss: 0.5879334722246442, Val f1: 0.804433286190033\n",
            "Val loss: 0.5695389221454489, Val f1: 0.7749860882759094\n",
            "Val loss: 0.5620827403935519, Val f1: 0.7681335806846619\n",
            "Val loss: 0.5586234684717857, Val f1: 0.7642931342124939\n",
            "Val loss: 0.5569912114658871, Val f1: 0.7622708678245544\n",
            "\n",
            "Evaluating on test...\n",
            "Val loss: 0.7526322801907858, Val f1: 0.9746699929237366\n",
            "Val loss: 0.6519680363791329, Val f1: 0.8211424946784973\n",
            "Val loss: 0.6212479580532421, Val f1: 0.7845733165740967\n",
            "Val loss: 0.6084352453549703, Val f1: 0.7692689299583435\n",
            "Val loss: 0.5992658953917654, Val f1: 0.7585169672966003\n",
            "\n",
            "starting Epoch 13\n",
            "Training...\n",
            "Train loss: 0.5808267380510058\n",
            "Train loss: 0.5588123746987047\n",
            "Train loss: 0.5515258373184637\n",
            "Train loss: 0.5462741826550436\n",
            "Train loss: 0.5444952317991772\n",
            "\n",
            "Evaluating on train...\n",
            "Val loss: 0.5786449270589011, Val f1: 0.8141334652900696\n",
            "Val loss: 0.5597555904552854, Val f1: 0.7837405800819397\n",
            "Val loss: 0.554430058056658, Val f1: 0.7744842171669006\n",
            "Val loss: 0.5509183689699335, Val f1: 0.770222544670105\n",
            "Val loss: 0.5491259549115155, Val f1: 0.7679647207260132\n",
            "\n",
            "Evaluating on test...\n",
            "Val loss: 0.7452935377756754, Val f1: 0.9797277450561523\n",
            "Val loss: 0.6460243718964713, Val f1: 0.8251005411148071\n",
            "Val loss: 0.6156234741210938, Val f1: 0.7877576351165771\n",
            "Val loss: 0.6030379414558411, Val f1: 0.7713305354118347\n",
            "Val loss: 0.5939506637422662, Val f1: 0.7600412964820862\n",
            "\n",
            "starting Epoch 14\n",
            "Training...\n",
            "Train loss: 0.5715228063719613\n",
            "Train loss: 0.5513767271206297\n",
            "Train loss: 0.5431455197659406\n",
            "Train loss: 0.5382208531185732\n",
            "Train loss: 0.5359545712535446\n",
            "\n",
            "Evaluating on train...\n",
            "Val loss: 0.5752012133598328, Val f1: 0.8050406575202942\n",
            "Val loss: 0.5527536766282444, Val f1: 0.7819691300392151\n",
            "Val loss: 0.5465633571147919, Val f1: 0.7731449007987976\n",
            "Val loss: 0.5426469425023612, Val f1: 0.770541250705719\n",
            "Val loss: 0.5407132651354816, Val f1: 0.768319308757782\n",
            "\n",
            "Evaluating on test...\n",
            "Val loss: 0.7369071245193481, Val f1: 0.974388599395752\n",
            "Val loss: 0.6387866565159389, Val f1: 0.8205999135971069\n",
            "Val loss: 0.6088543859395114, Val f1: 0.7848007678985596\n",
            "Val loss: 0.5966304421424866, Val f1: 0.7669236063957214\n",
            "Val loss: 0.587633490562439, Val f1: 0.7570018172264099\n",
            "\n",
            "starting Epoch 15\n",
            "Training...\n",
            "Train loss: 0.5598100168364388\n",
            "Train loss: 0.5462883587541252\n",
            "Train loss: 0.5398968146605925\n",
            "Train loss: 0.5360037492493451\n",
            "Train loss: 0.5322234823897078\n",
            "\n",
            "Evaluating on train...\n",
            "Val loss: 0.5689348535878318, Val f1: 0.818736732006073\n",
            "Val loss: 0.5495062881502611, Val f1: 0.789303183555603\n",
            "Val loss: 0.5418297391046177, Val f1: 0.7812389135360718\n",
            "Val loss: 0.5383650670617314, Val f1: 0.7767248749732971\n",
            "Val loss: 0.5362371270721024, Val f1: 0.7749043703079224\n",
            "\n",
            "Evaluating on test...\n",
            "Val loss: 0.7336973945299784, Val f1: 0.9841994643211365\n",
            "Val loss: 0.6365753582545689, Val f1: 0.8295315504074097\n",
            "Val loss: 0.6064041961323131, Val f1: 0.7922235131263733\n",
            "Val loss: 0.5942079583803813, Val f1: 0.7753743529319763\n",
            "Val loss: 0.5852456092834473, Val f1: 0.7654517292976379\n",
            "\n",
            "starting Epoch 16\n",
            "Training...\n",
            "Train loss: 0.5588031198297229\n",
            "Train loss: 0.5384625525310122\n",
            "Train loss: 0.5298209840601141\n",
            "Train loss: 0.526008381176803\n",
            "Train loss: 0.5234901196247822\n",
            "\n",
            "Evaluating on train...\n",
            "Val loss: 0.5605233311653137, Val f1: 0.8237012624740601\n",
            "Val loss: 0.5416445526583441, Val f1: 0.7929128408432007\n",
            "Val loss: 0.535406306385994, Val f1: 0.7849668264389038\n",
            "Val loss: 0.532031032998683, Val f1: 0.7808249592781067\n",
            "Val loss: 0.5292528907994967, Val f1: 0.7795916199684143\n",
            "\n",
            "Evaluating on test...\n",
            "Val loss: 0.7280168732007345, Val f1: 0.9846232533454895\n",
            "Val loss: 0.6318002258028302, Val f1: 0.8307231664657593\n",
            "Val loss: 0.6020774299448187, Val f1: 0.7930221557617188\n",
            "Val loss: 0.5900324900945028, Val f1: 0.7753087878227234\n",
            "Val loss: 0.5811124726345664, Val f1: 0.7660021781921387\n",
            "\n",
            "starting Epoch 17\n",
            "Training...\n",
            "Train loss: 0.5471625668661935\n",
            "Train loss: 0.5288402725910318\n",
            "Train loss: 0.5218592929569158\n",
            "Train loss: 0.5197238891811694\n",
            "Train loss: 0.5185010686919496\n",
            "\n",
            "Evaluating on train...\n",
            "Val loss: 0.5556578529732568, Val f1: 0.8286622762680054\n",
            "Val loss: 0.5350451541358027, Val f1: 0.802690863609314\n",
            "Val loss: 0.5282509130510417, Val f1: 0.7936372756958008\n",
            "Val loss: 0.5258803211026273, Val f1: 0.7884126305580139\n",
            "Val loss: 0.524682450536135, Val f1: 0.7841421365737915\n",
            "\n",
            "Evaluating on test...\n",
            "Val loss: 0.7248712579409281, Val f1: 0.9916213154792786\n",
            "Val loss: 0.6293739931924003, Val f1: 0.8342718482017517\n",
            "Val loss: 0.5993637930263173, Val f1: 0.7978130578994751\n",
            "Val loss: 0.5873199144999186, Val f1: 0.7809364199638367\n",
            "Val loss: 0.5784193622438532, Val f1: 0.7716310620307922\n",
            "\n",
            "starting Epoch 18\n",
            "Training...\n",
            "Train loss: 0.5372528518949237\n",
            "Train loss: 0.5213565446179489\n",
            "Train loss: 0.5177375816486098\n",
            "Train loss: 0.5138070123680567\n",
            "Train loss: 0.5112970398890005\n",
            "\n",
            "Evaluating on train...\n",
            "Val loss: 0.5490828284195491, Val f1: 0.8345028758049011\n",
            "Val loss: 0.5283374056733888, Val f1: 0.8062870502471924\n",
            "Val loss: 0.5228108011863448, Val f1: 0.7971733212471008\n",
            "Val loss: 0.5202764656584141, Val f1: 0.7910826802253723\n",
            "Val loss: 0.5183974129928125, Val f1: 0.7894111275672913\n",
            "\n",
            "Evaluating on test...\n",
            "Val loss: 0.7203572193781534, Val f1: 0.9950807690620422\n",
            "Val loss: 0.6262768421854291, Val f1: 0.837713897228241\n",
            "Val loss: 0.5962968956340443, Val f1: 0.8001956939697266\n",
            "Val loss: 0.5843486587206522, Val f1: 0.7834705710411072\n",
            "Val loss: 0.5755656141983835, Val f1: 0.773550808429718\n",
            "\n",
            "starting Epoch 19\n",
            "Training...\n",
            "Train loss: 0.5416839037622724\n",
            "Train loss: 0.5156050560803249\n",
            "Train loss: 0.5094975429502401\n",
            "Train loss: 0.5058568407923488\n",
            "Train loss: 0.50470689180735\n",
            "\n",
            "Evaluating on train...\n",
            "Val loss: 0.5358511890683856, Val f1: 0.8462494015693665\n",
            "Val loss: 0.5191588237367827, Val f1: 0.8133032321929932\n",
            "Val loss: 0.5154592970555479, Val f1: 0.8004677295684814\n",
            "Val loss: 0.5131734887422141, Val f1: 0.7954421639442444\n",
            "Val loss: 0.5120349679444287, Val f1: 0.7923272848129272\n",
            "\n",
            "Evaluating on test...\n",
            "Val loss: 0.7149264017740885, Val f1: 0.9942502975463867\n",
            "Val loss: 0.6216622335570199, Val f1: 0.8384976983070374\n",
            "Val loss: 0.5918497930873524, Val f1: 0.8017566800117493\n",
            "Val loss: 0.5801148176193237, Val f1: 0.783208429813385\n",
            "Val loss: 0.5713667148037961, Val f1: 0.7731359601020813\n"
          ]
        }
      ]
    },
    {
      "cell_type": "code",
      "metadata": {
        "colab": {
          "base_uri": "https://localhost:8080/",
          "height": 295
        },
        "id": "1LWvrlDjfIiI",
        "outputId": "efaf8d73-bffa-4d4d-9fb8-6fecc136a4b3"
      },
      "source": [
        "plt.plot(losses)\n",
        "plt.plot(losses_eval)\n",
        "plt.title('BCE loss value')\n",
        "plt.ylabel('BCE loss')\n",
        "plt.xlabel('epoch')\n",
        "plt.legend(['train', 'val'], loc='upper right')\n",
        "plt.show()"
      ],
      "execution_count": null,
      "outputs": [
        {
          "output_type": "display_data",
          "data": {
            "image/png": "[encoded data removed]",
            "text/plain": [
              "<Figure size 432x288 with 1 Axes>"
            ]
          },
          "metadata": {
            "needs_background": "light"
          }
        }
      ]
    },
    {
      "cell_type": "code",
      "metadata": {
        "colab": {
          "base_uri": "https://localhost:8080/",
          "height": 295
        },
        "id": "5Pgylxb1fJMF",
        "outputId": "101e4de5-302f-47c4-8b1d-d70fec7aa934"
      },
      "source": [
        "plt.plot(f1s)\n",
        "plt.plot(f1s_eval)\n",
        "plt.title('f1 value')\n",
        "plt.ylabel('f1 value')\n",
        "plt.xlabel('epoch')\n",
        "plt.legend(['train', 'val'], loc='upper right')\n",
        "plt.show()"
      ],
      "execution_count": null,
      "outputs": [
        {
          "output_type": "display_data",
          "data": {
            "image/png": "[encoded data removed]",
            "text/plain": [
              "<Figure size 432x288 with 1 Axes>"
            ]
          },
          "metadata": {
            "needs_background": "light"
          }
        }
      ]
    },
    {
      "cell_type": "code",
      "metadata": {
        "colab": {
          "base_uri": "https://localhost:8080/"
        },
        "id": "isBAFqdJfLr_",
        "outputId": "5f56cbb3-a9d0-406d-d344-5f55dbae8eb0"
      },
      "source": [
        "fp, fn, tp, tn = predict(model, val_iterator)\n",
        "precision = len(tp)/(len(tp)+len(fp))\n",
        "recall = len(tp)/(len(tp)+len(fn))\n",
        "f1_score = 2*((precision*recall)/(precision+recall))\n",
        "f1_score"
      ],
      "execution_count": null,
      "outputs": [
        {
          "output_type": "execute_result",
          "data": {
            "text/plain": [
              "0.7340675891932599"
            ]
          },
          "metadata": {},
          "execution_count": 84
        }
      ]
    },
    {
      "cell_type": "markdown",
      "metadata": {
        "id": "xJbGKYz0Srdj"
      },
      "source": [
        "Трудно что-то сказать о том, почему он неверно определяет некоторые твитты. Я думаю, просто мало слов и из-за этого недостаточно контекста (может быть, сказывается фильтр, который берет только токена, которые встречаются больше 4 раз)"
      ]
    },
    {
      "cell_type": "code",
      "metadata": {
        "colab": {
          "base_uri": "https://localhost:8080/"
        },
        "id": "Kc3m2e39lvNU",
        "outputId": "e44fd171-7f4d-4e71-9662-3fe1ab2497c1"
      },
      "source": [
        "shuffle(fp)[:10]"
      ],
      "execution_count": null,
      "outputs": [
        {
          "output_type": "execute_result",
          "data": {
            "text/plain": [
              "['хуже сайта надо поискать url',\n",
              " 'user знаю я тогда ждала сильно а сейчас пофиг ',\n",
              " 'user по пятнице обещали а я до сих пор жду 3 серии подряд типа',\n",
              " 'спала с десяти до двух днем а сейчас ни в одном глазу',\n",
              " 'ведь не будет уже такого проекта голос да с такими url',\n",
              " 'user у меня по ссылке категорически отказывается переводить',\n",
              " 'user могу тебя на одну завтра но только тебе придется спать на кресле и я с очень и поздно ложимся',\n",
              " 'user тоже иногда бывают  хотя думаю что сейчас это действительно зря',\n",
              " 'user мне он наоборот очень ',\n",
              " 'user какие вот бывает же люди а']"
            ]
          },
          "metadata": {},
          "execution_count": 87
        }
      ]
    },
    {
      "cell_type": "code",
      "metadata": {
        "colab": {
          "base_uri": "https://localhost:8080/"
        },
        "id": "UMj4zdyorLog",
        "outputId": "ae43b6bc-3cac-41f5-c500-66ac7a21fad6"
      },
      "source": [
        "shuffle(fn)[:10]"
      ],
      "execution_count": null,
      "outputs": [
        {
          "output_type": "execute_result",
          "data": {
            "text/plain": [
              "['rt user я то думала  что таких уже нет  url',\n",
              " 'люблю одну нравится другая а хочу быть с третьей нормально вообще',\n",
              " 'опять смертельно захотела работать в не',\n",
              " 'rt user почему шоколад такой вкусный',\n",
              " 'rt user user ты опять злой я телефон отдам тока пароль папки узнаю где песни и фотки ',\n",
              " 'у  майки   паука   days  блядь ',\n",
              " 'погуляли как правда чуть не ничего',\n",
              " 'user тогда понятно но все увы нихера не понимаю в',\n",
              " 'ахаха уже утро пиздец доброго всем не еще не помню когда в последний раз такую ночь не спал и проебал',\n",
              " 'блиин вчера же у меня были именины а я со всем забыла']"
            ]
          },
          "metadata": {},
          "execution_count": 88
        }
      ]
    },
    {
      "cell_type": "markdown",
      "metadata": {
        "id": "Q7OqCsB2TP9_"
      },
      "source": [
        "# Третья модель (пункт II)"
      ]
    },
    {
      "cell_type": "code",
      "metadata": {
        "colab": {
          "base_uri": "https://localhost:8080/"
        },
        "id": "vZzHC6pBH8KR",
        "outputId": "8cdffbd9-1c14-4731-8d31-31729c3a200a"
      },
      "source": [
        "vocab = Counter()\n",
        "\n",
        "for text in tweets_data['text']:\n",
        "    vocab.update(preprocess(text))\n",
        "print('всего уникальных токенов:', len(vocab))"
      ],
      "execution_count": 191,
      "outputs": [
        {
          "output_type": "stream",
          "name": "stdout",
          "text": [
            "всего уникальных токенов: 144870\n"
          ]
        }
      ]
    },
    {
      "cell_type": "code",
      "metadata": {
        "colab": {
          "base_uri": "https://localhost:8080/"
        },
        "id": "ww9CxN7zJufn",
        "outputId": "44de3102-17a9-431a-fd5f-b755930ade46"
      },
      "source": [
        "filtered_vocab = set()\n",
        "\n",
        "for word in vocab:    \n",
        "  if vocab[word] > 2:        \n",
        "    filtered_vocab.add(word)\n",
        "print('уникальных токенов, втретившихся больше 2 раз:', len(filtered_vocab))"
      ],
      "execution_count": 192,
      "outputs": [
        {
          "output_type": "stream",
          "name": "stdout",
          "text": [
            "уникальных токенов, втретившихся больше 2 раз: 28246\n"
          ]
        }
      ]
    },
    {
      "cell_type": "code",
      "metadata": {
        "id": "7rUJqjmPKX3x"
      },
      "source": [
        "word2id = {'PAD':0}\n",
        "\n",
        "for word in filtered_vocab:\n",
        "    word2id[word] = len(word2id)"
      ],
      "execution_count": 193,
      "outputs": []
    },
    {
      "cell_type": "code",
      "metadata": {
        "id": "Vs0N98ubKaCE"
      },
      "source": [
        "id2word = {i:word for word, i in word2id.items()}"
      ],
      "execution_count": 194,
      "outputs": []
    },
    {
      "cell_type": "code",
      "metadata": {
        "colab": {
          "base_uri": "https://localhost:8080/"
        },
        "id": "HSPeXW-gKq4T",
        "outputId": "b0f6cb10-16a8-4273-dba9-3214dc3a8769"
      },
      "source": [
        "DEVICE = torch.device('cuda') if torch.cuda.is_available() else torch.device('cpu')\n",
        "DEVICE"
      ],
      "execution_count": 195,
      "outputs": [
        {
          "output_type": "execute_result",
          "data": {
            "text/plain": [
              "device(type='cpu')"
            ]
          },
          "metadata": {},
          "execution_count": 195
        }
      ]
    },
    {
      "cell_type": "code",
      "metadata": {
        "id": "syxK41s6K2fh"
      },
      "source": [
        "char_vocab = Counter()\n",
        "for char in tweets_data['text']:\n",
        "    char_vocab.update(list(char))\n",
        "\n",
        "symbol2id = {'PAD':0}\n",
        "\n",
        "for symbol in char_vocab:\n",
        "    symbol2id[symbol] = len(symbol2id)"
      ],
      "execution_count": 196,
      "outputs": []
    },
    {
      "cell_type": "code",
      "metadata": {
        "colab": {
          "base_uri": "https://localhost:8080/"
        },
        "id": "gi11TEyXLH5D",
        "outputId": "403235c2-79b9-4062-a513-3e8068a2d21a"
      },
      "source": [
        "len(symbol2id)"
      ],
      "execution_count": 197,
      "outputs": [
        {
          "output_type": "execute_result",
          "data": {
            "text/plain": [
              "340"
            ]
          },
          "metadata": {},
          "execution_count": 197
        }
      ]
    },
    {
      "cell_type": "markdown",
      "metadata": {
        "id": "AVMTqqOWTeRI"
      },
      "source": [
        "Сделаем препроц и уберем скобки и всякие другие символы (см. функцию preprocess)"
      ]
    },
    {
      "cell_type": "code",
      "metadata": {
        "id": "oXfZhdEk2g3w"
      },
      "source": [
        "train_sentences['text'] = train_sentences.apply(lambda row: ' '.join(preprocess(row['text'])), axis=1)"
      ],
      "execution_count": 252,
      "outputs": []
    },
    {
      "cell_type": "code",
      "metadata": {
        "id": "FhVpYrmxLObJ"
      },
      "source": [
        "class WordSymbDataset(Dataset):\n",
        "\n",
        "    def __init__(self, dataset, word2id, symbol2id, DEVICE):\n",
        "        self.dataset = dataset['text'].values\n",
        "        self.word2id = word2id\n",
        "        self.symbol2id = symbol2id\n",
        "        self.length = dataset.shape[0]\n",
        "        self.target = torch.Tensor(dataset['tone'].values)\n",
        "        self.device = DEVICE\n",
        "\n",
        "    def __len__(self):\n",
        "        return self.length\n",
        "\n",
        "    def __getitem__(self, index): \n",
        "        symbols = list(self.dataset[index])\n",
        "        symb_ids = torch.LongTensor([self.symbol2id[symbol] for symbol in symbols if symbol in self.symbol2id])\n",
        "        tokens = self.dataset[index].split()\n",
        "        word_ids = torch.LongTensor([self.word2id[token] for token in tokens if token in self.word2id])\n",
        "        y = [self.target[index]]\n",
        "        return word_ids, symb_ids, y\n",
        "\n",
        "    def collate_fn(self, batch): #этот метод можно реализовывать и отдельно,\n",
        "    # он понадобится для DataLoader во время итерации по батчам\n",
        "      word_ids, symb_ids, y = list(zip(*batch))\n",
        "      padded_words = pad_sequence(word_ids, batch_first=True).to(self.device)\n",
        "      padded_symbs = pad_sequence(symb_ids, batch_first=True).to(self.device)\n",
        "      y = torch.Tensor(y).to(self.device)\n",
        "      return padded_words, padded_symbs, y"
      ],
      "execution_count": 235,
      "outputs": []
    },
    {
      "cell_type": "code",
      "metadata": {
        "colab": {
          "base_uri": "https://localhost:8080/",
          "height": 419
        },
        "id": "7VLcV2uB3cyH",
        "outputId": "3ba76403-2c1a-4180-da69-5649e39a1da3"
      },
      "source": [
        "train_sentences"
      ],
      "execution_count": 253,
      "outputs": [
        {
          "output_type": "execute_result",
          "data": {
            "text/html": [
              "<div>\n",
              "<style scoped>\n",
              "    .dataframe tbody tr th:only-of-type {\n",
              "        vertical-align: middle;\n",
              "    }\n",
              "\n",
              "    .dataframe tbody tr th {\n",
              "        vertical-align: top;\n",
              "    }\n",
              "\n",
              "    .dataframe thead th {\n",
              "        text-align: right;\n",
              "    }\n",
              "</style>\n",
              "<table border=\"1\" class=\"dataframe\">\n",
              "  <thead>\n",
              "    <tr style=\"text-align: right;\">\n",
              "      <th></th>\n",
              "      <th>text</th>\n",
              "      <th>tone</th>\n",
              "    </tr>\n",
              "  </thead>\n",
              "  <tbody>\n",
              "    <tr>\n",
              "      <th>59549</th>\n",
              "      <td>ебать бывший отвез папу домой спасибо тебе что...</td>\n",
              "      <td>1</td>\n",
              "    </tr>\n",
              "    <tr>\n",
              "      <th>99129</th>\n",
              "      <td>кексики и вафельки эхх прощай фигура а еще ж н...</td>\n",
              "      <td>1</td>\n",
              "    </tr>\n",
              "    <tr>\n",
              "      <th>53064</th>\n",
              "      <td>качество супер конечно только достал фотик и т...</td>\n",
              "      <td>0</td>\n",
              "    </tr>\n",
              "    <tr>\n",
              "      <th>51245</th>\n",
              "      <td>rt user можно вкрутить в транспорты кто дружит...</td>\n",
              "      <td>1</td>\n",
              "    </tr>\n",
              "    <tr>\n",
              "      <th>85234</th>\n",
              "      <td>твит новому читателю user пижамка рада тебе</td>\n",
              "      <td>1</td>\n",
              "    </tr>\n",
              "    <tr>\n",
              "      <th>...</th>\n",
              "      <td>...</td>\n",
              "      <td>...</td>\n",
              "    </tr>\n",
              "    <tr>\n",
              "      <th>36758</th>\n",
              "      <td>user привет привет мне работу в вязальной пред...</td>\n",
              "      <td>1</td>\n",
              "    </tr>\n",
              "    <tr>\n",
              "      <th>99338</th>\n",
              "      <td>я его не люблююю нееет просто его глаза улыбка...</td>\n",
              "      <td>0</td>\n",
              "    </tr>\n",
              "    <tr>\n",
              "      <th>97469</th>\n",
              "      <td>такие волосы длинные у меня были 2 года прошло...</td>\n",
              "      <td>0</td>\n",
              "    </tr>\n",
              "    <tr>\n",
              "      <th>57375</th>\n",
              "      <td>мне бы лишь минуту чтобы понять кто мы друг др...</td>\n",
              "      <td>1</td>\n",
              "    </tr>\n",
              "    <tr>\n",
              "      <th>39115</th>\n",
              "      <td>друг с моим лемуром friend url</td>\n",
              "      <td>1</td>\n",
              "    </tr>\n",
              "  </tbody>\n",
              "</table>\n",
              "<p>80000 rows × 2 columns</p>\n",
              "</div>"
            ],
            "text/plain": [
              "                                                    text  tone\n",
              "59549  ебать бывший отвез папу домой спасибо тебе что...     1\n",
              "99129  кексики и вафельки эхх прощай фигура а еще ж н...     1\n",
              "53064  качество супер конечно только достал фотик и т...     0\n",
              "51245  rt user можно вкрутить в транспорты кто дружит...     1\n",
              "85234        твит новому читателю user пижамка рада тебе     1\n",
              "...                                                  ...   ...\n",
              "36758  user привет привет мне работу в вязальной пред...     1\n",
              "99338  я его не люблююю нееет просто его глаза улыбка...     0\n",
              "97469  такие волосы длинные у меня были 2 года прошло...     0\n",
              "57375  мне бы лишь минуту чтобы понять кто мы друг др...     1\n",
              "39115                     друг с моим лемуром friend url     1\n",
              "\n",
              "[80000 rows x 2 columns]"
            ]
          },
          "metadata": {},
          "execution_count": 253
        }
      ]
    },
    {
      "cell_type": "code",
      "metadata": {
        "id": "dWdxO7gYLv1I"
      },
      "source": [
        "set_random_seed(50)\n",
        "train_dataset = WordSymbDataset(train_sentences, word2id, symbol2id, DEVICE)\n",
        "train_sampler = RandomSampler(train_dataset)\n",
        "train_iterator = DataLoader(train_dataset, collate_fn = train_dataset.collate_fn, sampler=train_sampler, batch_size=1024)"
      ],
      "execution_count": 254,
      "outputs": []
    },
    {
      "cell_type": "markdown",
      "metadata": {
        "id": "1EpetBDUToHC"
      },
      "source": [
        "Аналогичный препроц для валидационной выборки"
      ]
    },
    {
      "cell_type": "code",
      "metadata": {
        "id": "6tDJJ_DZ3Lap"
      },
      "source": [
        "val_sentences['text'] = val_sentences.apply(lambda row: ' '.join(preprocess(row['text'])), axis=1)"
      ],
      "execution_count": 255,
      "outputs": []
    },
    {
      "cell_type": "code",
      "metadata": {
        "id": "Weaz8kTLL45O"
      },
      "source": [
        "set_random_seed(50)\n",
        "val_dataset = WordSymbDataset(val_sentences, word2id, symbol2id, DEVICE)\n",
        "val_sampler = SequentialSampler(val_dataset)\n",
        "val_iterator = DataLoader(val_dataset, collate_fn = val_dataset.collate_fn, sampler=val_sampler, batch_size=1024)"
      ],
      "execution_count": 256,
      "outputs": []
    },
    {
      "cell_type": "code",
      "metadata": {
        "id": "xcxsKghWL82n"
      },
      "source": [
        "class WordSymbCNN(nn.Module):\n",
        "    def __init__(self, symb_vocab_size, symb_embedding_dim, word_vocab_size):\n",
        "        super().__init__()\n",
        "\n",
        "        # Word-level layers\n",
        "        self.word_embedding = nn.Embedding(word_vocab_size, 100)\n",
        "        self.word_embedding.from_pretrained(torch.tensor(weights), freeze=True)\n",
        "        self.word_hidden = nn.Linear(100, 100) \n",
        "\n",
        "\n",
        "        # Symbol-level layers\n",
        "        self.symb_embedding = nn.Embedding(symb_vocab_size, symb_embedding_dim)\n",
        "        self.symb_bigrams = nn.Conv1d(in_channels=symb_embedding_dim, out_channels=100, kernel_size=2, padding='same')\n",
        "        self.symb_trigrams = nn.Conv1d(in_channels=symb_embedding_dim, out_channels=80, kernel_size=3, padding='same')\n",
        "        self.symb_pooling = nn.MaxPool1d(kernel_size=2, stride=2)\n",
        "        self.symb_hidden = nn.Linear(in_features=180, out_features=100)\n",
        "        \n",
        "\n",
        "        # Universal layers\n",
        "        self.linear = nn.Linear(in_features=200, out_features=1)\n",
        "        self.dropout = nn.Dropout(p=0.5)\n",
        "        self.relu = nn.ReLU()   \n",
        "        self.out = nn.Sigmoid()\n",
        "\n",
        "\n",
        "    def forward(self, words_seq, symb_seq):\n",
        "        #batch_size x seq_len\n",
        "        embedded = self.symb_embedding(symb_seq)\n",
        "        #batch_size x seq_len x embedding_dim\n",
        "        embedded = embedded.transpose(1,2)\n",
        "        #batch_size x embedding_dim x seq_len\n",
        "        feature_map_bigrams = self.dropout(self.symb_pooling(self.relu(self.symb_bigrams(embedded))))\n",
        "        #batch_size x filter_count2 x seq_len* \n",
        "        feature_map_trigrams = self.dropout(self.symb_pooling(self.relu(self.symb_trigrams(embedded))))\n",
        "        #batch_size x filter_count3 x seq_len*\n",
        "\n",
        "        pooling1 = feature_map_bigrams.max(2)[0] \n",
        "        # batch_size x filter_count2\n",
        "        pooling2 = feature_map_trigrams.max(2)[0]\n",
        "        # batch_size x filter_count3\n",
        "        concat = torch.cat((pooling1, pooling2), 1)\n",
        "        # batch_size x (filter_count2 + filter_count3)\n",
        "        symb_vec = self.symb_hidden(concat)\n",
        "\n",
        "        embedded_words = self.word_embedding(words_seq)   # переводим последовательность индексов в последовательность эмбеддингов\n",
        "        mean_emb_words = torch.mean(embedded_words, dim=1) # считаем средний эмбеддинг предложения\n",
        "        word_vec = self.dropout(self.word_hidden(mean_emb_words)) # пропускаем эмбеддинг через полносвязный слой \n",
        "        word_vec = self.dropout(self.relu(word_vec))\n",
        "\n",
        " \n",
        "        concat = torch.cat((symb_vec, word_vec), 1)\n",
        "\n",
        "        \n",
        "        logits = self.out(self.linear(concat))      \n",
        "        return logits"
      ],
      "execution_count": 257,
      "outputs": []
    },
    {
      "cell_type": "code",
      "metadata": {
        "id": "-Rw5lItBMf2V"
      },
      "source": [
        "model = WordSymbCNN(len(symbol2id), 20, len(word2id))\n",
        "optimizer = optim.Adam(model.parameters(), lr=0.0005)\n",
        "criterion = nn.BCELoss()  \n",
        "\n",
        "# веса модели и значения лосса храним там же, где и все остальные тензоры\n",
        "model = model.to(DEVICE)\n",
        "criterion = criterion.to(DEVICE)"
      ],
      "execution_count": 258,
      "outputs": []
    },
    {
      "cell_type": "code",
      "metadata": {
        "id": "R9L5CrdRPujJ"
      },
      "source": [
        "def train(model, iterator, optimizer, criterion):\n",
        "    epoch_loss = 0 # для подсчета среднего лосса на всех батчах\n",
        "\n",
        "    model.train()  # ставим модель в обучение, явно указываем, что сейчас надо будет хранить градиенты у всех весов\n",
        "\n",
        "    for i, (texts, symbols, ys) in enumerate(iterator): #итерируемся по батчам\n",
        "        optimizer.zero_grad()  #обнуляем градиенты\n",
        "        preds = model(texts, symbols)  #прогоняем данные через модель\n",
        "        loss = criterion(preds, ys) #считаем значение функции потерь  \n",
        "        loss.backward() #считаем градиенты  \n",
        "        optimizer.step() #обновляем веса \n",
        "        epoch_loss += loss.item() #сохраняем значение функции потерь\n",
        "        if not (i + 1) % int(len(iterator)/5):\n",
        "            print(f'Train loss: {epoch_loss/i}')      \n",
        "    return  epoch_loss / len(iterator) # возвращаем среднее значение лосса по всей выборке"
      ],
      "execution_count": 259,
      "outputs": []
    },
    {
      "cell_type": "code",
      "metadata": {
        "id": "Syz3mU8kQl9u"
      },
      "source": [
        "def evaluate(model, iterator, criterion):\n",
        "    epoch_loss = 0\n",
        "    epoch_metric = 0\n",
        "    model.eval() \n",
        "    with torch.no_grad():\n",
        "        for i, (texts, symbols, ys) in enumerate(iterator):   \n",
        "            preds = model(texts, symbols)  # делаем предсказания на тесте\n",
        "            loss = criterion(preds, ys)   # считаем значения функции ошибки для статистики  \n",
        "            epoch_loss += loss.item()\n",
        "            batch_metric = f1(preds.round().long(), ys.long(), ignore_index=0)\n",
        "            epoch_metric += batch_metric\n",
        "\n",
        "            if not (i + 1) % int(len(iterator)/5):\n",
        "              print(f'Val loss: {epoch_loss/i}, Val f1: {epoch_metric/i}')\n",
        "        \n",
        "    return epoch_metric / len(iterator), epoch_loss / len(iterator) # возвращаем среднее значение по всей выборке"
      ],
      "execution_count": 260,
      "outputs": []
    },
    {
      "cell_type": "code",
      "metadata": {
        "id": "HK936YR7fVeK"
      },
      "source": [
        "def predict(model, iterator):\n",
        "    model.eval()\n",
        "    fp = []\n",
        "    fn = []\n",
        "    tp = [] \n",
        "    tn = []\n",
        "    with torch.no_grad():\n",
        "        for i, (texts, symbols, ys) in enumerate(iterator):   \n",
        "            preds = model(texts, symbols)  # делаем предсказания на тесте \n",
        "            for pred, gold, text in zip(preds, ys, texts):\n",
        "              text = ' '.join([id2word[int(word)] for word in text if word !=0])\n",
        "              if round(pred.item()) > gold:\n",
        "                fp.append(text)\n",
        "              elif round(pred.item()) < gold:\n",
        "                fn.append(text)\n",
        "              elif round(pred.item()) == gold == 1:\n",
        "                tp.append(text)\n",
        "              elif round(pred.item()) == gold == 0:\n",
        "                tn.append(text)\n",
        "    return fp, fn, tp, tn"
      ],
      "execution_count": 261,
      "outputs": []
    },
    {
      "cell_type": "code",
      "metadata": {
        "colab": {
          "base_uri": "https://localhost:8080/"
        },
        "id": "VPeDWhmxOYwj",
        "outputId": "e15fa58e-779a-4e37-8c09-e29ee15e3ec6"
      },
      "source": [
        "set_random_seed(50)\n",
        "\n",
        "losses = []\n",
        "losses_eval = []\n",
        "f1s = []\n",
        "f1s_eval = []\n",
        "\n",
        "for i in range(10):\n",
        "    print(f'\\nstarting Epoch {i}')\n",
        "    print('Training...')\n",
        "    epoch_loss = train(model, train_iterator, optimizer, criterion)\n",
        "    losses.append(epoch_loss)\n",
        "    print('\\nEvaluating on train...')\n",
        "    f1_on_train,_ = evaluate(model, train_iterator, criterion)\n",
        "    f1s.append(f1_on_train)\n",
        "    print('\\nEvaluating on test...')\n",
        "    f1_on_test, epoch_loss_on_test = evaluate(model, val_iterator, criterion)\n",
        "    losses_eval.append(epoch_loss_on_test)\n",
        "    f1s_eval.append(f1_on_test)"
      ],
      "execution_count": 262,
      "outputs": [
        {
          "output_type": "stream",
          "name": "stdout",
          "text": [
            "\n",
            "starting Epoch 0\n",
            "Training...\n",
            "Train loss: 0.7468876838684082\n",
            "Train loss: 0.7113074023148109\n",
            "Train loss: 0.697239644148133\n",
            "Train loss: 0.6878040675389565\n",
            "Train loss: 0.679998941518165\n",
            "\n",
            "Evaluating on train...\n",
            "Val loss: 0.6994911219392504, Val f1: 0.7321763038635254\n",
            "Val loss: 0.676243860146095, Val f1: 0.7062389850616455\n",
            "Val loss: 0.6682056987827475, Val f1: 0.7004132270812988\n",
            "Val loss: 0.663784240261983, Val f1: 0.6988243460655212\n",
            "Val loss: 0.6610845391814774, Val f1: 0.6976481080055237\n",
            "\n",
            "Evaluating on test...\n",
            "Val loss: 0.8711917201677958, Val f1: 0.9199808239936829\n",
            "Val loss: 0.7460022653852191, Val f1: 0.7863978147506714\n",
            "Val loss: 0.7114907882430337, Val f1: 0.7521045207977295\n",
            "Val loss: 0.6963154474894205, Val f1: 0.73482346534729\n",
            "Val loss: 0.6866956635525352, Val f1: 0.7256433963775635\n",
            "\n",
            "starting Epoch 1\n",
            "Training...\n",
            "Train loss: 0.6777452528476715\n",
            "Train loss: 0.6466206599926126\n",
            "Train loss: 0.6324724568562075\n",
            "Train loss: 0.6246585997484498\n",
            "Train loss: 0.618471211678273\n",
            "\n",
            "Evaluating on train...\n",
            "Val loss: 0.641982057264873, Val f1: 0.7705054879188538\n",
            "Val loss: 0.6225552497238949, Val f1: 0.7377792596817017\n",
            "Val loss: 0.6171737719665874, Val f1: 0.7265149354934692\n",
            "Val loss: 0.6128026075282339, Val f1: 0.7234209775924683\n",
            "Val loss: 0.6113259252664205, Val f1: 0.7208977341651917\n",
            "\n",
            "Evaluating on test...\n",
            "Val loss: 0.8110711375872294, Val f1: 0.9433662295341492\n",
            "Val loss: 0.6911527855055672, Val f1: 0.807454526424408\n",
            "Val loss: 0.6594850800254128, Val f1: 0.7713671326637268\n",
            "Val loss: 0.6461063424746195, Val f1: 0.7548561692237854\n",
            "Val loss: 0.6361411307987413, Val f1: 0.7473023533821106\n",
            "\n",
            "starting Epoch 2\n",
            "Training...\n",
            "Train loss: 0.6294223921639579\n",
            "Train loss: 0.6045506596565247\n",
            "Train loss: 0.5980861999771812\n",
            "Train loss: 0.59381487005848\n",
            "Train loss: 0.5904101584408734\n",
            "\n",
            "Evaluating on train...\n",
            "Val loss: 0.622538149356842, Val f1: 0.7461269497871399\n",
            "Val loss: 0.6002987993174586, Val f1: 0.7196454405784607\n",
            "Val loss: 0.5951834524219687, Val f1: 0.7082046270370483\n",
            "Val loss: 0.5922062205056012, Val f1: 0.7049415707588196\n",
            "Val loss: 0.5905164576865531, Val f1: 0.7028017044067383\n",
            "\n",
            "Evaluating on test...\n",
            "Val loss: 0.7883617877960205, Val f1: 0.9085415005683899\n",
            "Val loss: 0.6701681699071612, Val f1: 0.782366931438446\n",
            "Val loss: 0.6392216953364286, Val f1: 0.7488337159156799\n",
            "Val loss: 0.6261777957280477, Val f1: 0.7344238758087158\n",
            "Val loss: 0.6162984653523094, Val f1: 0.7274549603462219\n",
            "\n",
            "starting Epoch 3\n",
            "Training...\n",
            "Train loss: 0.6174949024404798\n",
            "Train loss: 0.5947889048477699\n",
            "Train loss: 0.5879682681777261\n",
            "Train loss: 0.5823982943922786\n",
            "Train loss: 0.58025069575052\n",
            "\n",
            "Evaluating on train...\n",
            "Val loss: 0.6190915874072483, Val f1: 0.7739753723144531\n",
            "Val loss: 0.5972985707480332, Val f1: 0.7484315633773804\n",
            "Val loss: 0.5902888558127664, Val f1: 0.7390134334564209\n",
            "Val loss: 0.5868711865554421, Val f1: 0.7368485927581787\n",
            "Val loss: 0.5854469006125992, Val f1: 0.7339737415313721\n",
            "\n",
            "Evaluating on test...\n",
            "Val loss: 0.7804726560910543, Val f1: 0.9583835601806641\n",
            "Val loss: 0.6641570670264108, Val f1: 0.8196490406990051\n",
            "Val loss: 0.6337116956710815, Val f1: 0.7831811308860779\n",
            "Val loss: 0.6211762070655823, Val f1: 0.7662168145179749\n",
            "Val loss: 0.6110196552778545, Val f1: 0.7594135999679565\n",
            "\n",
            "starting Epoch 4\n",
            "Training...\n",
            "Train loss: 0.6037635675498417\n",
            "Train loss: 0.5840786983226908\n",
            "Train loss: 0.5766358443281867\n",
            "Train loss: 0.5705590985589108\n",
            "Train loss: 0.5675165089401039\n",
            "\n",
            "Evaluating on train...\n",
            "Val loss: 0.6134074415479388, Val f1: 0.7867741584777832\n",
            "Val loss: 0.5921117026230385, Val f1: 0.7619375586509705\n",
            "Val loss: 0.5852606296539307, Val f1: 0.7528820633888245\n",
            "Val loss: 0.5809222277948412, Val f1: 0.7494041919708252\n",
            "Val loss: 0.5790056723195154, Val f1: 0.7465559244155884\n",
            "\n",
            "Evaluating on test...\n",
            "Val loss: 0.7732630372047424, Val f1: 0.9734115600585938\n",
            "Val loss: 0.6588442836488996, Val f1: 0.8330971002578735\n",
            "Val loss: 0.6287911967797712, Val f1: 0.7986615896224976\n",
            "Val loss: 0.6163512309392293, Val f1: 0.7810083627700806\n",
            "Val loss: 0.6060163096377724, Val f1: 0.7740474343299866\n",
            "\n",
            "starting Epoch 5\n",
            "Training...\n",
            "Train loss: 0.5917849455560956\n",
            "Train loss: 0.5700121028669949\n",
            "Train loss: 0.5647782778198068\n",
            "Train loss: 0.5607561489283028\n",
            "Train loss: 0.5581795234937925\n",
            "\n",
            "Evaluating on train...\n",
            "Val loss: 0.5907566887991769, Val f1: 0.7964860796928406\n",
            "Val loss: 0.5730149704834511, Val f1: 0.7673254609107971\n",
            "Val loss: 0.5661091452295129, Val f1: 0.7581043243408203\n",
            "Val loss: 0.562286386045359, Val f1: 0.7545884847640991\n",
            "Val loss: 0.5605237765892132, Val f1: 0.7521055936813354\n",
            "\n",
            "Evaluating on test...\n",
            "Val loss: 0.7540297508239746, Val f1: 0.9735937714576721\n",
            "Val loss: 0.642302121434893, Val f1: 0.8339452147483826\n",
            "Val loss: 0.6128823323683306, Val f1: 0.7968647480010986\n",
            "Val loss: 0.600294848283132, Val f1: 0.7794851064682007\n",
            "Val loss: 0.5899003900979695, Val f1: 0.7725517153739929\n",
            "\n",
            "starting Epoch 6\n",
            "Training...\n",
            "Train loss: 0.5841001357351031\n",
            "Train loss: 0.5641792396019245\n",
            "Train loss: 0.5546149679205634\n",
            "Train loss: 0.5492856603557781\n",
            "Train loss: 0.5478968483370703\n",
            "\n",
            "Evaluating on train...\n",
            "Val loss: 0.5842784728322711, Val f1: 0.8017464280128479\n",
            "Val loss: 0.5622487684776043, Val f1: 0.7777112722396851\n",
            "Val loss: 0.5547958991744302, Val f1: 0.770831823348999\n",
            "Val loss: 0.5507539692571608, Val f1: 0.7667597532272339\n",
            "Val loss: 0.5498418969077032, Val f1: 0.762190043926239\n",
            "\n",
            "Evaluating on test...\n",
            "Val loss: 0.7450737158457438, Val f1: 0.9752299189567566\n",
            "Val loss: 0.635401223387037, Val f1: 0.8386016488075256\n",
            "Val loss: 0.6062854094938799, Val f1: 0.8028760552406311\n",
            "Val loss: 0.5935044248898824, Val f1: 0.7865530848503113\n",
            "Val loss: 0.5828948271901984, Val f1: 0.7783061861991882\n",
            "\n",
            "starting Epoch 7\n",
            "Training...\n",
            "Train loss: 0.5771118359906333\n",
            "Train loss: 0.5526884496212006\n",
            "Train loss: 0.5439836145801977\n",
            "Train loss: 0.5393976543919515\n",
            "Train loss: 0.5357773767129795\n",
            "\n",
            "Evaluating on train...\n",
            "Val loss: 0.5566250660589763, Val f1: 0.7861446738243103\n",
            "Val loss: 0.5387870967388153, Val f1: 0.7565706968307495\n",
            "Val loss: 0.5329088074239817, Val f1: 0.7486371397972107\n",
            "Val loss: 0.5299337713395135, Val f1: 0.7433848977088928\n",
            "Val loss: 0.5278698701310802, Val f1: 0.7418851256370544\n",
            "\n",
            "Evaluating on test...\n",
            "Val loss: 0.7288197676340739, Val f1: 0.9373021125793457\n",
            "Val loss: 0.619873012815203, Val f1: 0.8057871460914612\n",
            "Val loss: 0.5902442010966215, Val f1: 0.7731289267539978\n",
            "Val loss: 0.5764870484670003, Val f1: 0.756891131401062\n",
            "Val loss: 0.566227232155047, Val f1: 0.7496179938316345\n",
            "\n",
            "starting Epoch 8\n",
            "Training...\n",
            "Train loss: 0.5533005233321872\n",
            "Train loss: 0.532751248828296\n",
            "Train loss: 0.5266384793953462\n",
            "Train loss: 0.5230962699752743\n",
            "Train loss: 0.5223063741986816\n",
            "\n",
            "Evaluating on train...\n",
            "Val loss: 0.5493524564164025, Val f1: 0.8108482360839844\n",
            "Val loss: 0.528748606813365, Val f1: 0.7841923832893372\n",
            "Val loss: 0.5232937037944794, Val f1: 0.7746866345405579\n",
            "Val loss: 0.5192910831863597, Val f1: 0.7715004682540894\n",
            "Val loss: 0.5175794242201625, Val f1: 0.7688382863998413\n",
            "\n",
            "Evaluating on test...\n",
            "Val loss: 0.7194779912630717, Val f1: 0.9770166873931885\n",
            "Val loss: 0.6132231525012425, Val f1: 0.8365615606307983\n",
            "Val loss: 0.5839944752779874, Val f1: 0.8017093539237976\n",
            "Val loss: 0.5703985611597697, Val f1: 0.7859246730804443\n",
            "Val loss: 0.5599491533480192, Val f1: 0.7780753970146179\n",
            "\n",
            "starting Epoch 9\n",
            "Training...\n",
            "Train loss: 0.5423429480620793\n",
            "Train loss: 0.5206114978625856\n",
            "Train loss: 0.5143561038103971\n",
            "Train loss: 0.5114382828696299\n",
            "Train loss: 0.5089019855131974\n",
            "\n",
            "Evaluating on train...\n",
            "Val loss: 0.5318874163287026, Val f1: 0.8101248741149902\n",
            "Val loss: 0.5134458099973613, Val f1: 0.7795653939247131\n",
            "Val loss: 0.5070536800406196, Val f1: 0.7721284627914429\n",
            "Val loss: 0.50408108810247, Val f1: 0.7680375576019287\n",
            "Val loss: 0.5018049869182948, Val f1: 0.766427755355835\n",
            "\n",
            "Evaluating on test...\n",
            "Val loss: 0.7105415860811869, Val f1: 0.963151216506958\n",
            "Val loss: 0.604861285005297, Val f1: 0.8246350884437561\n",
            "Val loss: 0.5753312381831083, Val f1: 0.7909189462661743\n",
            "Val loss: 0.561142373085022, Val f1: 0.7742016911506653\n",
            "Val loss: 0.5508096076940235, Val f1: 0.7663478851318359\n"
          ]
        }
      ]
    },
    {
      "cell_type": "code",
      "metadata": {
        "colab": {
          "base_uri": "https://localhost:8080/",
          "height": 295
        },
        "id": "AfrQE5dLe9cR",
        "outputId": "6e39ec19-116f-4011-a746-616b565cc417"
      },
      "source": [
        "plt.plot(losses)\n",
        "plt.plot(losses_eval)\n",
        "plt.title('BCE loss value')\n",
        "plt.ylabel('BCE loss')\n",
        "plt.xlabel('epoch')\n",
        "plt.legend(['train', 'val'], loc='upper right')\n",
        "plt.show()"
      ],
      "execution_count": 264,
      "outputs": [
        {
          "output_type": "display_data",
          "data": {
            "image/png": "[encoded data removed]",
            "text/plain": [
              "<Figure size 432x288 with 1 Axes>"
            ]
          },
          "metadata": {
            "needs_background": "light"
          }
        }
      ]
    },
    {
      "cell_type": "code",
      "metadata": {
        "colab": {
          "base_uri": "https://localhost:8080/",
          "height": 295
        },
        "id": "gIouIEXLfIwe",
        "outputId": "b112f9e3-4615-4ca1-f01c-ebda0fe9854d"
      },
      "source": [
        "plt.plot(f1s)\n",
        "plt.plot(f1s_eval)\n",
        "plt.title('f1 value')\n",
        "plt.ylabel('f1 value')\n",
        "plt.xlabel('epoch')\n",
        "plt.legend(['train', 'val'], loc='upper right')\n",
        "plt.show()"
      ],
      "execution_count": 265,
      "outputs": [
        {
          "output_type": "display_data",
          "data": {
            "image/png": "[encoded data removed]",
            "text/plain": [
              "<Figure size 432x288 with 1 Axes>"
            ]
          },
          "metadata": {
            "needs_background": "light"
          }
        }
      ]
    },
    {
      "cell_type": "code",
      "metadata": {
        "colab": {
          "base_uri": "https://localhost:8080/"
        },
        "id": "eUVYq04xfN7L",
        "outputId": "ea63c7c0-006e-40ec-b72d-46b54b11d730"
      },
      "source": [
        "fp, fn, tp, tn = predict(model, val_iterator)\n",
        "precision = len(tp)/(len(tp)+len(fp))\n",
        "recall = len(tp)/(len(tp)+len(fn))\n",
        "f1_score = 2*((precision*recall)/(precision+recall))\n",
        "f1_score"
      ],
      "execution_count": 266,
      "outputs": [
        {
          "output_type": "execute_result",
          "data": {
            "text/plain": [
              "0.7281587897862837"
            ]
          },
          "metadata": {},
          "execution_count": 266
        }
      ]
    },
    {
      "cell_type": "code",
      "metadata": {
        "colab": {
          "base_uri": "https://localhost:8080/"
        },
        "id": "oU9wa1dqxgeY",
        "outputId": "1e8b864d-c170-442d-c0a5-7ce1dfcc1919"
      },
      "source": [
        "shuffle(fn)[:10]"
      ],
      "execution_count": 267,
      "outputs": [
        {
          "output_type": "execute_result",
          "data": {
            "text/plain": [
              "['rt user я закрыла дверь в свое сердце и написала входа нет но пришла любовь и сказала я не умею читать url',\n",
              " 'user user криминал как объяснила маме этот',\n",
              " 'user с четверти до четверти живут учителя весело',\n",
              " 'ну или вообще ложиться не буду и в помощь',\n",
              " 'теперь осталось написать пробный гиа по русскому языку и все хорошо',\n",
              " 'сегодня на маленькой меня впервые дпс ник я от и ни слова ему даже не сказала только права показала',\n",
              " 'user почему сразу 3 я подумал',\n",
              " 'user жень это я собираюсь на журфак а не ты а то еще в газете раньше меня глянь какие у тебя',\n",
              " 'день был теплый что на удивление особенно мне понравился танец на нг насмеялась от души было весело биология надоело все учить',\n",
              " 'о боже заставка дисней тот момент когда ты понимаешь что сейчас будет что то охуенное']"
            ]
          },
          "metadata": {},
          "execution_count": 267
        }
      ]
    },
    {
      "cell_type": "code",
      "metadata": {
        "colab": {
          "base_uri": "https://localhost:8080/"
        },
        "id": "nbzQPWV1xisw",
        "outputId": "0128a4af-91f0-42ba-b839-a8567c6b70cb"
      },
      "source": [
        "shuffle(fp)[:10]"
      ],
      "execution_count": 249,
      "outputs": [
        {
          "output_type": "execute_result",
          "data": {
            "text/plain": [
              "['user user яка такі і',\n",
              " 'ну неееет ну пожалуйста у них все так хорошо начиналось моя рассталась со своей любовью',\n",
              " 'user ахахахах грусть печаль я в вк тебе написала ты игноришь же что общаться два дня будем ахах',\n",
              " 'rt user что то мегафон сегодня целый вечер тупит',\n",
              " 'user я понял такие ситуации заставляют людей меняться пусть и за такую цену',\n",
              " 'user user user а я не думал даже это все все перепутали где и другие будет суд',\n",
              " 'rt user user оох выздоравливай',\n",
              " 'user да они в этом году молодцы в отличие от и',\n",
              " 'user',\n",
              " 'блин ребята не вы этих жирных пауков которым насрать и на вашу жизнь и здоровье']"
            ]
          },
          "metadata": {},
          "execution_count": 249
        }
      ]
    },
    {
      "cell_type": "markdown",
      "metadata": {
        "id": "igmsf_x8T6nN"
      },
      "source": [
        "# Попытаемся улучшить модель\n",
        "\n",
        "Добавил еще один линейный слой и увеличил количество эпох до 15, а также вероятность дропаута с 0.5 до 0.7"
      ]
    },
    {
      "cell_type": "code",
      "metadata": {
        "id": "l9GzLuP2EtDR"
      },
      "source": [
        "class WordSymbCNN_Sequel(nn.Module):\n",
        "    def __init__(self, symb_vocab_size, symb_embedding_dim, word_vocab_size):\n",
        "        super().__init__()\n",
        "\n",
        "       # Word-level layers\n",
        "        self.word_embedding = nn.Embedding(word_vocab_size, 100)\n",
        "        self.word_embedding.from_pretrained(torch.tensor(weights), freeze=True)\n",
        "        self.word_hidden = nn.Linear(100, 100) \n",
        "\n",
        "\n",
        "        # Symbol-level layers\n",
        "        self.symb_embedding = nn.Embedding(symb_vocab_size, symb_embedding_dim)\n",
        "        self.symb_bigrams = nn.Conv1d(in_channels=symb_embedding_dim, out_channels=100, kernel_size=2, padding='same')\n",
        "        self.symb_trigrams = nn.Conv1d(in_channels=symb_embedding_dim, out_channels=80, kernel_size=3, padding='same')\n",
        "        self.symb_pooling = nn.MaxPool1d(kernel_size=2, stride=2)\n",
        "        self.symb_hidden = nn.Linear(in_features=180, out_features=100)\n",
        "        \n",
        "\n",
        "        # Universal layers\n",
        "        self.linear0 = nn.Linear(in_features=200, out_features=200)\n",
        "        self.linear = nn.Linear(in_features=200, out_features=1)\n",
        "        self.dropout = nn.Dropout(p=0.7)\n",
        "        self.relu = nn.ReLU()   \n",
        "        self.out = nn.Sigmoid()\n",
        "\n",
        "\n",
        "    def forward(self, words_seq, symb_seq):\n",
        "        #batch_size x seq_len\n",
        "        embedded = self.symb_embedding(symb_seq)\n",
        "        #batch_size x seq_len x embedding_dim\n",
        "        embedded = embedded.transpose(1,2)\n",
        "        #batch_size x embedding_dim x seq_len\n",
        "        feature_map_bigrams = self.dropout(self.symb_pooling(self.relu(self.symb_bigrams(embedded))))\n",
        "        #batch_size x filter_count2 x seq_len* \n",
        "        feature_map_trigrams = self.dropout(self.symb_pooling(self.relu(self.symb_trigrams(embedded))))\n",
        "        #batch_size x filter_count3 x seq_len*\n",
        "\n",
        "        pooling1 = feature_map_bigrams.max(2)[0] \n",
        "        # batch_size x filter_count2\n",
        "        pooling2 = feature_map_trigrams.max(2)[0]\n",
        "        # batch_size x filter_count3\n",
        "        concat = torch.cat((pooling1, pooling2), 1)\n",
        "        # batch_size x (filter_count2 + filter_count3)\n",
        "        symb_vec = self.symb_hidden(concat)\n",
        "\n",
        "        embedded_words = self.word_embedding(words_seq)   # переводим последовательность индексов в последовательность эмбеддингов\n",
        "        mean_emb_words = torch.mean(embedded_words, dim=1) # считаем средний эмбеддинг предложения\n",
        "        word_vec = self.dropout(self.word_hidden(mean_emb_words)) # пропускаем эмбеддинг через полносвязный слой \n",
        "        word_vec = self.dropout(self.relu(word_vec))\n",
        "\n",
        " \n",
        "        concat = torch.cat((symb_vec, word_vec), 1)\n",
        "\n",
        "        \n",
        "        logits = self.out(self.linear(concat))      \n",
        "        return logits"
      ],
      "execution_count": 278,
      "outputs": []
    },
    {
      "cell_type": "code",
      "metadata": {
        "id": "g6_wEN7-FfQv"
      },
      "source": [
        "model = WordSymbCNN_Sequel(len(symbol2id), 30, len(word2id))\n",
        "optimizer = optim.Adam(model.parameters(), lr=0.0005)\n",
        "criterion = nn.BCELoss()  \n",
        "\n",
        "# веса модели и значения лосса храним там же, где и все остальные тензоры\n",
        "model = model.to(DEVICE)\n",
        "criterion = criterion.to(DEVICE)"
      ],
      "execution_count": 279,
      "outputs": []
    },
    {
      "cell_type": "code",
      "metadata": {
        "id": "pfcQJF2FF8uA"
      },
      "source": [
        "set_random_seed(50)\n",
        "train_dataset = WordSymbDataset(train_sentences, word2id, symbol2id, DEVICE)\n",
        "train_sampler = RandomSampler(train_dataset)\n",
        "train_iterator = DataLoader(train_dataset, collate_fn = train_dataset.collate_fn, sampler=train_sampler, batch_size=1024)\n",
        "\n",
        "set_random_seed(50)\n",
        "val_dataset = WordSymbDataset(val_sentences, word2id, symbol2id, DEVICE)\n",
        "val_sampler = SequentialSampler(val_dataset)\n",
        "val_iterator = DataLoader(val_dataset, collate_fn = val_dataset.collate_fn, sampler=val_sampler, batch_size=1024)"
      ],
      "execution_count": 280,
      "outputs": []
    },
    {
      "cell_type": "code",
      "metadata": {
        "colab": {
          "base_uri": "https://localhost:8080/"
        },
        "id": "txBDbQuFGBst",
        "outputId": "6b1f232f-4116-4ba6-ff03-58026fe577a3"
      },
      "source": [
        "set_random_seed(50)\n",
        "\n",
        "losses = []\n",
        "losses_eval = []\n",
        "f1s = []\n",
        "f1s_eval = []\n",
        "\n",
        "for i in range(15):\n",
        "    print(f'\\nstarting Epoch {i}')\n",
        "    print('Training...')\n",
        "    epoch_loss = train(model, train_iterator, optimizer, criterion)\n",
        "    losses.append(epoch_loss)\n",
        "    print('\\nEvaluating on train...')\n",
        "    f1_on_train,_ = evaluate(model, train_iterator, criterion)\n",
        "    f1s.append(f1_on_train)\n",
        "    print('\\nEvaluating on test...')\n",
        "    f1_on_test, epoch_loss_on_test = evaluate(model, val_iterator, criterion)\n",
        "    losses_eval.append(epoch_loss_on_test)\n",
        "    f1s_eval.append(f1_on_test)"
      ],
      "execution_count": 285,
      "outputs": [
        {
          "output_type": "stream",
          "name": "stdout",
          "text": [
            "\n",
            "starting Epoch 0\n",
            "Training...\n",
            "Train loss: 0.5890781155654362\n",
            "Train loss: 0.565796971321106\n",
            "Train loss: 0.5564041435718536\n",
            "Train loss: 0.5530154381768179\n",
            "Train loss: 0.5510127721606074\n",
            "\n",
            "Evaluating on train...\n",
            "Val loss: 0.5985373088291713, Val f1: 0.7826491594314575\n",
            "Val loss: 0.5780951421836327, Val f1: 0.7540016770362854\n",
            "Val loss: 0.5715588398955085, Val f1: 0.7457746267318726\n",
            "Val loss: 0.5679213414757939, Val f1: 0.7432742118835449\n",
            "Val loss: 0.5658284667375926, Val f1: 0.7405332326889038\n",
            "\n",
            "Evaluating on test...\n",
            "Val loss: 0.7628075480461121, Val f1: 0.959463357925415\n",
            "Val loss: 0.648507331098829, Val f1: 0.8231028318405151\n",
            "Val loss: 0.6182440952821211, Val f1: 0.7849380970001221\n",
            "Val loss: 0.6055590828259786, Val f1: 0.7682802677154541\n",
            "Val loss: 0.5959302908495853, Val f1: 0.7600739002227783\n",
            "\n",
            "starting Epoch 1\n",
            "Training...\n",
            "Train loss: 0.5796563667910439\n",
            "Train loss: 0.5570156265949381\n",
            "Train loss: 0.5499517077749426\n",
            "Train loss: 0.5469803698992325\n",
            "Train loss: 0.5448511786557533\n",
            "\n",
            "Evaluating on train...\n",
            "Val loss: 0.584257287638528, Val f1: 0.8079199194908142\n",
            "Val loss: 0.567490957934281, Val f1: 0.7732961773872375\n",
            "Val loss: 0.5636469532142986, Val f1: 0.7610076665878296\n",
            "Val loss: 0.5589223443451574, Val f1: 0.7585906982421875\n",
            "Val loss: 0.5575206078387596, Val f1: 0.7553483843803406\n",
            "\n",
            "Evaluating on test...\n",
            "Val loss: 0.7546253204345703, Val f1: 0.9742903709411621\n",
            "Val loss: 0.6421165466308594, Val f1: 0.8355945348739624\n",
            "Val loss: 0.6122492335059426, Val f1: 0.7977041006088257\n",
            "Val loss: 0.5995920300483704, Val f1: 0.7820570468902588\n",
            "Val loss: 0.5897855915521321, Val f1: 0.7736470103263855\n",
            "\n",
            "starting Epoch 2\n",
            "Training...\n",
            "Train loss: 0.5742796872343335\n",
            "Train loss: 0.5505324622680401\n",
            "Train loss: 0.5418084128336473\n",
            "Train loss: 0.5390678300695905\n",
            "Train loss: 0.536378530231682\n",
            "\n",
            "Evaluating on train...\n",
            "Val loss: 0.574969504560743, Val f1: 0.791351854801178\n",
            "Val loss: 0.5516390266089604, Val f1: 0.766895055770874\n",
            "Val loss: 0.5472094904292714, Val f1: 0.7560040950775146\n",
            "Val loss: 0.5446682653184665, Val f1: 0.7517037987709045\n",
            "Val loss: 0.5430497954020629, Val f1: 0.74942547082901\n",
            "\n",
            "Evaluating on test...\n",
            "Val loss: 0.7427084445953369, Val f1: 0.9583831429481506\n",
            "Val loss: 0.6315402047974723, Val f1: 0.8232945799827576\n",
            "Val loss: 0.6018464402718977, Val f1: 0.7870359420776367\n",
            "Val loss: 0.5888326684633891, Val f1: 0.7693432569503784\n",
            "Val loss: 0.5792153509039628, Val f1: 0.7601984143257141\n",
            "\n",
            "starting Epoch 3\n",
            "Training...\n",
            "Train loss: 0.5560079238244465\n",
            "Train loss: 0.5360644963280908\n",
            "Train loss: 0.5318682512099092\n",
            "Train loss: 0.5278139781143706\n",
            "Train loss: 0.5275028364078419\n",
            "\n",
            "Evaluating on train...\n",
            "Val loss: 0.5632705347878593, Val f1: 0.8001983761787415\n",
            "Val loss: 0.544268772519868, Val f1: 0.7717799544334412\n",
            "Val loss: 0.5381689979271456, Val f1: 0.7606523633003235\n",
            "Val loss: 0.5355140455698563, Val f1: 0.7565642595291138\n",
            "Val loss: 0.5341471981357884, Val f1: 0.7528017163276672\n",
            "\n",
            "Evaluating on test...\n",
            "Val loss: 0.7367240190505981, Val f1: 0.9546464085578918\n",
            "Val loss: 0.6260559473718915, Val f1: 0.8200612664222717\n",
            "Val loss: 0.5963743870908563, Val f1: 0.7849512100219727\n",
            "Val loss: 0.5831694722175598, Val f1: 0.7685015201568604\n",
            "Val loss: 0.5734949362905402, Val f1: 0.7593270540237427\n",
            "\n",
            "starting Epoch 4\n",
            "Training...\n",
            "Train loss: 0.5579759819167001\n",
            "Train loss: 0.5370543784108656\n",
            "Train loss: 0.5296604985540564\n",
            "Train loss: 0.524054271184792\n",
            "Train loss: 0.5206105664775178\n",
            "\n",
            "Evaluating on train...\n",
            "Val loss: 0.5495675206184387, Val f1: 0.8078829050064087\n",
            "Val loss: 0.5309890631971688, Val f1: 0.7805873155593872\n",
            "Val loss: 0.5250142284414985, Val f1: 0.7723578810691833\n",
            "Val loss: 0.5207492461649038, Val f1: 0.768848180770874\n",
            "Val loss: 0.518969173366959, Val f1: 0.7654457092285156\n",
            "\n",
            "Evaluating on test...\n",
            "Val loss: 0.7233656048774719, Val f1: 0.9658463597297668\n",
            "Val loss: 0.6153650539261954, Val f1: 0.8290225863456726\n",
            "Val loss: 0.5860401066866788, Val f1: 0.7938358187675476\n",
            "Val loss: 0.572872805595398, Val f1: 0.7769371271133423\n",
            "Val loss: 0.5631859396633349, Val f1: 0.7671604156494141\n",
            "\n",
            "starting Epoch 5\n",
            "Training...\n",
            "Train loss: 0.5343416248049054\n",
            "Train loss: 0.52201725491162\n",
            "Train loss: 0.5176557221195914\n",
            "Train loss: 0.5131801594111879\n",
            "Train loss: 0.511929886163892\n",
            "\n",
            "Evaluating on train...\n",
            "Val loss: 0.5405018627643585, Val f1: 0.8229537010192871\n",
            "Val loss: 0.5244535464664986, Val f1: 0.7939212918281555\n",
            "Val loss: 0.5169621794061228, Val f1: 0.786525309085846\n",
            "Val loss: 0.5141660369048684, Val f1: 0.7827709913253784\n",
            "Val loss: 0.5124247251330195, Val f1: 0.7805882692337036\n",
            "\n",
            "Evaluating on test...\n",
            "Val loss: 0.7173530260721842, Val f1: 0.9821729063987732\n",
            "Val loss: 0.6108970216342381, Val f1: 0.8438304662704468\n",
            "Val loss: 0.5819277709180658, Val f1: 0.8083797693252563\n",
            "Val loss: 0.5690019488334656, Val f1: 0.7915571928024292\n",
            "Val loss: 0.5590140882291292, Val f1: 0.7825302481651306\n",
            "\n",
            "starting Epoch 6\n",
            "Training...\n",
            "Train loss: 0.540308911885534\n",
            "Train loss: 0.5211093764880608\n",
            "Train loss: 0.5109445412050594\n",
            "Train loss: 0.5055618119441857\n",
            "Train loss: 0.5037661674054893\n",
            "\n",
            "Evaluating on train...\n",
            "Val loss: 0.5350005733115333, Val f1: 0.8269809484481812\n",
            "Val loss: 0.5144326820455748, Val f1: 0.8012436628341675\n",
            "Val loss: 0.5068595097823576, Val f1: 0.794345498085022\n",
            "Val loss: 0.5030415108648397, Val f1: 0.7904173731803894\n",
            "Val loss: 0.5014460944646114, Val f1: 0.7862535119056702\n",
            "\n",
            "Evaluating on test...\n",
            "Val loss: 0.7111760775248209, Val f1: 0.9851986765861511\n",
            "Val loss: 0.6056159223828997, Val f1: 0.843475878238678\n",
            "Val loss: 0.5767334753816779, Val f1: 0.8079973459243774\n",
            "Val loss: 0.5634435296058655, Val f1: 0.7916175127029419\n",
            "Val loss: 0.5534443353351793, Val f1: 0.7823032140731812\n",
            "\n",
            "starting Epoch 7\n",
            "Training...\n",
            "Train loss: 0.5311159597975867\n",
            "Train loss: 0.509057694468005\n",
            "Train loss: 0.5021277117458257\n",
            "Train loss: 0.4984590946617773\n",
            "Train loss: 0.4963795421896754\n",
            "\n",
            "Evaluating on train...\n",
            "Val loss: 0.5227626647268023, Val f1: 0.8259055018424988\n",
            "Val loss: 0.5050099163219847, Val f1: 0.7971903681755066\n",
            "Val loss: 0.49802677401087503, Val f1: 0.7890231609344482\n",
            "Val loss: 0.4942531464463573, Val f1: 0.7847551703453064\n",
            "Val loss: 0.4919769486060014, Val f1: 0.7834628224372864\n",
            "\n",
            "Evaluating on test...\n",
            "Val loss: 0.7068458398183187, Val f1: 0.9698777198791504\n",
            "Val loss: 0.6009088669504438, Val f1: 0.8347607254981995\n",
            "Val loss: 0.5718678886240179, Val f1: 0.8002579212188721\n",
            "Val loss: 0.5583668351173401, Val f1: 0.7837818264961243\n",
            "Val loss: 0.548568047975239, Val f1: 0.7739566564559937\n",
            "\n",
            "starting Epoch 8\n",
            "Training...\n",
            "Train loss: 0.5124974868127278\n",
            "Train loss: 0.4958356834691146\n",
            "Train loss: 0.4922786016355861\n",
            "Train loss: 0.4888595206252599\n",
            "Train loss: 0.48783592799225367\n",
            "\n",
            "Evaluating on train...\n",
            "Val loss: 0.5146597240652356, Val f1: 0.8415111303329468\n",
            "Val loss: 0.494276459874778, Val f1: 0.8135261535644531\n",
            "Val loss: 0.48943413387645374, Val f1: 0.8052800893783569\n",
            "Val loss: 0.4861936761161028, Val f1: 0.8009260892868042\n",
            "Val loss: 0.48523147444467285, Val f1: 0.7972890138626099\n",
            "\n",
            "Evaluating on test...\n",
            "Val loss: 0.7031082908312479, Val f1: 0.9991132616996765\n",
            "Val loss: 0.5984759671347482, Val f1: 0.853365421295166\n",
            "Val loss: 0.5697376998988065, Val f1: 0.8173801898956299\n",
            "Val loss: 0.5563498655954997, Val f1: 0.7997596859931946\n",
            "Val loss: 0.5460847082890963, Val f1: 0.7905701994895935\n",
            "\n",
            "starting Epoch 9\n",
            "Training...\n",
            "Train loss: 0.5142322650977543\n",
            "Train loss: 0.4905061762908409\n",
            "Train loss: 0.48457900366999884\n",
            "Train loss: 0.48056064874438914\n",
            "Train loss: 0.47896502589857254\n",
            "\n",
            "Evaluating on train...\n",
            "Val loss: 0.5025723512683596, Val f1: 0.8347349166870117\n",
            "Val loss: 0.4848006819856578, Val f1: 0.8097031712532043\n",
            "Val loss: 0.4787459854375232, Val f1: 0.8013197183609009\n",
            "Val loss: 0.4768452785782895, Val f1: 0.7968119978904724\n",
            "Val loss: 0.473603643275596, Val f1: 0.7961280941963196\n",
            "\n",
            "Evaluating on test...\n",
            "Val loss: 0.6981247862180074, Val f1: 0.9813594818115234\n",
            "Val loss: 0.593007070677621, Val f1: 0.8425071835517883\n",
            "Val loss: 0.5638749436898665, Val f1: 0.8072859048843384\n",
            "Val loss: 0.5501218398412069, Val f1: 0.7902470827102661\n",
            "Val loss: 0.5401992907649592, Val f1: 0.7806459069252014\n",
            "\n",
            "starting Epoch 10\n",
            "Training...\n",
            "Train loss: 0.5086283705064228\n",
            "Train loss: 0.4909202168727743\n",
            "Train loss: 0.48269306123256683\n",
            "Train loss: 0.4768927233704066\n",
            "Train loss: 0.4750682542452941\n",
            "\n",
            "Evaluating on train...\n",
            "Val loss: 0.48850974653448376, Val f1: 0.845569908618927\n",
            "Val loss: 0.47056236554836406, Val f1: 0.8167112469673157\n",
            "Val loss: 0.46749103543433274, Val f1: 0.8087936639785767\n",
            "Val loss: 0.4658721953125323, Val f1: 0.8031455874443054\n",
            "Val loss: 0.4646777128045623, Val f1: 0.8007898330688477\n",
            "\n",
            "Evaluating on test...\n",
            "Val loss: 0.6969519058863322, Val f1: 0.9850148558616638\n",
            "Val loss: 0.5912020121301923, Val f1: 0.8459267616271973\n",
            "Val loss: 0.561828223141757, Val f1: 0.8097944259643555\n",
            "Val loss: 0.5478724002838135, Val f1: 0.7927007675170898\n",
            "Val loss: 0.5378031056178244, Val f1: 0.7834601998329163\n",
            "\n",
            "starting Epoch 11\n",
            "Training...\n",
            "Train loss: 0.49590702780655455\n",
            "Train loss: 0.4794888290865668\n",
            "Train loss: 0.475194588303566\n",
            "Train loss: 0.471885971598706\n",
            "Train loss: 0.47023787248778987\n",
            "\n",
            "Evaluating on train...\n",
            "Val loss: 0.4818353461367743, Val f1: 0.8603090047836304\n",
            "Val loss: 0.4656661666672805, Val f1: 0.8295221924781799\n",
            "Val loss: 0.461323774673722, Val f1: 0.8180919289588928\n",
            "Val loss: 0.458541802430557, Val f1: 0.8143845796585083\n",
            "Val loss: 0.4567904291120735, Val f1: 0.8111634850502014\n",
            "\n",
            "Evaluating on test...\n",
            "Val loss: 0.6906873981157938, Val f1: 0.9935634732246399\n",
            "Val loss: 0.5863778250558036, Val f1: 0.8535456657409668\n",
            "Val loss: 0.5574629469351335, Val f1: 0.8176277279853821\n",
            "Val loss: 0.5436892728010814, Val f1: 0.8012807369232178\n",
            "Val loss: 0.533564202095333, Val f1: 0.7916154861450195\n",
            "\n",
            "starting Epoch 12\n",
            "Training...\n",
            "Train loss: 0.4914697749274118\n",
            "Train loss: 0.4667578267640081\n",
            "Train loss: 0.46458157761530444\n",
            "Train loss: 0.4628316598423457\n",
            "Train loss: 0.46173578379927455\n",
            "\n",
            "Evaluating on train...\n",
            "Val loss: 0.4746206040893282, Val f1: 0.8621605038642883\n",
            "Val loss: 0.4607582698608267, Val f1: 0.8324045538902283\n",
            "Val loss: 0.45619200373237784, Val f1: 0.8213390707969666\n",
            "Val loss: 0.4548581687070556, Val f1: 0.8157298564910889\n",
            "Val loss: 0.45354822318296173, Val f1: 0.8132947683334351\n",
            "\n",
            "Evaluating on test...\n",
            "Val loss: 0.6920768618583679, Val f1: 0.9942134022712708\n",
            "Val loss: 0.5869436689785549, Val f1: 0.8524823784828186\n",
            "Val loss: 0.5578079332004894, Val f1: 0.8164582848548889\n",
            "Val loss: 0.5440263708432516, Val f1: 0.800716757774353\n",
            "Val loss: 0.5338140224155626, Val f1: 0.7912614941596985\n",
            "\n",
            "starting Epoch 13\n",
            "Training...\n",
            "Train loss: 0.47722932270595003\n",
            "Train loss: 0.46607604417307624\n",
            "Train loss: 0.4611102450977672\n",
            "Train loss: 0.4573006094512293\n",
            "Train loss: 0.4561693185084575\n",
            "\n",
            "Evaluating on train...\n",
            "Val loss: 0.4736502489873341, Val f1: 0.8634428381919861\n",
            "Val loss: 0.4547176093890749, Val f1: 0.8349093198776245\n",
            "Val loss: 0.44894753057848324, Val f1: 0.8249065279960632\n",
            "Val loss: 0.4449983224020166, Val f1: 0.8208945393562317\n",
            "Val loss: 0.44305477875310023, Val f1: 0.8190229535102844\n",
            "\n",
            "Evaluating on test...\n",
            "Val loss: 0.6879554589589437, Val f1: 0.9962164759635925\n",
            "Val loss: 0.5832971973078591, Val f1: 0.8547121286392212\n",
            "Val loss: 0.5541366582567041, Val f1: 0.8181531429290771\n",
            "Val loss: 0.5402891755104064, Val f1: 0.8011370897293091\n",
            "Val loss: 0.5301543803591477, Val f1: 0.7919836640357971\n",
            "\n",
            "starting Epoch 14\n",
            "Training...\n",
            "Train loss: 0.48069338713373455\n",
            "Train loss: 0.4585062111246175\n",
            "Train loss: 0.45298397744243796\n",
            "Train loss: 0.4503323582269378\n",
            "Train loss: 0.448985233097463\n",
            "\n",
            "Evaluating on train...\n",
            "Val loss: 0.46911996815885815, Val f1: 0.8541695475578308\n",
            "Val loss: 0.45353125395445987, Val f1: 0.823860228061676\n",
            "Val loss: 0.4457451992414214, Val f1: 0.8164991736412048\n",
            "Val loss: 0.4417145848274231, Val f1: 0.812608003616333\n",
            "Val loss: 0.43941887045228806, Val f1: 0.8100335001945496\n",
            "\n",
            "Evaluating on test...\n",
            "Val loss: 0.6962928970654806, Val f1: 0.9750800132751465\n",
            "Val loss: 0.5882596160684314, Val f1: 0.8409867286682129\n",
            "Val loss: 0.5579626126722856, Val f1: 0.8052672743797302\n",
            "Val loss: 0.5435755670070648, Val f1: 0.7870718240737915\n",
            "Val loss: 0.5336505974593916, Val f1: 0.7780740857124329\n"
          ]
        }
      ]
    },
    {
      "cell_type": "code",
      "metadata": {
        "colab": {
          "base_uri": "https://localhost:8080/",
          "height": 295
        },
        "id": "mjMr5Y0fJVnV",
        "outputId": "ce852871-a4ad-4dd4-a427-afc22e3781a6"
      },
      "source": [
        "plt.plot(losses)\n",
        "plt.plot(losses_eval)\n",
        "plt.title('BCE loss value')\n",
        "plt.ylabel('BCE loss')\n",
        "plt.xlabel('epoch')\n",
        "plt.legend(['train', 'val'], loc='upper right')\n",
        "plt.show()"
      ],
      "execution_count": 286,
      "outputs": [
        {
          "output_type": "display_data",
          "data": {
            "image/png": "[encoded data removed]",
            "text/plain": [
              "<Figure size 432x288 with 1 Axes>"
            ]
          },
          "metadata": {
            "needs_background": "light"
          }
        }
      ]
    },
    {
      "cell_type": "code",
      "metadata": {
        "colab": {
          "base_uri": "https://localhost:8080/",
          "height": 295
        },
        "id": "QwOKjhpcJZLl",
        "outputId": "496f5498-d762-470b-e267-3faabf9d21f8"
      },
      "source": [
        "plt.plot(f1s)\n",
        "plt.plot(f1s_eval)\n",
        "plt.title('f1 value')\n",
        "plt.ylabel('f1 value')\n",
        "plt.xlabel('epoch')\n",
        "plt.legend(['train', 'val'], loc='upper right')\n",
        "plt.show()"
      ],
      "execution_count": 287,
      "outputs": [
        {
          "output_type": "display_data",
          "data": {
            "image/png": "[encoded data removed]",
            "text/plain": [
              "<Figure size 432x288 with 1 Axes>"
            ]
          },
          "metadata": {
            "needs_background": "light"
          }
        }
      ]
    },
    {
      "cell_type": "markdown",
      "metadata": {
        "id": "z0j4yywUSNPR"
      },
      "source": [
        "Даже маленькое улучшение -- это улучшение"
      ]
    },
    {
      "cell_type": "code",
      "metadata": {
        "colab": {
          "base_uri": "https://localhost:8080/"
        },
        "id": "uQC2YCk9Jb_9",
        "outputId": "e40d349f-c882-42ef-ba5b-f2add139afa0"
      },
      "source": [
        "fp, fn, tp, tn = predict(model, val_iterator)\n",
        "precision = len(tp)/(len(tp)+len(fp))\n",
        "recall = len(tp)/(len(tp)+len(fn))\n",
        "f1_score = 2*((precision*recall)/(precision+recall))\n",
        "f1_score"
      ],
      "execution_count": 288,
      "outputs": [
        {
          "output_type": "execute_result",
          "data": {
            "text/plain": [
              "0.7392620721506645"
            ]
          },
          "metadata": {},
          "execution_count": 288
        }
      ]
    },
    {
      "cell_type": "markdown",
      "metadata": {
        "id": "ISkxnRHGV3hH"
      },
      "source": [
        "Можно было еще конечно не делать препроц и оставить скобки и другие символы. В таком случае, модель бы очень точно определяла тональность твиттов (вплоть до f-score=0.99). Я понимаю, что так можно было сделать, но решил посмотреть можно ли еще как-то поменять параметры модели, чтобы достичь улучшений."
      ]
    }
  ]
}